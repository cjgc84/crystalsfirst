{
  "nbformat": 4,
  "nbformat_minor": 0,
  "metadata": {
    "accelerator": "GPU",
    "colab": {
      "name": "InceptionV3_Predicting.ipynb",
      "provenance": [],
      "collapsed_sections": [],
      "toc_visible": true
    },
    "kernelspec": {
      "display_name": "Python 3",
      "language": "python",
      "name": "python3"
    },
    "language_info": {
      "codemirror_mode": {
        "name": "ipython",
        "version": 3
      },
      "file_extension": ".py",
      "mimetype": "text/x-python",
      "name": "python",
      "nbconvert_exporter": "python",
      "pygments_lexer": "ipython3",
      "version": "3.8.5"
    }
  },
  "cells": [
    {
      "cell_type": "code",
      "metadata": {
        "id": "L1WtoaOHVrVh"
      },
      "source": [
        "import numpy as np\n",
        "import os\n",
        "import pandas as pd\n",
        "import tensorflow as tf\n",
        "from tensorflow import keras"
      ],
      "execution_count": 17,
      "outputs": []
    },
    {
      "cell_type": "markdown",
      "metadata": {
        "id": "anqiK_AGI086"
      },
      "source": [
        "#Mount gdrive"
      ]
    },
    {
      "cell_type": "code",
      "metadata": {
        "colab": {
          "base_uri": "https://localhost:8080/"
        },
        "id": "v6rPivHB2wEh",
        "outputId": "b05e1383-6f02-49ad-8af3-24a57d7eea10"
      },
      "source": [
        "from google.colab import drive\n",
        "#drive.flush_and_unmount() #you can unmount your drive with this code\n",
        "drive.mount('/gdrive', force_remount=True)\n"
      ],
      "execution_count": 2,
      "outputs": [
        {
          "output_type": "stream",
          "text": [
            "Mounted at /gdrive\n"
          ],
          "name": "stdout"
        }
      ]
    },
    {
      "cell_type": "markdown",
      "metadata": {
        "id": "B4cgx7VzDH6z"
      },
      "source": [
        "### Project Folder path"
      ]
    },
    {
      "cell_type": "code",
      "metadata": {
        "colab": {
          "base_uri": "https://localhost:8080/"
        },
        "id": "Al0wP2kSkS3V",
        "outputId": "517792a5-4b75-47e4-9bfb-b644b9d9910d"
      },
      "source": [
        "project_dir = \"/gdrive/My Drive/Final_Project_CrystalsFirst/Model/\"\n",
        "%cd {project_dir} "
      ],
      "execution_count": 3,
      "outputs": [
        {
          "output_type": "stream",
          "text": [
            "/gdrive/My Drive/Final_Project_CrystalsFirst/Model\n"
          ],
          "name": "stdout"
        }
      ]
    },
    {
      "cell_type": "markdown",
      "metadata": {
        "id": "KBxmfewRaSfj"
      },
      "source": [
        "# Load the pre-trained model"
      ]
    },
    {
      "cell_type": "code",
      "metadata": {
        "id": "b2th-kKAtrlL"
      },
      "source": [
        "#make sure to load the correct model in case you reset the runtime\n",
        "new_model = tf.keras.models.load_model('saved_model/Inception_Pre-trained_Model')"
      ],
      "execution_count": 6,
      "outputs": []
    },
    {
      "cell_type": "markdown",
      "metadata": {
        "id": "0EKdoPAW3Gwi"
      },
      "source": [
        "# Predict using pre-trained model"
      ]
    },
    {
      "cell_type": "code",
      "metadata": {
        "id": "DCOlCKzKa3LG"
      },
      "source": [
        "classes = [\"crystal\", \"no_crystal\"]\n",
        "IMG_SIZE = 224\n",
        "folder_path = \"/gdrive/My Drive/Final_Project_CrystalsFirst/Model/labels/new_data/\"\n",
        "\n",
        "predictions = {}\n",
        "\n",
        "for filename in os.listdir(folder_path):\n",
        "    if filename.endswith(\".jpg\") or filename.endswith(\".JPG\"):\n",
        "      img = keras.preprocessing.image.load_img(folder_path+filename,\n",
        "                                               target_size=(IMG_SIZE, IMG_SIZE))\n",
        "      img_array = keras.preprocessing.image.img_to_array(img)/255\n",
        "      img_array = tf.expand_dims(img_array, 0)\n",
        "      pred = new_model.predict(img_array)\n",
        "      predictions[filename] = (classes[np.argmax(pred)],\n",
        "                               (\"confidance of {:.2f}%\".format(100 * np.max(pred))))\n",
        "\n",
        "df_pred = pd.DataFrame.from_dict(predictions, orient=\"index\")"
      ],
      "execution_count": null,
      "outputs": []
    },
    {
      "cell_type": "code",
      "metadata": {
        "id": "KasONBTl4_BN"
      },
      "source": [
        "df_pred"
      ],
      "execution_count": null,
      "outputs": []
    }
  ]
}