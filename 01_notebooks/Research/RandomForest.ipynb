{
  "nbformat": 4,
  "nbformat_minor": 0,
  "metadata": {
    "colab": {
      "name": "RandomForest.ipynb",
      "provenance": [],
      "collapsed_sections": []
    },
    "kernelspec": {
      "display_name": "Python 3",
      "name": "python3"
    }
  },
  "cells": [
    {
      "cell_type": "code",
      "metadata": {
        "id": "k6I9lr27Rilr"
      },
      "source": [
        "from sklearn.ensemble import RandomForestClassifier\n",
        "import pandas as pd\n",
        "import numpy as np\n",
        "import sys\n",
        "import os\n",
        "import cv2\n",
        "import matplotlib.pyplot as plt\n",
        "import tensorflow as tf\n",
        "\n",
        "from tensorflow import keras\n",
        "from tensorflow.keras import layers\n",
        "\n",
        "from sklearn.metrics import confusion_matrix, ConfusionMatrixDisplay, f1_score, classification_report, precision_score, recall_score\n",
        "from sklearn.model_selection import train_test_split\n",
        "\n",
        "#################################\n",
        "# from xgboost import XGBClassifier\n",
        "# from sklearn.ensemble import AdaBoostClassifier\n",
        "\n",
        "# from sklearn.pipeline import Pipeline\n",
        "# from sklearn.feature_selection import SelectKBest, f_classif\n",
        "# from sklearn.datasets import make_classification\n",
        "# from sklearn.preprocessing import StandardScaler\n",
        "# from sklearn.metrics import classification_report, confusion_matrix, accuracy_score, f1_score, roc_curve, roc_auc_score\n",
        "# from sklearn.model_selection import train_test_split, cross_val_score, RandomizedSearchCV, GridSearchCV\n",
        "# from imblearn.over_sampling import SMOTENC\n",
        "# from imblearn.under_sampling import RandomUnderSampler\n",
        "# from bayes_opt import BayesianOptimization\n",
        "# from sklearn.linear_model import LogisticRegression\n",
        "# from sklearn.compose import ColumnTransformer\n",
        "# from sklearn.impute import SimpleImputer\n",
        "# from sklearn.preprocessing import StandardScaler, MinMaxScaler, OneHotEncoder\n",
        "# from sklearn.metrics import average_precision_score, precision_recall_curve, plot_precision_recall_curve"
      ],
      "execution_count": null,
      "outputs": []
    },
    {
      "cell_type": "code",
      "metadata": {
        "id": "shLQBTyJPoYK"
      },
      "source": [
        "from google.colab import drive\n",
        "#drive.flush_and_unmount() #you can unmount your drive with this code\n",
        "drive.mount('/gdrive', force_remount=True)"
      ],
      "execution_count": null,
      "outputs": []
    },
    {
      "cell_type": "code",
      "metadata": {
        "id": "14i9BCeAPxLa"
      },
      "source": [
        "project_dir = \"/gdrive/My Drive/Final_Project_CrystalsFirst/Model/\"\n",
        "%cd {project_dir}"
      ],
      "execution_count": null,
      "outputs": []
    },
    {
      "cell_type": "markdown",
      "metadata": {
        "id": "GdN4X0PgP6fa"
      },
      "source": [
        "# Loading Saved Models\n"
      ]
    },
    {
      "cell_type": "code",
      "metadata": {
        "id": "JmFld0qQQEKx"
      },
      "source": [
        "# import logging\n",
        "# tf.get_logger().setLevel(logging.ERROR)\n",
        "\n",
        "# new_model_EffNet = tf.keras.models.load_model('saved_model/EffNet')\n",
        "\n",
        "# tf.get_logger().setLevel(logging.INFO)"
      ],
      "execution_count": null,
      "outputs": []
    },
    {
      "cell_type": "code",
      "metadata": {
        "id": "KQBzVTRlP9R5"
      },
      "source": [
        "# new_model_ResNet = tf.keras.models.load_model('saved_model/ResNet')"
      ],
      "execution_count": null,
      "outputs": []
    },
    {
      "cell_type": "code",
      "metadata": {
        "id": "ZND-69AyQESh"
      },
      "source": [
        "new_model_Inception = tf.keras.models.load_model('saved_model/Inception_9')"
      ],
      "execution_count": null,
      "outputs": []
    },
    {
      "cell_type": "code",
      "metadata": {
        "id": "m7lp_BQLQEZU"
      },
      "source": [
        "new_model_VGG19 = tf.keras.models.load_model('saved_model/VGG19_batch_16_epoch_50')"
      ],
      "execution_count": null,
      "outputs": []
    },
    {
      "cell_type": "markdown",
      "metadata": {
        "id": "OVayeSokQRTS"
      },
      "source": [
        "# Create DataFrame to collect predictions"
      ]
    },
    {
      "cell_type": "code",
      "metadata": {
        "id": "hvrX33YPi9cY"
      },
      "source": [
        "### Create DataFrame with test images to be populated by the prediction of each model \n",
        "\n",
        "folder_path = \"/gdrive/My Drive/Final_Project_CrystalsFirst/Model/labels/test/\"\n",
        "img_files = {}\n",
        "for filename in os.listdir(folder_path):\n",
        "    if (filename.endswith(\".jpg\") or filename.endswith(\".JPG\")):\n",
        "      img_files[filename] = ()\n",
        "\n",
        "df_img = pd.DataFrame.from_dict(img_files, orient=\"index\")"
      ],
      "execution_count": null,
      "outputs": []
    },
    {
      "cell_type": "code",
      "metadata": {
        "id": "noM7c84Hl-p5"
      },
      "source": [
        "df_img.head(2)"
      ],
      "execution_count": null,
      "outputs": []
    },
    {
      "cell_type": "code",
      "metadata": {
        "id": "o06F3WKqj39R"
      },
      "source": [
        "### import JSON file with true labels\n",
        "df_json = pd.read_json(project_dir+\"source/image_labels.json\",\n",
        "                       orient=\"columns\")"
      ],
      "execution_count": null,
      "outputs": []
    },
    {
      "cell_type": "code",
      "metadata": {
        "id": "CJahXGzCXQ5F"
      },
      "source": [
        "df_json.head(2)\n",
        "len(df_json)"
      ],
      "execution_count": null,
      "outputs": []
    },
    {
      "cell_type": "code",
      "metadata": {
        "id": "_g5VbpfElyuK"
      },
      "source": [
        "### Merge DataFrames\n",
        "\n",
        "df_pred = df_img.join(df_json, on=None, how='left')\n",
        "# df_pred[\"y_true\"] = df_pred[\"binary_label\"]\n",
        "# df_pred.drop(\"binary_label\", axis=1, inplace=True)\n",
        "df_pred.head(2)"
      ],
      "execution_count": null,
      "outputs": []
    },
    {
      "cell_type": "code",
      "metadata": {
        "id": "D5V8_39-byx9"
      },
      "source": [
        "len(df_pred)"
      ],
      "execution_count": null,
      "outputs": []
    },
    {
      "cell_type": "markdown",
      "metadata": {
        "id": "0v52YrbRyEqW"
      },
      "source": [
        "# Predict and collect in Dataframe"
      ]
    },
    {
      "cell_type": "code",
      "metadata": {
        "id": "TCLVeAvOi3gI"
      },
      "source": [
        "IMG_SIZE = 229\n",
        "classes = ['crystal', 'no_crystal']\n",
        "folder_path = \"/gdrive/My Drive/Final_Project_CrystalsFirst/Model/labels/test/\"\n",
        "\n",
        "# models = [new_model_ResNet, new_model_EffNet, new_model_Inception , new_model_VGG19]\n",
        "models = [new_model_Inception]\n",
        "\n",
        "# models_names = [\"ResNet\", \"EffNet\", \"Inception\", \"VGG19\"]\n",
        "models_names = [\"Inception\"]\n",
        "\n",
        "i=0\n",
        "for new_model in models:\n",
        "  predictions = {}\n",
        "  for filename in os.listdir(folder_path):\n",
        "    if (filename.endswith(\".jpg\") or filename.endswith(\".JPG\")):\n",
        "        img = keras.preprocessing.image.load_img(folder_path+filename, target_size=(IMG_SIZE, IMG_SIZE))\n",
        "        img_array = keras.preprocessing.image.img_to_array(img)/255\n",
        "        img_array = tf.expand_dims(img_array, 0)    \n",
        "        pred = new_model.predict(img_array)\n",
        "        predictions[filename] = (classes[np.argmax(pred)], (np.max(pred)))\n",
        "  # df_pred[models_names[i]+ \"_file\"]   = predictions.keys()\n",
        "  df_pred[models_names[i] + \"_label\"] = ([t[0] for t in predictions.values()])\n",
        "  df_pred[models_names[i] + \"_pred\"]  = ([t[1] for t in predictions.values()])\n",
        "  i=i+1"
      ],
      "execution_count": null,
      "outputs": []
    },
    {
      "cell_type": "code",
      "metadata": {
        "id": "yytKwTMDW4f6"
      },
      "source": [
        "df_pred[df_pred['y_true']!=df_pred['Inception_label']]"
      ],
      "execution_count": null,
      "outputs": []
    },
    {
      "cell_type": "code",
      "metadata": {
        "id": "oJvjxCareLxZ"
      },
      "source": [
        "df_pred[df_pred['y_true']!=df_pred['VGG19_label']]"
      ],
      "execution_count": null,
      "outputs": []
    },
    {
      "cell_type": "markdown",
      "metadata": {
        "id": "pT3W7k_uvBQI"
      },
      "source": [
        "# Train / Test split"
      ]
    },
    {
      "cell_type": "code",
      "metadata": {
        "id": "_qrVKARsx8VY"
      },
      "source": [
        "X = df_pred.iloc[:,1:]\n",
        "Y = df_pred.iloc[:,0]\n",
        "\n",
        "X_train,X_test,y_train,y_test = train_test_split(X, Y, test_size=0.3)"
      ],
      "execution_count": null,
      "outputs": []
    },
    {
      "cell_type": "code",
      "metadata": {
        "id": "J2cb35cAy367"
      },
      "source": [
        "X_train.head(2)"
      ],
      "execution_count": null,
      "outputs": []
    },
    {
      "cell_type": "code",
      "metadata": {
        "id": "pTgC64V1ye4F"
      },
      "source": [
        "y_train.head(2)"
      ],
      "execution_count": null,
      "outputs": []
    },
    {
      "cell_type": "markdown",
      "metadata": {
        "id": "hVd2PwcvyNfU"
      },
      "source": [
        "## Adjust probabilities of wrongly classified images"
      ]
    },
    {
      "cell_type": "code",
      "metadata": {
        "id": "mYC4AgyIvdFn"
      },
      "source": [
        "# only apply to training set\n",
        "# col_label = X_train.columns[[0,1,2,3,4,5,6,7]]\n",
        "# Iterate over given columns only \n",
        "for column in [1,3]:\n",
        "   for row in range(len(X_train)): \n",
        "     if (X_train.iloc[row, column-1] == y_train.iloc[row]):\n",
        "       pass\n",
        "     else:\n",
        "       X_train.iloc[row, column] = 1 - X_train.iloc[row, column]\n",
        "       #  print(col_label[column], X_train.iloc[row, 0],X_train.iloc[row, column-1], X_train.iloc[row, column])"
      ],
      "execution_count": null,
      "outputs": []
    },
    {
      "cell_type": "code",
      "metadata": {
        "id": "R143DZaQW4lD"
      },
      "source": [
        "# # only apply to training set\n",
        "# col_label = df_pred.columns[[0,1,2,3,4,5,6,7,8]]\n",
        "# # Iterate over given columns only \n",
        "# for column in [2,4,6,8]:\n",
        "#    for row in range(len(df_pred)): \n",
        "#      if (df_pred.iloc[row, column-1] == df_pred.iloc[row, 0]):\n",
        "#        pass\n",
        "#      else:\n",
        "#        df_pred.iloc[row, column] = 1 - df_pred.iloc[row, column]\n",
        "#        #  print(col_label[column], df_pred.iloc[row, 0],df_pred.iloc[row, column-1], df_pred.iloc[row, column])\n",
        "\n",
        "\n",
        "# df_pred = df_pred.drop([\"ResNet_label\",\"EffNet_label\",\"Inception_label\",\"VGG19_label\"] , axis=1)"
      ],
      "execution_count": null,
      "outputs": []
    },
    {
      "cell_type": "code",
      "metadata": {
        "id": "hSec-pvfuXXH"
      },
      "source": [
        "# X_train = X_train.drop([\"ResNet_label\",\"EffNet_label\",\"Inception_label\",\"VGG19_label\"] , axis=1)\n",
        "# X_test = X_test.drop([\"ResNet_label\",\"EffNet_label\",\"Inception_label\",\"VGG19_label\"] , axis=1)\n",
        "\n",
        "X_train = X_train.drop([\"Inception_label\",\"VGG19_label\"] , axis=1)\n",
        "X_test = X_test.drop([\"Inception_label\",\"VGG19_label\"] , axis=1)"
      ],
      "execution_count": null,
      "outputs": []
    },
    {
      "cell_type": "code",
      "metadata": {
        "id": "XcrIbgOVvE7c"
      },
      "source": [
        "# \"\"\"\n",
        "# to test combination of models\n",
        "# \"\"\"\n",
        "# # df_pred = df_pred.drop([\"EffNet_pred\"] , axis=1)  ## \"ResNet_pred\",\"EffNet_pred\",\"Inception_pred\",\"VGG19_pred\"\n",
        "# X_train = X_train.drop([\"ResNet_pred\",\"EffNet_pred\"] , axis=1)\n",
        "# X_test = X_test.drop([\"ResNet_pred\",\"EffNet_pred\"] , axis=1)"
      ],
      "execution_count": null,
      "outputs": []
    },
    {
      "cell_type": "markdown",
      "metadata": {
        "id": "RjRK-62TrVjm"
      },
      "source": [
        "## Random Forest train/test"
      ]
    },
    {
      "cell_type": "code",
      "metadata": {
        "id": "nBJPNUWGjktk"
      },
      "source": [
        "rfc = None\n",
        "rfc = RandomForestClassifier()\n",
        "rfc.fit(X_train, y_train)\n",
        "rfc_predictions = rfc.predict(X_test)  \n",
        "\n",
        "pd.DataFrame(rfc_predictions, index=X_test.index, columns=[\"test_pred\"])"
      ],
      "execution_count": null,
      "outputs": []
    },
    {
      "cell_type": "markdown",
      "metadata": {
        "id": "HlOTDogSq8sR"
      },
      "source": [
        "# Evaluate train/test"
      ]
    },
    {
      "cell_type": "code",
      "metadata": {
        "id": "zaVUIeNCQbtt"
      },
      "source": [
        "rfc_f1_macro = f1_score(y_test, rfc_predictions, average = 'macro')\n",
        "rfc_f1_macro"
      ],
      "execution_count": null,
      "outputs": []
    },
    {
      "cell_type": "code",
      "metadata": {
        "id": "wK3MIIrqRIej"
      },
      "source": [
        "conf_mat = confusion_matrix(y_test, rfc_predictions)\n",
        "cm_display = ConfusionMatrixDisplay(conf_mat, display_labels=['crystal', 'no_crystal']).plot()"
      ],
      "execution_count": null,
      "outputs": []
    },
    {
      "cell_type": "code",
      "metadata": {
        "id": "QyqappmQ0ScH"
      },
      "source": [
        "class_rep = classification_report(y_test, rfc_predictions, \n",
        "                                  labels = ['crystal', 'no_crystal'], \n",
        "                                  digits=2, \n",
        "                                  zero_division='warn')\n",
        "print(class_rep)"
      ],
      "execution_count": null,
      "outputs": []
    },
    {
      "cell_type": "code",
      "metadata": {
        "id": "jmnSSrYK8fhD"
      },
      "source": [
        "# ### To run ROC maybe first transform categorical features into [0,1]\n",
        "# fpr, tpr, _ = roc_curve(y_test, rfc_predictions, pos_label=rfc.classes_[1])\n",
        "# roc_display = RocCurveDisplay(fpr=fpr, tpr=tpr).plot()"
      ],
      "execution_count": null,
      "outputs": []
    },
    {
      "cell_type": "code",
      "metadata": {
        "id": "mzYd6V4AGxke"
      },
      "source": [
        ""
      ],
      "execution_count": null,
      "outputs": []
    },
    {
      "cell_type": "markdown",
      "metadata": {
        "id": "PR8EffLFrgRN"
      },
      "source": [
        "## Predict on new data"
      ]
    },
    {
      "cell_type": "code",
      "metadata": {
        "id": "El_E4DAElGCH"
      },
      "source": [
        "### Create DataFrame with test images to be populated by the prediction of each model \n",
        "\n",
        "folder_path = \"/gdrive/My Drive/Final_Project_CrystalsFirst/Model/labels/new_data/\"\n",
        "img_files = {}\n",
        "for filename in os.listdir(folder_path):\n",
        "    if (filename.endswith(\".jpg\") or filename.endswith(\".JPG\")):\n",
        "      img_files[filename] = ()\n",
        "\n",
        "X_new = pd.DataFrame.from_dict(img_files, orient=\"index\")"
      ],
      "execution_count": null,
      "outputs": []
    },
    {
      "cell_type": "code",
      "metadata": {
        "id": "eL3l2H-UkiEi"
      },
      "source": [
        "IMG_SIZE = 224\n",
        "classes = ['crystal', 'no_crystal']\n",
        "folder_path = \"/gdrive/My Drive/Final_Project_CrystalsFirst/Model/labels/new_data/\"\n",
        "\n",
        "# models = [new_model_ResNet, new_model_EffNet, new_model_Inception , new_model_VGG19]\n",
        "models = [new_model_Inception , new_model_VGG19]\n",
        "\n",
        "# models_names = [\"ResNet\", \"EffNet\", \"Inception\", \"VGG19\"]\n",
        "models_names = [\"Inception\", \"VGG19\"]\n",
        "\n",
        "i=0\n",
        "for new_model in models:\n",
        "  predictions = {}\n",
        "  for filename in os.listdir(folder_path):\n",
        "      if (filename.endswith(\".jpg\") or filename.endswith(\".JPG\")):\n",
        "        img = keras.preprocessing.image.load_img(folder_path+filename, target_size=(IMG_SIZE, IMG_SIZE))\n",
        "        img_array = keras.preprocessing.image.img_to_array(img)\n",
        "        img_array = tf.expand_dims(img_array, 0)    \n",
        "        pred = new_model.predict(img_array)\n",
        "        predictions[filename] = (classes[np.argmax(pred)], (np.max(pred))) \n",
        "  # X_new[models_names[i]+ \"_file\"]   = predictions.keys()\n",
        "  X_new[models_names[i] + \"_label\"] = ([t[0] for t in predictions.values()])\n",
        "  X_new[models_names[i] + \"_pred\"]  = ([t[1] for t in predictions.values()])\n",
        "  i=i+1"
      ],
      "execution_count": null,
      "outputs": []
    },
    {
      "cell_type": "code",
      "metadata": {
        "id": "YsgRHP3DAkO7"
      },
      "source": [
        "X_new.head(2)"
      ],
      "execution_count": null,
      "outputs": []
    },
    {
      "cell_type": "code",
      "metadata": {
        "id": "aXVCWqGHCkn8"
      },
      "source": [
        "# # only apply to training set\n",
        "# # col_label = X_new.columns[[0,1,2,3,4,5,6,7]]\n",
        "# # Iterate over given columns only \n",
        "# for column in [1,3]:\n",
        "#    for row in range(len(X_new)): \n",
        "#      if (X_new.iloc[row, column-1] == \"no_crystal\"):\n",
        "#        pass\n",
        "#      else:\n",
        "#        X_new.iloc[row, column] = 1 - X_new.iloc[row, column]\n",
        "#        #  print(col_label[column], X_new.iloc[row, 0],X_new.iloc[row, column-1], X_new.iloc[row, column])\n",
        "\n",
        "\n",
        "# X_new = X_new.drop([\"Inception_label\",\"VGG19_label\"] , axis=1)\n",
        "# # X_new = X_new.drop([\"ResNet_label\",\"EffNet_label\",\"Inception_label\",\"VGG19_label\"] , axis=1)"
      ],
      "execution_count": null,
      "outputs": []
    },
    {
      "cell_type": "code",
      "metadata": {
        "id": "X0hFhtyNDFRK"
      },
      "source": [
        "X_new = X_new.drop([\"Inception_label\",\"VGG19_label\"] , axis=1)\n",
        "X_new.head(2)"
      ],
      "execution_count": null,
      "outputs": []
    },
    {
      "cell_type": "code",
      "metadata": {
        "id": "TUPjmGPtQbrK"
      },
      "source": [
        "\"\"\" X_New must have same number of features as X_test\"\"\"\n",
        "# X_new = X_new.drop([\"ResNet_pred\",\"EffNet_pred\"] , axis=1)\n",
        "\n",
        "rfc_predictions = rfc.predict(X_new)  "
      ],
      "execution_count": null,
      "outputs": []
    },
    {
      "cell_type": "code",
      "metadata": {
        "id": "gD5Pub0J-XNF"
      },
      "source": [
        "final_df = pd.DataFrame(rfc_predictions, index=X_new.index, columns=[\"Predictions\"])\n",
        "final_df"
      ],
      "execution_count": null,
      "outputs": []
    },
    {
      "cell_type": "code",
      "metadata": {
        "id": "dLZRXDpwlxSf"
      },
      "source": [
        ""
      ],
      "execution_count": null,
      "outputs": []
    }
  ]
}