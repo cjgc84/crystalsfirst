{
  "nbformat": 4,
  "nbformat_minor": 0,
  "metadata": {
    "colab": {
      "name": "InceptionV3_Training.ipynb",
      "provenance": [],
      "collapsed_sections": [],
      "toc_visible": true
    },
    "kernelspec": {
      "display_name": "Python 3",
      "language": "python",
      "name": "python3"
    },
    "language_info": {
      "codemirror_mode": {
        "name": "ipython",
        "version": 3
      },
      "file_extension": ".py",
      "mimetype": "text/x-python",
      "name": "python",
      "nbconvert_exporter": "python",
      "pygments_lexer": "ipython3",
      "version": "3.8.5"
    }
  },
  "cells": [
    {
      "cell_type": "code",
      "metadata": {
        "id": "L1WtoaOHVrVh"
      },
      "source": [
        "import numpy as np\n",
        "import os\n",
        "import tensorflow as tf\n",
        "import pandas as pd\n",
        "import PIL\n",
        "import matplotlib.pyplot as plt\n",
        "from datetime import datetime\n",
        "from tensorflow import keras\n",
        "from tensorflow.keras import layers\n",
        "from tensorflow.keras.applications import InceptionV3\n",
        "from tensorflow.keras.preprocessing.image import img_to_array\n",
        "from tensorflow.keras.preprocessing.image import load_img\n",
        "from tensorflow.keras.applications import imagenet_utils\n",
        "from tensorflow.keras.models import Model, Sequential\n",
        "from tensorflow.keras.optimizers import Adam\n",
        "from sklearn.metrics import confusion_matrix, classification_report, ConfusionMatrixDisplay, roc_curve, roc_auc_score\n",
        "from sklearn.utils.class_weight import compute_class_weight"
      ],
      "execution_count": null,
      "outputs": []
    },
    {
      "cell_type": "markdown",
      "metadata": {
        "id": "anqiK_AGI086"
      },
      "source": [
        "# Mount gdrive"
      ]
    },
    {
      "cell_type": "code",
      "metadata": {
        "id": "v6rPivHB2wEh"
      },
      "source": [
        "from google.colab import drive\n",
        "# drive.flush_and_unmount() #you can unmount your drive with this code\n",
        "drive.mount('/gdrive', force_remount=True)"
      ],
      "execution_count": null,
      "outputs": []
    },
    {
      "cell_type": "markdown",
      "metadata": {
        "id": "B4cgx7VzDH6z"
      },
      "source": [
        "## Project Folder path"
      ]
    },
    {
      "cell_type": "code",
      "metadata": {
        "id": "Al0wP2kSkS3V"
      },
      "source": [
        "project_dir = \"/gdrive/My Drive/Final_Project_CrystalsFirst/Model/\"\n",
        "%cd {project_dir} "
      ],
      "execution_count": null,
      "outputs": []
    },
    {
      "cell_type": "markdown",
      "metadata": {
        "id": "qor7JU604tSf"
      },
      "source": [
        "# Train / Validation splitting  and  Data augmentation\n"
      ]
    },
    {
      "cell_type": "code",
      "metadata": {
        "id": "BRT_BTAFoPDw"
      },
      "source": [
        "classes = ['crystal', 'no_crystal']\n",
        "IMG_SIZE = 224\n",
        "BATCH_SIZE = 16\n",
        "\n",
        "### Training set\n",
        "train_datagen = tf.keras.preprocessing.image.ImageDataGenerator(\n",
        "                                  rescale=1./255, \n",
        "                                  validation_split=0.3,\n",
        "                                  rotation_range=45, \n",
        "                                  horizontal_flip=True,\n",
        "                                  vertical_flip=True,\n",
        "                                  brightness_range=(.8,1.2),\n",
        "                                  fill_mode='nearest'\n",
        "                                  )\n",
        "\n",
        "train_generator = train_datagen.flow_from_directory(\n",
        "                                project_dir + \"labels/training_data\",\n",
        "                                subset='training',\n",
        "                                class_mode='categorical',\n",
        "                                shuffle=True, \n",
        "                                seed=42, \n",
        "                                target_size=(IMG_SIZE, IMG_SIZE),\n",
        "                                batch_size=BATCH_SIZE\n",
        "                                )\n",
        "\n",
        "### Validation set\n",
        "val_datagen = tf.keras.preprocessing.image.ImageDataGenerator(\n",
        "                                  rescale=1./255, \n",
        "                                  validation_split=0.3\n",
        "                                  )\n",
        "\n",
        "val_generator = val_datagen.flow_from_directory(\n",
        "                                  project_dir + \"labels/training_data\",\n",
        "                                  subset='validation',\n",
        "                                  class_mode='categorical',\n",
        "                                  shuffle=True, \n",
        "                                  seed=42, \n",
        "                                  target_size=(IMG_SIZE, IMG_SIZE),\n",
        "                                  batch_size=BATCH_SIZE\n",
        "                                  )\n"
      ],
      "execution_count": null,
      "outputs": []
    },
    {
      "cell_type": "markdown",
      "metadata": {
        "id": "WLQULyAvJC3X"
      },
      "source": [
        "## Get classes from folder names"
      ]
    },
    {
      "cell_type": "code",
      "metadata": {
        "id": "B1oAT80Zy6mn"
      },
      "source": [
        "train_generator.class_indices"
      ],
      "execution_count": null,
      "outputs": []
    },
    {
      "cell_type": "markdown",
      "metadata": {
        "id": "lyBto3COuVD8"
      },
      "source": [
        "## Visualize exemple data"
      ]
    },
    {
      "cell_type": "code",
      "metadata": {
        "id": "ZpBD43cmuVch"
      },
      "source": [
        "x,y = train_generator.next()\n",
        "for i in range(0,5):\n",
        "    image = x[i]\n",
        "    plt.title(y[i])\n",
        "    plt.imshow(image)\n",
        "    plt.show()"
      ],
      "execution_count": null,
      "outputs": []
    },
    {
      "cell_type": "markdown",
      "metadata": {
        "id": "5M6BXtXFJdW0"
      },
      "source": [
        "## Shape of training input"
      ]
    },
    {
      "cell_type": "code",
      "metadata": {
        "id": "2-MfMoenJi8s"
      },
      "source": [
        "for image_batch, labels_batch in train_generator:\n",
        "    print(image_batch.shape)\n",
        "    print(labels_batch.shape)\n",
        "    break"
      ],
      "execution_count": null,
      "outputs": []
    },
    {
      "cell_type": "markdown",
      "metadata": {
        "id": "LmpeaN369d-n"
      },
      "source": [
        "## Defining the step size"
      ]
    },
    {
      "cell_type": "code",
      "metadata": {
        "id": "BeUeNhLy9Wek"
      },
      "source": [
        "steps_train = round(train_generator.n / BATCH_SIZE)\n",
        "steps_val = round(val_generator.n / BATCH_SIZE)"
      ],
      "execution_count": null,
      "outputs": []
    },
    {
      "cell_type": "markdown",
      "metadata": {
        "id": "0d1xjo3WeffQ"
      },
      "source": [
        "## Balancing Classes"
      ]
    },
    {
      "cell_type": "code",
      "metadata": {
        "id": "cOOeEaDKedHj"
      },
      "source": [
        "class_weights = compute_class_weight(class_weight='balanced',\n",
        "                                    classes=np.unique(train_generator.classes),\n",
        "                                    y=train_generator.classes)\n",
        "# class_weights"
      ],
      "execution_count": null,
      "outputs": []
    },
    {
      "cell_type": "code",
      "metadata": {
        "id": "b3OTxtcGhfaX"
      },
      "source": [
        "### class_weight has to be a dictionary format\n",
        "class_weight_dict = { i : class_weights[i] for i in range(0, len(class_weights))}\n",
        "# class_weight_dict"
      ],
      "execution_count": null,
      "outputs": []
    },
    {
      "cell_type": "code",
      "metadata": {
        "id": "eZ4RafP3i9YN"
      },
      "source": [
        "### getting number of classes\n",
        "count_classes = len(class_weights)\n",
        "# count_classes"
      ],
      "execution_count": null,
      "outputs": []
    },
    {
      "cell_type": "markdown",
      "metadata": {
        "id": "r7mkhp5RJjcy"
      },
      "source": [
        "# Setting up Inception V3"
      ]
    },
    {
      "cell_type": "code",
      "metadata": {
        "id": "sKj5HxqFCDoU"
      },
      "source": [
        "### define input tensor for model = shape of image and channels\n",
        "input_t = tf.keras.Input(shape = (224,224,3))\n",
        "\n",
        "### load a new instance of model\n",
        "InceptionV3_model = tf.keras.applications.InceptionV3(input_tensor = input_t,\n",
        "                                              include_top=False, # do not include ImageNet classifier at the top\n",
        "                                              weights='imagenet',\n",
        "                                                    )"
      ],
      "execution_count": null,
      "outputs": []
    },
    {
      "cell_type": "code",
      "metadata": {
        "id": "pEKn7vW7CF11"
      },
      "source": [
        "### get an overview of the model architecture\n",
        "# InceptionV3_model.summary()"
      ],
      "execution_count": null,
      "outputs": []
    },
    {
      "cell_type": "markdown",
      "metadata": {
        "id": "q3tFD-QsqxBa"
      },
      "source": [
        "## Transfer Learning of InceptionV3\n"
      ]
    },
    {
      "cell_type": "code",
      "metadata": {
        "id": "ThuhRyXgDUlK"
      },
      "source": [
        "### Making the model trainable in general except \n",
        "### for the batch normalization layers which should never be trained\n",
        "InceptionV3_model.trainable = True\n",
        "for layer in InceptionV3_model.layers:\n",
        "    if('batch_normalization_' in layer.name):\n",
        "        layer.trainable = False"
      ],
      "execution_count": null,
      "outputs": []
    },
    {
      "cell_type": "code",
      "metadata": {
        "id": "IMnOcoayfYNt"
      },
      "source": [
        "### Fine-tune from this layer onward. This means most layers remain closed and will not be trained\n",
        "fine_tune_at = 287\n",
        "### Freeze all the layers before the `fine_tune_at` layer\n",
        "for layer in InceptionV3_model.layers[:fine_tune_at]:\n",
        "    layer.trainable =  False"
      ],
      "execution_count": null,
      "outputs": []
    },
    {
      "cell_type": "code",
      "metadata": {
        "id": "zu7glWh7DgXe"
      },
      "source": [
        "### visualize layers\n",
        "# for layer in InceptionV3_model.layers:\n",
        "#   print(layer.name, '->', layer.trainable)"
      ],
      "execution_count": null,
      "outputs": []
    },
    {
      "cell_type": "code",
      "metadata": {
        "id": "5ZnbjIR9DhPw"
      },
      "source": [
        "### Inception output layer\n",
        "last_conv_layer = InceptionV3_model.get_layer('mixed10')"
      ],
      "execution_count": null,
      "outputs": []
    },
    {
      "cell_type": "markdown",
      "metadata": {
        "id": "L-mg_vwvJnQM"
      },
      "source": [
        "# Setting up New Model"
      ]
    },
    {
      "cell_type": "code",
      "metadata": {
        "id": "uNwLCFExD4wy"
      },
      "source": [
        "num_classes = len(classes)\n",
        "### Inception\n",
        "conv_model = Model(inputs=InceptionV3_model.input, outputs=last_conv_layer.output)\n",
        "### Start a new Keras Sequential model\n",
        "new_model = Sequential()\n",
        "### Add the convolutional part of the model from above \n",
        "new_model.add(conv_model)\n",
        "### Add a global average pooling layer before the final dense layer\n",
        "new_model.add(tf.keras.layers.GlobalAveragePooling2D())\n",
        "### adding dropout layer to further prevent overfitting\n",
        "new_model.add(tf.keras.layers.Dropout(0.2)) \n",
        "### Add a final dense (=fully-connected) layer.\n",
        "### note that the number of nodes is the same as the number of classes \n",
        "new_model.add(tf.keras.layers.Dense(num_classes, activation='softmax')) "
      ],
      "execution_count": null,
      "outputs": []
    },
    {
      "cell_type": "markdown",
      "metadata": {
        "id": "Wkk6a0MtTXbu"
      },
      "source": [
        "## Optimizer"
      ]
    },
    {
      "cell_type": "code",
      "metadata": {
        "id": "RD_E6MS46Dxg"
      },
      "source": [
        "### defining an optimizer for compilation\n",
        "optimizer = Adam(lr=1e-4)\n",
        "# optimizer.lr.numpy()"
      ],
      "execution_count": null,
      "outputs": []
    },
    {
      "cell_type": "markdown",
      "metadata": {
        "id": "EaKFzz72Lqpg"
      },
      "source": [
        "## Compile the model"
      ]
    },
    {
      "cell_type": "code",
      "metadata": {
        "id": "CO1rWvOfmWxD"
      },
      "source": [
        "new_model.compile(optimizer= optimizer,\n",
        "              loss=tf.keras.losses.CategoricalCrossentropy(from_logits=False),\n",
        "              metrics=[tf.keras.metrics.CategoricalAccuracy()])"
      ],
      "execution_count": null,
      "outputs": []
    },
    {
      "cell_type": "markdown",
      "metadata": {
        "id": "aMJ4DnuJL55A"
      },
      "source": [
        "## Model summary"
      ]
    },
    {
      "cell_type": "code",
      "metadata": {
        "id": "llLYH-BXL7Xe"
      },
      "source": [
        "### get an overview of the New Model architecture\n",
        "# new_model.summary()"
      ],
      "execution_count": null,
      "outputs": []
    },
    {
      "cell_type": "code",
      "metadata": {
        "id": "uJxvjEdECs8m"
      },
      "source": [
        "### visualize New Model layers\n",
        "# for layer in new_model.layers:\n",
        "#     print(layer.name, '->', layer.trainable)"
      ],
      "execution_count": null,
      "outputs": []
    },
    {
      "cell_type": "markdown",
      "metadata": {
        "id": "NiYHcbvaL9H-"
      },
      "source": [
        "## Train the model"
      ]
    },
    {
      "cell_type": "code",
      "metadata": {
        "id": "5fWToCqYMErH"
      },
      "source": [
        "epochs = 50\n",
        "history = new_model.fit(\n",
        "  train_generator,\n",
        "  steps_per_epoch=steps_train,\n",
        "  validation_data=val_generator,\n",
        "  validation_steps = steps_val,\n",
        "  # callbacks = [tboard_callback],\n",
        "  class_weight = class_weight_dict,\n",
        "  epochs=epochs\n",
        ")"
      ],
      "execution_count": null,
      "outputs": []
    },
    {
      "cell_type": "code",
      "metadata": {
        "id": "YPuXxu_6yI6j"
      },
      "source": [
        "### This is only needed if further training based on the previous history is required. \n",
        "# new_epochs = 20\n",
        "# epochs += new_epochs\n",
        "\n",
        "# # training including previous training\n",
        "# history_2 = new_model.fit(\n",
        "#   train_generator,\n",
        "#   initial_epoch=history.epoch[-1]+1,\n",
        "#   epochs = epochs,\n",
        "#   steps_per_epoch=steps_train,\n",
        "#   validation_data=val_generator,\n",
        "#   validation_steps = steps_val,\n",
        "#   class_weight = class_weight_dict\n",
        "# )"
      ],
      "execution_count": null,
      "outputs": []
    },
    {
      "cell_type": "markdown",
      "metadata": {
        "id": "GVrGcgg_OdQi"
      },
      "source": [
        "## Save Model"
      ]
    },
    {
      "cell_type": "code",
      "metadata": {
        "id": "NMOll0_uOh1b"
      },
      "source": [
        "### Get current Date and Time\n",
        "now = datetime.now().strftime(\"%Y_%m_%d__%Hh%Mmin\")\n",
        "\n",
        "### Save pre-trained model with date and time stamp\n",
        "!mkdir -p saved_model\n",
        "new_model.save('saved_model/Inception_' + now) "
      ],
      "execution_count": null,
      "outputs": []
    },
    {
      "cell_type": "code",
      "metadata": {
        "id": "J2yBDqwLOkOw"
      },
      "source": [
        "### model directory\n",
        "# !ls saved_model\n",
        "\n",
        "### Contains an assets folder, saved_model.pb, and variables folder.\n",
        "# !ls saved_model/Inception_9/"
      ],
      "execution_count": null,
      "outputs": []
    },
    {
      "cell_type": "markdown",
      "metadata": {
        "id": "SyFKdQpXMJT4"
      },
      "source": [
        "## Visualize training results  "
      ]
    },
    {
      "cell_type": "code",
      "metadata": {
        "id": "jWnopEChMMCn"
      },
      "source": [
        "acc = history.history['categorical_accuracy']\n",
        "val_acc = history.history['val_categorical_accuracy']\n",
        "\n",
        "loss=history.history['loss']\n",
        "val_loss=history.history['val_loss']\n",
        "\n",
        "epochs_range = range(epochs)\n",
        "\n",
        "plt.figure(figsize=(12, 6))\n",
        "plt.subplot(1, 2, 1)\n",
        "plt.plot(epochs_range, acc, label='Training Accuracy')\n",
        "plt.plot(epochs_range, val_acc, label='Validation Accuracy')\n",
        "plt.legend(loc='lower right')\n",
        "plt.title('Training and Validation Accuracy')\n",
        "\n",
        "plt.subplot(1, 2, 2)\n",
        "plt.plot(epochs_range, loss, label='Training Loss')\n",
        "plt.plot(epochs_range, val_loss, label='Validation Loss')\n",
        "plt.legend(loc='upper right')\n",
        "plt.title('Training and Validation Loss')\n",
        "plt.show()"
      ],
      "execution_count": null,
      "outputs": []
    },
    {
      "cell_type": "markdown",
      "metadata": {
        "id": "nn2g3TXiPX6Y"
      },
      "source": [
        "# Predict on Test data"
      ]
    },
    {
      "cell_type": "code",
      "metadata": {
        "id": "0YnJJD63eaKa"
      },
      "source": [
        "IMG_SIZE = 224\n",
        "folder_path = \"/gdrive/My Drive/Final_Project_CrystalsFirst/Model/labels/test/\"\n",
        "\n",
        "predictions = {}\n",
        "\n",
        "for filename in os.listdir(folder_path):\n",
        "    if filename.endswith(\".jpg\") or filename.endswith(\".JPG\"):\n",
        "      img = keras.preprocessing.image.load_img(folder_path+filename,\n",
        "                                               target_size=(IMG_SIZE, IMG_SIZE))\n",
        "      img_array = keras.preprocessing.image.img_to_array(img)/255\n",
        "      img_array = tf.expand_dims(img_array, 0)\n",
        "      pred = new_model.predict(img_array)\n",
        "      predictions[filename] = (classes[np.argmax(pred)],\n",
        "                               (\"confidance of {:.2f}%\".format(100 * np.max(pred))))\n",
        "      continue\n",
        "    else:\n",
        "      continue\n",
        "\n",
        "predictions"
      ],
      "execution_count": null,
      "outputs": []
    },
    {
      "cell_type": "markdown",
      "metadata": {
        "id": "dIRFbiQlEAk8"
      },
      "source": [
        "# Test evaluation"
      ]
    },
    {
      "cell_type": "markdown",
      "metadata": {
        "id": "lBOhJG_mSw93"
      },
      "source": [
        "## Confusion Matrix "
      ]
    },
    {
      "cell_type": "code",
      "metadata": {
        "id": "lUmhmZisS0zr"
      },
      "source": [
        "### create data frame with true labels\n",
        "df_json = pd.read_json(project_dir+\"source/image_labels.json\", orient=\"columns\")\n",
        "# df_json = df_json.set_index(\"index\")\n",
        "# df_json.head(2)"
      ],
      "execution_count": null,
      "outputs": []
    },
    {
      "cell_type": "code",
      "metadata": {
        "id": "_0r0f-8jS_HN"
      },
      "source": [
        "### create data frame with predicted labels\n",
        "df_pred = pd.DataFrame.from_dict(predictions, orient=\"index\").reset_index()                    \n",
        "df_pred.columns = [\"image\", \"predictions\",\"confidence\"]\n",
        "df_pred = df_pred.set_index(\"image\")\n",
        "# df_pred.head(2)"
      ],
      "execution_count": null,
      "outputs": []
    },
    {
      "cell_type": "code",
      "metadata": {
        "id": "p9TRDBEm2MKA"
      },
      "source": [
        "### concatenate the two data frames\n",
        "cm_df = pd.concat([df_pred, df_json], axis=1, join='inner')\n",
        "# cm_df"
      ],
      "execution_count": null,
      "outputs": []
    },
    {
      "cell_type": "code",
      "metadata": {
        "id": "k2MYscS8XRlz"
      },
      "source": [
        "conf_mat = confusion_matrix(cm_df.loc[:,\"y_true\"], cm_df.loc[:,\"predictions\"])\n",
        "cm_display = ConfusionMatrixDisplay(conf_mat, display_labels=['crystal', 'no_crystal']).plot()"
      ],
      "execution_count": null,
      "outputs": []
    },
    {
      "cell_type": "markdown",
      "metadata": {
        "id": "O2yo8_Fxawmr"
      },
      "source": [
        "## Classification Report"
      ]
    },
    {
      "cell_type": "code",
      "metadata": {
        "id": "gcfNqheea6fP"
      },
      "source": [
        "cr = classification_report(cm_df.loc[:,\"y_true\"], \n",
        "                           cm_df.loc[:,\"predictions\"], \n",
        "                           labels = ['crystal', 'no_crystal'], \n",
        "                           digits=2, \n",
        "                           zero_division='warn')\n",
        "print(cr)"
      ],
      "execution_count": null,
      "outputs": []
    },
    {
      "cell_type": "markdown",
      "metadata": {
        "id": "fjmd_GZlEGJm"
      },
      "source": [
        "## ROC curve"
      ]
    },
    {
      "cell_type": "code",
      "metadata": {
        "id": "1eKiuUDW8jAi"
      },
      "source": [
        "### replace categories with 0 or 1\n",
        "cm_df.replace(to_replace=\"no_crystal\", value=1, inplace=True)\n",
        "cm_df.replace(to_replace=\"crystal\", value=0, inplace=True)"
      ],
      "execution_count": null,
      "outputs": []
    },
    {
      "cell_type": "code",
      "metadata": {
        "id": "PzM9i6egDDVE"
      },
      "source": [
        "def plot_roc(y_test, proba_preds):\n",
        "    ### create linear line\n",
        "    base_probs = [0 for _ in range(len(y_test))]\n",
        "    base_auc = roc_auc_score(y_test, base_probs)\n",
        "    lr_auc = roc_auc_score(y_test, proba_preds)\n",
        "    ### summarize scores\n",
        "    print('Logistic: ROC AUC=%.3f' % (lr_auc))\n",
        "    ### calculate roc curves\n",
        "    ns_fpr, ns_tpr, _ = roc_curve(y_test, base_probs)\n",
        "    lr_fpr, lr_tpr, _ = roc_curve(y_test, proba_preds)\n",
        "    ### plot the roc curve for the model\n",
        "    plt.plot(ns_fpr, ns_tpr, linestyle='--', label='Base')\n",
        "    plt.plot(lr_fpr, lr_tpr, marker='.', label='InceptionV3')\n",
        "    plt.xlabel('False Positive Rate')\n",
        "    plt.ylabel('True Positive Rate')\n",
        "    plt.legend()\n",
        "    plt.show()"
      ],
      "execution_count": null,
      "outputs": []
    },
    {
      "cell_type": "code",
      "metadata": {
        "id": "tCTo8Xv-DDd_"
      },
      "source": [
        "plot_roc(cm_df.loc[:,\"y_true\"], \n",
        "         cm_df.loc[:,\"predictions\"])"
      ],
      "execution_count": null,
      "outputs": []
    },
    {
      "cell_type": "markdown",
      "metadata": {
        "id": "KBxmfewRaSfj"
      },
      "source": [
        "# Predicting on a pre-trained model\n",
        "In case you only want to predict on new data, jump to this part of the notebook"
      ]
    },
    {
      "cell_type": "code",
      "metadata": {
        "id": "b2th-kKAtrlL"
      },
      "source": [
        "### make sure to load the correct model in case you reset the runtime\n",
        "new_model = tf.keras.models.load_model('saved_model/Inception_Pre-trained_Model')"
      ],
      "execution_count": null,
      "outputs": []
    },
    {
      "cell_type": "code",
      "metadata": {
        "id": "DCOlCKzKa3LG"
      },
      "source": [
        "IMG_SIZE = 224\n",
        "folder_path = \"/gdrive/My Drive/Final_Project_CrystalsFirst/Model/labels/test/\"\n",
        "\n",
        "predictions = {}\n",
        "\n",
        "for filename in os.listdir(folder_path):\n",
        "    if filename.endswith(\".jpg\") or filename.endswith(\".JPG\"):\n",
        "      img = keras.preprocessing.image.load_img(folder_path+filename,\n",
        "                                               target_size=(IMG_SIZE, IMG_SIZE))\n",
        "      img_array = keras.preprocessing.image.img_to_array(img)/255\n",
        "      img_array = tf.expand_dims(img_array, 0)\n",
        "      pred = new_model.predict(img_array)\n",
        "      predictions[filename] = (classes[np.argmax(pred)],\n",
        "                               (\"confidance of {:.2f}%\".format(100 * np.max(pred))))\n",
        "      continue\n",
        "    else:\n",
        "      continue\n",
        "\n",
        "predictions"
      ],
      "execution_count": null,
      "outputs": []
    }
  ]
}