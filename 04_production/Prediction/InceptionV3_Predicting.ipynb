{
 "cells": [
  {
   "cell_type": "code",
   "execution_count": 17,
   "metadata": {
    "executionInfo": {
     "elapsed": 711,
     "status": "ok",
     "timestamp": 1605638210727,
     "user": {
      "displayName": "C C",
      "photoUrl": "",
      "userId": "06938559631318780811"
     },
     "user_tz": -60
    },
    "id": "L1WtoaOHVrVh"
   },
   "outputs": [],
   "source": [
    "import os\n",
    "import tarfile\n",
    "import pandas as pd\n",
    "import zipfile\n",
    "import shutil\n",
    "import numpy as np\n",
    "from google.cloud import storage\n",
    "import tensorflow as tf\n",
    "from tensorflow import keras"
   ]
  },
  {
   "cell_type": "markdown",
   "metadata": {},
   "source": [
    "# User input for image file path  \n",
    "copy path of a specific tar file from the WellImages storage_4:  \n",
    "> console.cloud.google.com/storage/browser/storage_4/WellImages"
   ]
  },
  {
   "cell_type": "code",
   "execution_count": 2,
   "metadata": {},
   "outputs": [
    {
     "name": "stdin",
     "output_type": "stream",
     "text": [
      " gs://storage_4/WellImages/170.tar\n"
     ]
    }
   ],
   "source": [
    "### user input of path containing the images to be assessed \n",
    "user_input = input()"
   ]
  },
  {
   "cell_type": "code",
   "execution_count": 18,
   "metadata": {},
   "outputs": [
    {
     "data": {
      "text/plain": [
       "'/home/jupyter/Prediction'"
      ]
     },
     "execution_count": 18,
     "metadata": {},
     "output_type": "execute_result"
    }
   ],
   "source": [
    "### get current working directory\n",
    "cwd = os.getcwd()\n",
    "cwd"
   ]
  },
  {
   "cell_type": "code",
   "execution_count": 4,
   "metadata": {},
   "outputs": [
    {
     "name": "stdout",
     "output_type": "stream",
     "text": [
      "Copying gs://storage_4/WellImages/170.tar...\n",
      "- [1/1 files][190.0 MiB/190.0 MiB] 100% Done  17.4 MiB/s ETA 00:00:00           \n",
      "Operation completed over 1 objects/190.0 MiB.                                    \n"
     ]
    }
   ],
   "source": [
    "### copy tar file from storage_4 to VM\n",
    "!gsutil -m cp \"$user_input\" \"$cwd\""
   ]
  },
  {
   "cell_type": "code",
   "execution_count": 5,
   "metadata": {},
   "outputs": [],
   "source": [
    "### get tar file name and folder location\n",
    "tar_file = user_input.split(os.sep)[-1]\n",
    "tar_folder = tar_file[:-4]"
   ]
  },
  {
   "cell_type": "markdown",
   "metadata": {},
   "source": [
    "# Extract tar file images"
   ]
  },
  {
   "cell_type": "code",
   "execution_count": 6,
   "metadata": {
    "colab": {
     "base_uri": "https://localhost:8080/",
     "height": 422
    },
    "executionInfo": {
     "elapsed": 659,
     "status": "error",
     "timestamp": 1605638213830,
     "user": {
      "displayName": "C C",
      "photoUrl": "",
      "userId": "06938559631318780811"
     },
     "user_tz": -60
    },
    "id": "0WX8OG35UBpy",
    "outputId": "1034f8b8-3503-4f90-84e3-85df52390f85"
   },
   "outputs": [],
   "source": [
    "### unzip tar file \n",
    "fname = cwd + os.sep + tar_file\n",
    "if fname.endswith(\"tgz\"):\n",
    "    tar = tarfile.open(fname, \"r:gz\")\n",
    "    tar.extractall()\n",
    "    tar.close()\n",
    "elif fname.endswith(\"tar\"):\n",
    "    tar = tarfile.open(fname, \"r:\")\n",
    "    tar.extractall()\n",
    "    tar.close()"
   ]
  },
  {
   "cell_type": "markdown",
   "metadata": {
    "id": "KBxmfewRaSfj"
   },
   "source": [
    "# Load the pre-trained model"
   ]
  },
  {
   "cell_type": "code",
   "execution_count": 19,
   "metadata": {},
   "outputs": [],
   "source": [
    "### unizp the pre-trained model\n",
    "pre_trained_model = \"Inception_Pre-trained_Model.zip\"\n",
    "input_zip_path = cwd + os.sep + pre_trained_model\n",
    "\n",
    "with zipfile.ZipFile(input_zip_path, 'r') as zip_ref:\n",
    "    zip_ref.extractall(cwd) #target zip path = current working direcotry"
   ]
  },
  {
   "cell_type": "code",
   "execution_count": 8,
   "metadata": {
    "id": "b2th-kKAtrlL"
   },
   "outputs": [],
   "source": [
    "#make sure to load the correct model in case you reset the runtime\n",
    "new_model = tf.keras.models.load_model(cwd +\"/Inception_Pre-trained_Model\")"
   ]
  },
  {
   "cell_type": "markdown",
   "metadata": {},
   "source": [
    "# Create Dataframe containing images complete path\n",
    "> currently only collecting sharp images (filename contains \"ef\")   \n",
    "> could be improved to predict on blurry images (needs training on blurry images first)"
   ]
  },
  {
   "cell_type": "code",
   "execution_count": 9,
   "metadata": {},
   "outputs": [],
   "source": [
    "### read extracted tar folder and collect images filenames and complete path\n",
    "### this DF is only a source of information for the predicting loop\n",
    "### after predictions a new DF will be returned\n",
    "\n",
    "fname = cwd + os.sep + tar_folder\n",
    "path_list = []\n",
    "name_list = []\n",
    "for subdir, dirs, files in os.walk(fname):\n",
    "    for filename in files:\n",
    "        filepath = subdir + os.sep + filename\n",
    "        if (filepath.endswith(\".jpg\") or filepath.endswith(\".JPG\")) and (\"ef\" in filename):\n",
    "            path_list.append(filepath)\n",
    "            name_list.append(filename)"
   ]
  },
  {
   "cell_type": "code",
   "execution_count": 10,
   "metadata": {},
   "outputs": [],
   "source": [
    "df = pd.DataFrame(path_list, name_list).reset_index()\n",
    "df.columns = [\"file_name\", \"file_path\"]\n",
    "df = df.set_index(\"file_path\")"
   ]
  },
  {
   "cell_type": "markdown",
   "metadata": {
    "id": "0EKdoPAW3Gwi"
   },
   "source": [
    "# Predict using pre-trained model and file paths in Data Frame"
   ]
  },
  {
   "cell_type": "code",
   "execution_count": 11,
   "metadata": {},
   "outputs": [
    {
     "name": "stdout",
     "output_type": "stream",
     "text": [
      "CPU times: user 28.9 s, sys: 1.89 s, total: 30.8 s\n",
      "Wall time: 30.6 s\n"
     ]
    }
   ],
   "source": [
    "%%time\n",
    "classes = [\"crystal\", \"no_crystal\"]\n",
    "IMG_SIZE = 224\n",
    "predictions = {}\n",
    "\n",
    "for path in df.index:\n",
    "    img = keras.preprocessing.image.load_img(path, target_size=(IMG_SIZE, IMG_SIZE))\n",
    "    img_array = keras.preprocessing.image.img_to_array(img)/255\n",
    "    img_array = tf.expand_dims(img_array, 0)\n",
    "    pred = new_model.predict(img_array)\n",
    "    predictions[path] = ((path.split(os.sep)[-1]), \n",
    "                         classes[np.argmax(pred)],\n",
    "                         (\"confidance of {:.2f}%\".format(100 * np.max(pred))))"
   ]
  },
  {
   "cell_type": "code",
   "execution_count": 12,
   "metadata": {
    "collapsed": true,
    "jupyter": {
     "outputs_hidden": true
    }
   },
   "outputs": [
    {
     "data": {
      "text/html": [
       "<div>\n",
       "<style scoped>\n",
       "    .dataframe tbody tr th:only-of-type {\n",
       "        vertical-align: middle;\n",
       "    }\n",
       "\n",
       "    .dataframe tbody tr th {\n",
       "        vertical-align: top;\n",
       "    }\n",
       "\n",
       "    .dataframe thead th {\n",
       "        text-align: right;\n",
       "    }\n",
       "</style>\n",
       "<table border=\"1\" class=\"dataframe\">\n",
       "  <thead>\n",
       "    <tr style=\"text-align: right;\">\n",
       "      <th></th>\n",
       "      <th>File_Name</th>\n",
       "      <th>Prediction</th>\n",
       "      <th>Confidence</th>\n",
       "    </tr>\n",
       "  </thead>\n",
       "  <tbody>\n",
       "    <tr>\n",
       "      <th>/home/jupyter/Prediction/170/plateID_3170/batchID_21083/wellNum_67/profileID_1/d2_r422734_ef.jpg</th>\n",
       "      <td>d2_r422734_ef.jpg</td>\n",
       "      <td>no_crystal</td>\n",
       "      <td>confidance of 99.41%</td>\n",
       "    </tr>\n",
       "    <tr>\n",
       "      <th>/home/jupyter/Prediction/170/plateID_3170/batchID_21083/wellNum_67/profileID_1/d1_r422733_ef.jpg</th>\n",
       "      <td>d1_r422733_ef.jpg</td>\n",
       "      <td>no_crystal</td>\n",
       "      <td>confidance of 99.99%</td>\n",
       "    </tr>\n",
       "    <tr>\n",
       "      <th>/home/jupyter/Prediction/170/plateID_3170/batchID_21083/wellNum_6/profileID_1/d2_r422612_ef.jpg</th>\n",
       "      <td>d2_r422612_ef.jpg</td>\n",
       "      <td>no_crystal</td>\n",
       "      <td>confidance of 95.28%</td>\n",
       "    </tr>\n",
       "    <tr>\n",
       "      <th>/home/jupyter/Prediction/170/plateID_3170/batchID_21083/wellNum_6/profileID_1/d1_r422611_ef.jpg</th>\n",
       "      <td>d1_r422611_ef.jpg</td>\n",
       "      <td>no_crystal</td>\n",
       "      <td>confidance of 100.00%</td>\n",
       "    </tr>\n",
       "    <tr>\n",
       "      <th>/home/jupyter/Prediction/170/plateID_3170/batchID_21083/wellNum_8/profileID_1/d1_r422615_ef.jpg</th>\n",
       "      <td>d1_r422615_ef.jpg</td>\n",
       "      <td>no_crystal</td>\n",
       "      <td>confidance of 99.76%</td>\n",
       "    </tr>\n",
       "    <tr>\n",
       "      <th>...</th>\n",
       "      <td>...</td>\n",
       "      <td>...</td>\n",
       "      <td>...</td>\n",
       "    </tr>\n",
       "    <tr>\n",
       "      <th>/home/jupyter/Prediction/170/plateID_3170/batchID_21070/wellNum_17/profileID_1/d1_r422633_ef.jpg</th>\n",
       "      <td>d1_r422633_ef.jpg</td>\n",
       "      <td>no_crystal</td>\n",
       "      <td>confidance of 99.90%</td>\n",
       "    </tr>\n",
       "    <tr>\n",
       "      <th>/home/jupyter/Prediction/170/plateID_3170/batchID_21070/wellNum_95/profileID_1/d1_r422789_ef.jpg</th>\n",
       "      <td>d1_r422789_ef.jpg</td>\n",
       "      <td>no_crystal</td>\n",
       "      <td>confidance of 99.70%</td>\n",
       "    </tr>\n",
       "    <tr>\n",
       "      <th>/home/jupyter/Prediction/170/plateID_3170/batchID_21070/wellNum_95/profileID_1/d2_r422790_ef.jpg</th>\n",
       "      <td>d2_r422790_ef.jpg</td>\n",
       "      <td>crystal</td>\n",
       "      <td>confidance of 100.00%</td>\n",
       "    </tr>\n",
       "    <tr>\n",
       "      <th>/home/jupyter/Prediction/170/plateID_3170/batchID_21070/wellNum_82/profileID_1/d1_r422763_ef.jpg</th>\n",
       "      <td>d1_r422763_ef.jpg</td>\n",
       "      <td>no_crystal</td>\n",
       "      <td>confidance of 100.00%</td>\n",
       "    </tr>\n",
       "    <tr>\n",
       "      <th>/home/jupyter/Prediction/170/plateID_3170/batchID_21070/wellNum_82/profileID_1/d2_r422764_ef.jpg</th>\n",
       "      <td>d2_r422764_ef.jpg</td>\n",
       "      <td>no_crystal</td>\n",
       "      <td>confidance of 73.45%</td>\n",
       "    </tr>\n",
       "  </tbody>\n",
       "</table>\n",
       "<p>384 rows × 3 columns</p>\n",
       "</div>"
      ],
      "text/plain": [
       "                                                            File_Name  \\\n",
       "/home/jupyter/Prediction/170/plateID_3170/batch...  d2_r422734_ef.jpg   \n",
       "/home/jupyter/Prediction/170/plateID_3170/batch...  d1_r422733_ef.jpg   \n",
       "/home/jupyter/Prediction/170/plateID_3170/batch...  d2_r422612_ef.jpg   \n",
       "/home/jupyter/Prediction/170/plateID_3170/batch...  d1_r422611_ef.jpg   \n",
       "/home/jupyter/Prediction/170/plateID_3170/batch...  d1_r422615_ef.jpg   \n",
       "...                                                               ...   \n",
       "/home/jupyter/Prediction/170/plateID_3170/batch...  d1_r422633_ef.jpg   \n",
       "/home/jupyter/Prediction/170/plateID_3170/batch...  d1_r422789_ef.jpg   \n",
       "/home/jupyter/Prediction/170/plateID_3170/batch...  d2_r422790_ef.jpg   \n",
       "/home/jupyter/Prediction/170/plateID_3170/batch...  d1_r422763_ef.jpg   \n",
       "/home/jupyter/Prediction/170/plateID_3170/batch...  d2_r422764_ef.jpg   \n",
       "\n",
       "                                                    Prediction  \\\n",
       "/home/jupyter/Prediction/170/plateID_3170/batch...  no_crystal   \n",
       "/home/jupyter/Prediction/170/plateID_3170/batch...  no_crystal   \n",
       "/home/jupyter/Prediction/170/plateID_3170/batch...  no_crystal   \n",
       "/home/jupyter/Prediction/170/plateID_3170/batch...  no_crystal   \n",
       "/home/jupyter/Prediction/170/plateID_3170/batch...  no_crystal   \n",
       "...                                                        ...   \n",
       "/home/jupyter/Prediction/170/plateID_3170/batch...  no_crystal   \n",
       "/home/jupyter/Prediction/170/plateID_3170/batch...  no_crystal   \n",
       "/home/jupyter/Prediction/170/plateID_3170/batch...     crystal   \n",
       "/home/jupyter/Prediction/170/plateID_3170/batch...  no_crystal   \n",
       "/home/jupyter/Prediction/170/plateID_3170/batch...  no_crystal   \n",
       "\n",
       "                                                               Confidence  \n",
       "/home/jupyter/Prediction/170/plateID_3170/batch...   confidance of 99.41%  \n",
       "/home/jupyter/Prediction/170/plateID_3170/batch...   confidance of 99.99%  \n",
       "/home/jupyter/Prediction/170/plateID_3170/batch...   confidance of 95.28%  \n",
       "/home/jupyter/Prediction/170/plateID_3170/batch...  confidance of 100.00%  \n",
       "/home/jupyter/Prediction/170/plateID_3170/batch...   confidance of 99.76%  \n",
       "...                                                                   ...  \n",
       "/home/jupyter/Prediction/170/plateID_3170/batch...   confidance of 99.90%  \n",
       "/home/jupyter/Prediction/170/plateID_3170/batch...   confidance of 99.70%  \n",
       "/home/jupyter/Prediction/170/plateID_3170/batch...  confidance of 100.00%  \n",
       "/home/jupyter/Prediction/170/plateID_3170/batch...  confidance of 100.00%  \n",
       "/home/jupyter/Prediction/170/plateID_3170/batch...   confidance of 73.45%  \n",
       "\n",
       "[384 rows x 3 columns]"
      ]
     },
     "execution_count": 12,
     "metadata": {},
     "output_type": "execute_result"
    }
   ],
   "source": [
    "### a Data Frame is returned containing:$\n",
    "### File Path, File Name, the model Prediction and the Prediction Confidence Level.\n",
    "df_pred = pd.DataFrame.from_dict(predictions, orient=\"index\")\n",
    "df_pred.columns = [\"File_Name\", \"Prediction\", \"Confidence\"]"
   ]
  },
  {
   "cell_type": "code",
   "execution_count": 13,
   "metadata": {},
   "outputs": [
    {
     "data": {
      "text/html": [
       "<div>\n",
       "<style scoped>\n",
       "    .dataframe tbody tr th:only-of-type {\n",
       "        vertical-align: middle;\n",
       "    }\n",
       "\n",
       "    .dataframe tbody tr th {\n",
       "        vertical-align: top;\n",
       "    }\n",
       "\n",
       "    .dataframe thead th {\n",
       "        text-align: right;\n",
       "    }\n",
       "</style>\n",
       "<table border=\"1\" class=\"dataframe\">\n",
       "  <thead>\n",
       "    <tr style=\"text-align: right;\">\n",
       "      <th></th>\n",
       "      <th>File_Name</th>\n",
       "      <th>Prediction</th>\n",
       "      <th>Confidence</th>\n",
       "    </tr>\n",
       "  </thead>\n",
       "  <tbody>\n",
       "    <tr>\n",
       "      <th>/home/jupyter/Prediction/170/plateID_3170/batchID_21083/wellNum_16/profileID_1/d1_r422631_ef.jpg</th>\n",
       "      <td>d1_r422631_ef.jpg</td>\n",
       "      <td>crystal</td>\n",
       "      <td>confidance of 96.57%</td>\n",
       "    </tr>\n",
       "    <tr>\n",
       "      <th>/home/jupyter/Prediction/170/plateID_3170/batchID_21083/wellNum_94/profileID_1/d2_r422788_ef.jpg</th>\n",
       "      <td>d2_r422788_ef.jpg</td>\n",
       "      <td>crystal</td>\n",
       "      <td>confidance of 99.71%</td>\n",
       "    </tr>\n",
       "    <tr>\n",
       "      <th>/home/jupyter/Prediction/170/plateID_3170/batchID_21083/wellNum_18/profileID_1/d2_r422636_ef.jpg</th>\n",
       "      <td>d2_r422636_ef.jpg</td>\n",
       "      <td>crystal</td>\n",
       "      <td>confidance of 99.24%</td>\n",
       "    </tr>\n",
       "    <tr>\n",
       "      <th>/home/jupyter/Prediction/170/plateID_3170/batchID_21083/wellNum_54/profileID_1/d1_r422707_ef.jpg</th>\n",
       "      <td>d1_r422707_ef.jpg</td>\n",
       "      <td>crystal</td>\n",
       "      <td>confidance of 98.55%</td>\n",
       "    </tr>\n",
       "    <tr>\n",
       "      <th>/home/jupyter/Prediction/170/plateID_3170/batchID_21083/wellNum_72/profileID_1/d1_r422743_ef.jpg</th>\n",
       "      <td>d1_r422743_ef.jpg</td>\n",
       "      <td>crystal</td>\n",
       "      <td>confidance of 99.99%</td>\n",
       "    </tr>\n",
       "    <tr>\n",
       "      <th>...</th>\n",
       "      <td>...</td>\n",
       "      <td>...</td>\n",
       "      <td>...</td>\n",
       "    </tr>\n",
       "    <tr>\n",
       "      <th>/home/jupyter/Prediction/170/plateID_3170/batchID_21070/wellNum_24/profileID_1/d1_r422647_ef.jpg</th>\n",
       "      <td>d1_r422647_ef.jpg</td>\n",
       "      <td>crystal</td>\n",
       "      <td>confidance of 99.61%</td>\n",
       "    </tr>\n",
       "    <tr>\n",
       "      <th>/home/jupyter/Prediction/170/plateID_3170/batchID_21070/wellNum_24/profileID_1/d2_r422648_ef.jpg</th>\n",
       "      <td>d2_r422648_ef.jpg</td>\n",
       "      <td>crystal</td>\n",
       "      <td>confidance of 94.10%</td>\n",
       "    </tr>\n",
       "    <tr>\n",
       "      <th>/home/jupyter/Prediction/170/plateID_3170/batchID_21070/wellNum_36/profileID_1/d2_r422672_ef.jpg</th>\n",
       "      <td>d2_r422672_ef.jpg</td>\n",
       "      <td>crystal</td>\n",
       "      <td>confidance of 100.00%</td>\n",
       "    </tr>\n",
       "    <tr>\n",
       "      <th>/home/jupyter/Prediction/170/plateID_3170/batchID_21070/wellNum_17/profileID_1/d2_r422634_ef.jpg</th>\n",
       "      <td>d2_r422634_ef.jpg</td>\n",
       "      <td>crystal</td>\n",
       "      <td>confidance of 77.87%</td>\n",
       "    </tr>\n",
       "    <tr>\n",
       "      <th>/home/jupyter/Prediction/170/plateID_3170/batchID_21070/wellNum_95/profileID_1/d2_r422790_ef.jpg</th>\n",
       "      <td>d2_r422790_ef.jpg</td>\n",
       "      <td>crystal</td>\n",
       "      <td>confidance of 100.00%</td>\n",
       "    </tr>\n",
       "  </tbody>\n",
       "</table>\n",
       "<p>86 rows × 3 columns</p>\n",
       "</div>"
      ],
      "text/plain": [
       "                                                            File_Name  \\\n",
       "/home/jupyter/Prediction/170/plateID_3170/batch...  d1_r422631_ef.jpg   \n",
       "/home/jupyter/Prediction/170/plateID_3170/batch...  d2_r422788_ef.jpg   \n",
       "/home/jupyter/Prediction/170/plateID_3170/batch...  d2_r422636_ef.jpg   \n",
       "/home/jupyter/Prediction/170/plateID_3170/batch...  d1_r422707_ef.jpg   \n",
       "/home/jupyter/Prediction/170/plateID_3170/batch...  d1_r422743_ef.jpg   \n",
       "...                                                               ...   \n",
       "/home/jupyter/Prediction/170/plateID_3170/batch...  d1_r422647_ef.jpg   \n",
       "/home/jupyter/Prediction/170/plateID_3170/batch...  d2_r422648_ef.jpg   \n",
       "/home/jupyter/Prediction/170/plateID_3170/batch...  d2_r422672_ef.jpg   \n",
       "/home/jupyter/Prediction/170/plateID_3170/batch...  d2_r422634_ef.jpg   \n",
       "/home/jupyter/Prediction/170/plateID_3170/batch...  d2_r422790_ef.jpg   \n",
       "\n",
       "                                                   Prediction  \\\n",
       "/home/jupyter/Prediction/170/plateID_3170/batch...    crystal   \n",
       "/home/jupyter/Prediction/170/plateID_3170/batch...    crystal   \n",
       "/home/jupyter/Prediction/170/plateID_3170/batch...    crystal   \n",
       "/home/jupyter/Prediction/170/plateID_3170/batch...    crystal   \n",
       "/home/jupyter/Prediction/170/plateID_3170/batch...    crystal   \n",
       "...                                                       ...   \n",
       "/home/jupyter/Prediction/170/plateID_3170/batch...    crystal   \n",
       "/home/jupyter/Prediction/170/plateID_3170/batch...    crystal   \n",
       "/home/jupyter/Prediction/170/plateID_3170/batch...    crystal   \n",
       "/home/jupyter/Prediction/170/plateID_3170/batch...    crystal   \n",
       "/home/jupyter/Prediction/170/plateID_3170/batch...    crystal   \n",
       "\n",
       "                                                               Confidence  \n",
       "/home/jupyter/Prediction/170/plateID_3170/batch...   confidance of 96.57%  \n",
       "/home/jupyter/Prediction/170/plateID_3170/batch...   confidance of 99.71%  \n",
       "/home/jupyter/Prediction/170/plateID_3170/batch...   confidance of 99.24%  \n",
       "/home/jupyter/Prediction/170/plateID_3170/batch...   confidance of 98.55%  \n",
       "/home/jupyter/Prediction/170/plateID_3170/batch...   confidance of 99.99%  \n",
       "...                                                                   ...  \n",
       "/home/jupyter/Prediction/170/plateID_3170/batch...   confidance of 99.61%  \n",
       "/home/jupyter/Prediction/170/plateID_3170/batch...   confidance of 94.10%  \n",
       "/home/jupyter/Prediction/170/plateID_3170/batch...  confidance of 100.00%  \n",
       "/home/jupyter/Prediction/170/plateID_3170/batch...   confidance of 77.87%  \n",
       "/home/jupyter/Prediction/170/plateID_3170/batch...  confidance of 100.00%  \n",
       "\n",
       "[86 rows x 3 columns]"
      ]
     },
     "execution_count": 13,
     "metadata": {},
     "output_type": "execute_result"
    }
   ],
   "source": [
    "### return list of images predicted as \"crystal\"\n",
    "df_pred[df_pred['Prediction'] == \"crystal\"]        "
   ]
  },
  {
   "cell_type": "code",
   "execution_count": 14,
   "metadata": {},
   "outputs": [
    {
     "data": {
      "text/html": [
       "<div>\n",
       "<style scoped>\n",
       "    .dataframe tbody tr th:only-of-type {\n",
       "        vertical-align: middle;\n",
       "    }\n",
       "\n",
       "    .dataframe tbody tr th {\n",
       "        vertical-align: top;\n",
       "    }\n",
       "\n",
       "    .dataframe thead th {\n",
       "        text-align: right;\n",
       "    }\n",
       "</style>\n",
       "<table border=\"1\" class=\"dataframe\">\n",
       "  <thead>\n",
       "    <tr style=\"text-align: right;\">\n",
       "      <th></th>\n",
       "      <th>File_Name</th>\n",
       "      <th>Prediction</th>\n",
       "      <th>Confidence</th>\n",
       "    </tr>\n",
       "  </thead>\n",
       "  <tbody>\n",
       "    <tr>\n",
       "      <th>/home/jupyter/Prediction/170/plateID_3170/batchID_21083/wellNum_67/profileID_1/d2_r422734_ef.jpg</th>\n",
       "      <td>d2_r422734_ef.jpg</td>\n",
       "      <td>no_crystal</td>\n",
       "      <td>confidance of 99.41%</td>\n",
       "    </tr>\n",
       "    <tr>\n",
       "      <th>/home/jupyter/Prediction/170/plateID_3170/batchID_21083/wellNum_67/profileID_1/d1_r422733_ef.jpg</th>\n",
       "      <td>d1_r422733_ef.jpg</td>\n",
       "      <td>no_crystal</td>\n",
       "      <td>confidance of 99.99%</td>\n",
       "    </tr>\n",
       "    <tr>\n",
       "      <th>/home/jupyter/Prediction/170/plateID_3170/batchID_21083/wellNum_6/profileID_1/d2_r422612_ef.jpg</th>\n",
       "      <td>d2_r422612_ef.jpg</td>\n",
       "      <td>no_crystal</td>\n",
       "      <td>confidance of 95.28%</td>\n",
       "    </tr>\n",
       "    <tr>\n",
       "      <th>/home/jupyter/Prediction/170/plateID_3170/batchID_21083/wellNum_6/profileID_1/d1_r422611_ef.jpg</th>\n",
       "      <td>d1_r422611_ef.jpg</td>\n",
       "      <td>no_crystal</td>\n",
       "      <td>confidance of 100.00%</td>\n",
       "    </tr>\n",
       "    <tr>\n",
       "      <th>/home/jupyter/Prediction/170/plateID_3170/batchID_21083/wellNum_8/profileID_1/d1_r422615_ef.jpg</th>\n",
       "      <td>d1_r422615_ef.jpg</td>\n",
       "      <td>no_crystal</td>\n",
       "      <td>confidance of 99.76%</td>\n",
       "    </tr>\n",
       "    <tr>\n",
       "      <th>...</th>\n",
       "      <td>...</td>\n",
       "      <td>...</td>\n",
       "      <td>...</td>\n",
       "    </tr>\n",
       "    <tr>\n",
       "      <th>/home/jupyter/Prediction/170/plateID_3170/batchID_21070/wellNum_36/profileID_1/d1_r422671_ef.jpg</th>\n",
       "      <td>d1_r422671_ef.jpg</td>\n",
       "      <td>no_crystal</td>\n",
       "      <td>confidance of 93.85%</td>\n",
       "    </tr>\n",
       "    <tr>\n",
       "      <th>/home/jupyter/Prediction/170/plateID_3170/batchID_21070/wellNum_17/profileID_1/d1_r422633_ef.jpg</th>\n",
       "      <td>d1_r422633_ef.jpg</td>\n",
       "      <td>no_crystal</td>\n",
       "      <td>confidance of 99.90%</td>\n",
       "    </tr>\n",
       "    <tr>\n",
       "      <th>/home/jupyter/Prediction/170/plateID_3170/batchID_21070/wellNum_95/profileID_1/d1_r422789_ef.jpg</th>\n",
       "      <td>d1_r422789_ef.jpg</td>\n",
       "      <td>no_crystal</td>\n",
       "      <td>confidance of 99.70%</td>\n",
       "    </tr>\n",
       "    <tr>\n",
       "      <th>/home/jupyter/Prediction/170/plateID_3170/batchID_21070/wellNum_82/profileID_1/d1_r422763_ef.jpg</th>\n",
       "      <td>d1_r422763_ef.jpg</td>\n",
       "      <td>no_crystal</td>\n",
       "      <td>confidance of 100.00%</td>\n",
       "    </tr>\n",
       "    <tr>\n",
       "      <th>/home/jupyter/Prediction/170/plateID_3170/batchID_21070/wellNum_82/profileID_1/d2_r422764_ef.jpg</th>\n",
       "      <td>d2_r422764_ef.jpg</td>\n",
       "      <td>no_crystal</td>\n",
       "      <td>confidance of 73.45%</td>\n",
       "    </tr>\n",
       "  </tbody>\n",
       "</table>\n",
       "<p>298 rows × 3 columns</p>\n",
       "</div>"
      ],
      "text/plain": [
       "                                                            File_Name  \\\n",
       "/home/jupyter/Prediction/170/plateID_3170/batch...  d2_r422734_ef.jpg   \n",
       "/home/jupyter/Prediction/170/plateID_3170/batch...  d1_r422733_ef.jpg   \n",
       "/home/jupyter/Prediction/170/plateID_3170/batch...  d2_r422612_ef.jpg   \n",
       "/home/jupyter/Prediction/170/plateID_3170/batch...  d1_r422611_ef.jpg   \n",
       "/home/jupyter/Prediction/170/plateID_3170/batch...  d1_r422615_ef.jpg   \n",
       "...                                                               ...   \n",
       "/home/jupyter/Prediction/170/plateID_3170/batch...  d1_r422671_ef.jpg   \n",
       "/home/jupyter/Prediction/170/plateID_3170/batch...  d1_r422633_ef.jpg   \n",
       "/home/jupyter/Prediction/170/plateID_3170/batch...  d1_r422789_ef.jpg   \n",
       "/home/jupyter/Prediction/170/plateID_3170/batch...  d1_r422763_ef.jpg   \n",
       "/home/jupyter/Prediction/170/plateID_3170/batch...  d2_r422764_ef.jpg   \n",
       "\n",
       "                                                    Prediction  \\\n",
       "/home/jupyter/Prediction/170/plateID_3170/batch...  no_crystal   \n",
       "/home/jupyter/Prediction/170/plateID_3170/batch...  no_crystal   \n",
       "/home/jupyter/Prediction/170/plateID_3170/batch...  no_crystal   \n",
       "/home/jupyter/Prediction/170/plateID_3170/batch...  no_crystal   \n",
       "/home/jupyter/Prediction/170/plateID_3170/batch...  no_crystal   \n",
       "...                                                        ...   \n",
       "/home/jupyter/Prediction/170/plateID_3170/batch...  no_crystal   \n",
       "/home/jupyter/Prediction/170/plateID_3170/batch...  no_crystal   \n",
       "/home/jupyter/Prediction/170/plateID_3170/batch...  no_crystal   \n",
       "/home/jupyter/Prediction/170/plateID_3170/batch...  no_crystal   \n",
       "/home/jupyter/Prediction/170/plateID_3170/batch...  no_crystal   \n",
       "\n",
       "                                                               Confidence  \n",
       "/home/jupyter/Prediction/170/plateID_3170/batch...   confidance of 99.41%  \n",
       "/home/jupyter/Prediction/170/plateID_3170/batch...   confidance of 99.99%  \n",
       "/home/jupyter/Prediction/170/plateID_3170/batch...   confidance of 95.28%  \n",
       "/home/jupyter/Prediction/170/plateID_3170/batch...  confidance of 100.00%  \n",
       "/home/jupyter/Prediction/170/plateID_3170/batch...   confidance of 99.76%  \n",
       "...                                                                   ...  \n",
       "/home/jupyter/Prediction/170/plateID_3170/batch...   confidance of 93.85%  \n",
       "/home/jupyter/Prediction/170/plateID_3170/batch...   confidance of 99.90%  \n",
       "/home/jupyter/Prediction/170/plateID_3170/batch...   confidance of 99.70%  \n",
       "/home/jupyter/Prediction/170/plateID_3170/batch...  confidance of 100.00%  \n",
       "/home/jupyter/Prediction/170/plateID_3170/batch...   confidance of 73.45%  \n",
       "\n",
       "[298 rows x 3 columns]"
      ]
     },
     "execution_count": 14,
     "metadata": {},
     "output_type": "execute_result"
    }
   ],
   "source": [
    "### return list of images predicted as \"no_crystal\"\n",
    "df_pred[df_pred['Prediction'] == \"no_crystal\"]        "
   ]
  },
  {
   "cell_type": "markdown",
   "metadata": {
    "id": "Rq47epGx294g"
   },
   "source": [
    "# Delete .tar file and extracted folder"
   ]
  },
  {
   "cell_type": "code",
   "execution_count": 15,
   "metadata": {},
   "outputs": [],
   "source": [
    "### paths to be deleted\n",
    "dir_tar = cwd + os.sep + tar_file\n",
    "dir_folder = cwd + os.sep + tar_folder\n",
    "\n",
    "### removing tar file and extracted directory \n",
    "try:\n",
    "    os.unlink(dir_tar)\n",
    "    shutil.rmtree(dir_folder, ignore_errors = False)\n",
    "except:\n",
    "    pass"
   ]
  },
  {
   "cell_type": "markdown",
   "metadata": {},
   "source": [
    "# Delete extracted model folder"
   ]
  },
  {
   "cell_type": "code",
   "execution_count": 16,
   "metadata": {},
   "outputs": [],
   "source": [
    "# specify the directories to delete within the location\n",
    "pre_trained_model_folder = pre_trained_model[:-4]\n",
    "folder_to_del = cwd + os.sep + pre_trained_model_folder\n",
    "\n",
    "# removing directory \n",
    "shutil.rmtree(folder_to_del, ignore_errors = False)"
   ]
  }
 ],
 "metadata": {
  "accelerator": "GPU",
  "colab": {
   "collapsed_sections": [],
   "name": "InceptionV3_Predicting.ipynb",
   "provenance": []
  },
  "environment": {
   "name": "tf2-2-3-gpu.2-3.m59",
   "type": "gcloud",
   "uri": "gcr.io/deeplearning-platform-release/tf2-2-3-gpu.2-3:m59"
  },
  "kernelspec": {
   "display_name": "Python 3",
   "language": "python",
   "name": "python3"
  },
  "language_info": {
   "codemirror_mode": {
    "name": "ipython",
    "version": 3
   },
   "file_extension": ".py",
   "mimetype": "text/x-python",
   "name": "python",
   "nbconvert_exporter": "python",
   "pygments_lexer": "ipython3",
   "version": "3.7.8"
  }
 },
 "nbformat": 4,
 "nbformat_minor": 4
}
