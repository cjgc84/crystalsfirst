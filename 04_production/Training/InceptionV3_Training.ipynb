{
 "cells": [
  {
   "cell_type": "code",
   "execution_count": 25,
   "metadata": {
    "id": "L1WtoaOHVrVh"
   },
   "outputs": [],
   "source": [
    "import matplotlib.pyplot as plt\n",
    "import numpy as np\n",
    "import pandas as pd\n",
    "import os\n",
    "import shutil\n",
    "from google.cloud import storage\n",
    "import PIL\n",
    "from pathlib import Path\n",
    "import tensorflow as tf\n",
    "\n",
    "\n",
    "from tensorflow import keras\n",
    "from tensorflow.keras import layers\n",
    "from tensorflow.keras.applications import InceptionV3\n",
    "from tensorflow.keras.preprocessing.image import img_to_array\n",
    "from tensorflow.keras.preprocessing.image import load_img\n",
    "from tensorflow.keras.applications import imagenet_utils\n",
    "from tensorflow.keras.models import Model, Sequential\n",
    "from tensorflow.keras.optimizers import Adam\n",
    "from sklearn.metrics import confusion_matrix, classification_report, ConfusionMatrixDisplay, roc_curve, roc_auc_score\n",
    "from sklearn.utils.class_weight import compute_class_weight"
   ]
  },
  {
   "cell_type": "markdown",
   "metadata": {},
   "source": [
    "# Getting the current working directory"
   ]
  },
  {
   "cell_type": "code",
   "execution_count": 3,
   "metadata": {},
   "outputs": [
    {
     "data": {
      "text/plain": [
       "'/home/jupyter/Training'"
      ]
     },
     "execution_count": 3,
     "metadata": {},
     "output_type": "execute_result"
    }
   ],
   "source": [
    "cwd = os.getcwd()\n",
    "cwd"
   ]
  },
  {
   "cell_type": "markdown",
   "metadata": {},
   "source": [
    "# Copying training and test folder from storage to VM"
   ]
  },
  {
   "cell_type": "code",
   "execution_count": 4,
   "metadata": {
    "collapsed": true,
    "jupyter": {
     "outputs_hidden": true
    }
   },
   "outputs": [
    {
     "name": "stdout",
     "output_type": "stream",
     "text": [
      "Copying gs://storage_4/training_data/crystal/c_image (14).jpg...\n",
      "Copying gs://storage_4/training_data/crystal/c_image (284).jpg...\n",
      "Copying gs://storage_4/training_data/crystal/c_image (286).jpg...\n",
      "Copying gs://storage_4/training_data/crystal/c_image (289).jpg...               \n",
      "Copying gs://storage_4/training_data/crystal/c_image (290).jpg...\n",
      "Copying gs://storage_4/training_data/crystal/c_image (292).jpg...               \n",
      "Copying gs://storage_4/training_data/crystal/c_image (293).jpg...               \n",
      "Copying gs://storage_4/training_data/crystal/c_image (295).JPG...\n",
      "Copying gs://storage_4/training_data/crystal/c_image (296).JPG...\n",
      "Copying gs://storage_4/training_data/crystal/c_image (297).JPG...               \n",
      "Copying gs://storage_4/training_data/crystal/c_image (307).JPG...\n",
      "Copying gs://storage_4/training_data/crystal/c_image (305).JPG...\n",
      "Copying gs://storage_4/training_data/crystal/c_image (299).JPG...               \n",
      "Copying gs://storage_4/training_data/crystal/c_image (300).JPG...\n",
      "Copying gs://storage_4/training_data/crystal/c_image (308).JPG...\n",
      "Copying gs://storage_4/training_data/crystal/c_image (306).JPG...\n",
      "Copying gs://storage_4/training_data/crystal/c_image (303).JPG...               \n",
      "Copying gs://storage_4/training_data/crystal/c_image (309).JPG...\n",
      "Copying gs://storage_4/training_data/crystal/c_image (301).JPG...\n",
      "Copying gs://storage_4/training_data/crystal/c_image (302).JPG...\n",
      "Copying gs://storage_4/training_data/crystal/c_image (312).JPG...               \n",
      "Copying gs://storage_4/training_data/crystal/c_image (311).JPG...\n",
      "Copying gs://storage_4/training_data/crystal/c_image (313).JPG...               \n",
      "Copying gs://storage_4/training_data/crystal/c_image (314).JPG...\n",
      "Copying gs://storage_4/training_data/crystal/c_image (316).JPG...               \n",
      "Copying gs://storage_4/training_data/crystal/c_image (315).JPG...\n",
      "Copying gs://storage_4/training_data/crystal/c_image (318).JPG...               \n",
      "Copying gs://storage_4/training_data/crystal/c_image (319).JPG...               \n",
      "Copying gs://storage_4/training_data/crystal/c_image (320).JPG...               \n",
      "Copying gs://storage_4/training_data/crystal/c_image (321).JPG...               \n",
      "Copying gs://storage_4/training_data/crystal/c_image (323).JPG...               \n",
      "Copying gs://storage_4/training_data/crystal/c_image (325).JPG...\n",
      "Copying gs://storage_4/training_data/crystal/c_image (326).JPG...\n",
      "Copying gs://storage_4/training_data/crystal/c_image (328).JPG...\n",
      "Copying gs://storage_4/training_data/crystal/c_image (322).JPG...               \n",
      "Copying gs://storage_4/training_data/crystal/c_image (330).JPG...               \n",
      "Copying gs://storage_4/training_data/crystal/c_image (331).JPG...\n",
      "Copying gs://storage_4/training_data/crystal/c_image (333).JPG...               \n",
      "Copying gs://storage_4/training_data/crystal/c_image (332).JPG...               \n",
      "Copying gs://storage_4/training_data/crystal/c_image (336).JPG...               \n",
      "Copying gs://storage_4/training_data/crystal/c_image (335).JPG...               \n",
      "Copying gs://storage_4/training_data/crystal/c_image (334).JPG...\n",
      "Copying gs://storage_4/training_data/crystal/c_image (337).JPG...               \n",
      "Copying gs://storage_4/training_data/crystal/c_image (339).JPG...\n",
      "Copying gs://storage_4/training_data/crystal/c_image (340).JPG...               \n",
      "Copying gs://storage_4/training_data/crystal/c_image (341).JPG...               \n",
      "Copying gs://storage_4/training_data/crystal/c_image (342).JPG...               \n",
      "Copying gs://storage_4/training_data/crystal/c_image (343).JPG...               \n",
      "Copying gs://storage_4/training_data/crystal/c_image (344).JPG...               \n",
      "Copying gs://storage_4/training_data/crystal/c_image (345).JPG...               \n",
      "Copying gs://storage_4/training_data/crystal/c_image (346).JPG...               \n",
      "Copying gs://storage_4/training_data/crystal/c_image (347).JPG...               \n",
      "Copying gs://storage_4/training_data/crystal/c_image (348).JPG...               \n",
      "Copying gs://storage_4/training_data/crystal/c_image (349).JPG...               \n",
      "Copying gs://storage_4/training_data/crystal/c_image (350).JPG...               \n",
      "Copying gs://storage_4/training_data/crystal/c_image (351).JPG...               \n",
      "Copying gs://storage_4/training_data/crystal/c_image (355).JPG...\n",
      "Copying gs://storage_4/training_data/crystal/c_image (352).JPG...               \n",
      "Copying gs://storage_4/training_data/crystal/c_image (354).JPG...               \n",
      "Copying gs://storage_4/training_data/crystal/c_image (356).JPG...               \n",
      "Copying gs://storage_4/training_data/crystal/c_image (359).JPG...               \n",
      "Copying gs://storage_4/training_data/crystal/c_image (360).JPG...               \n",
      "Copying gs://storage_4/training_data/crystal/c_image (357).JPG...               \n",
      "Copying gs://storage_4/training_data/crystal/c_image (361).JPG...               \n",
      "Copying gs://storage_4/training_data/crystal/c_image (363).JPG...               \n",
      "Copying gs://storage_4/training_data/crystal/c_image (364).JPG...\n",
      "Copying gs://storage_4/training_data/crystal/c_image (365).JPG...               \n",
      "Copying gs://storage_4/training_data/crystal/c_image (367).JPG...               \n",
      "Copying gs://storage_4/training_data/crystal/c_image (368).JPG...               \n",
      "Copying gs://storage_4/training_data/crystal/c_image (369).JPG...               \n",
      "Copying gs://storage_4/training_data/crystal/c_image (370).JPG...               \n",
      "Copying gs://storage_4/training_data/crystal/c_image (371).JPG...               \n",
      "Copying gs://storage_4/training_data/crystal/c_image (372).JPG...               \n",
      "Copying gs://storage_4/training_data/crystal/c_image (373).JPG...               \n",
      "Copying gs://storage_4/training_data/crystal/c_image (374).JPG...               \n",
      "Copying gs://storage_4/training_data/crystal/c_image (375).JPG...               \n",
      "Copying gs://storage_4/training_data/crystal/c_image (376).JPG...               \n",
      "Copying gs://storage_4/training_data/crystal/c_image (378).JPG...               \n",
      "Copying gs://storage_4/training_data/crystal/c_image (377).JPG...               \n",
      "Copying gs://storage_4/training_data/crystal/c_image (380).JPG...               \n",
      "Copying gs://storage_4/training_data/crystal/c_image (379).JPG...               \n",
      "Copying gs://storage_4/training_data/crystal/c_image (383).JPG...               \n",
      "Copying gs://storage_4/training_data/crystal/c_image (381).JPG...               \n",
      "Copying gs://storage_4/training_data/crystal/c_image (384).JPG...               \n",
      "Copying gs://storage_4/training_data/crystal/c_image (385).JPG...               \n",
      "Copying gs://storage_4/training_data/crystal/c_image (387).JPG...               \n",
      "Copying gs://storage_4/training_data/crystal/c_image (388).JPG...               \n",
      "Copying gs://storage_4/training_data/crystal/c_image (392).JPG...               \n",
      "Copying gs://storage_4/training_data/crystal/c_image (393).JPG...               \n",
      "Copying gs://storage_4/training_data/crystal/c_image (394).JPG...               \n",
      "Copying gs://storage_4/training_data/crystal/c_image (395).JPG...               \n",
      "Copying gs://storage_4/training_data/crystal/c_image (396).JPG...               \n",
      "Copying gs://storage_4/training_data/crystal/c_image (397).JPG...               \n",
      "Copying gs://storage_4/training_data/crystal/c_image (398).JPG...               \n",
      "Copying gs://storage_4/training_data/crystal/c_image (400).JPG...               \n",
      "Copying gs://storage_4/training_data/crystal/c_image (401).JPG...               \n",
      "Copying gs://storage_4/training_data/crystal/c_image (403).JPG...               \n",
      "Copying gs://storage_4/training_data/crystal/c_image (405).JPG...               \n",
      "Copying gs://storage_4/training_data/crystal/c_image (406).JPG...               \n",
      "Copying gs://storage_4/training_data/crystal/c_image (407).JPG...               \n",
      "Copying gs://storage_4/training_data/crystal/c_image (408).JPG...               \n",
      "Copying gs://storage_4/training_data/crystal/c_image (409).JPG...\n",
      "Copying gs://storage_4/training_data/crystal/c_image (410).JPG...               \n",
      "Copying gs://storage_4/training_data/crystal/c_image (411).JPG...               \n",
      "Copying gs://storage_4/training_data/crystal/c_image (412).JPG...               \n",
      "Copying gs://storage_4/training_data/crystal/c_image (413).JPG...               \n",
      "Copying gs://storage_4/training_data/crystal/c_image (416).JPG...               \n",
      "Copying gs://storage_4/training_data/crystal/c_image (417).JPG...               \n",
      "Copying gs://storage_4/training_data/crystal/c_image (418).JPG...               \n",
      "Copying gs://storage_4/training_data/crystal/c_image (419).JPG...               \n",
      "Copying gs://storage_4/training_data/crystal/c_image (421).JPG...               \n",
      "Copying gs://storage_4/training_data/crystal/c_image (420).JPG...\n",
      "Copying gs://storage_4/training_data/crystal/c_image (422).JPG...               \n",
      "Copying gs://storage_4/training_data/crystal/c_image (424).JPG...               \n",
      "Copying gs://storage_4/training_data/crystal/c_image (425).JPG...               \n",
      "Copying gs://storage_4/training_data/crystal/c_image (426).JPG...               \n",
      "Copying gs://storage_4/training_data/crystal/c_image (427).JPG...               \n",
      "Copying gs://storage_4/training_data/crystal/c_image (428).JPG...               \n",
      "Copying gs://storage_4/training_data/crystal/c_image (430).JPG...               \n",
      "Copying gs://storage_4/training_data/crystal/c_image (431).JPG...               \n",
      "Copying gs://storage_4/training_data/crystal/c_image (432).JPG...               \n",
      "Copying gs://storage_4/training_data/crystal/c_image (436).JPG...               \n",
      "Copying gs://storage_4/training_data/crystal/c_image (433).JPG...               \n",
      "Copying gs://storage_4/training_data/crystal/c_image (438).JPG...               \n",
      "Copying gs://storage_4/training_data/crystal/c_image (439).JPG...               \n",
      "Copying gs://storage_4/training_data/crystal/c_image (440).JPG...               \n",
      "Copying gs://storage_4/training_data/crystal/c_image (437).JPG...               \n",
      "Copying gs://storage_4/training_data/crystal/c_image (441).JPG...\n",
      "Copying gs://storage_4/training_data/crystal/c_image (442).JPG...               \n",
      "Copying gs://storage_4/training_data/crystal/c_image (443).JPG...               \n",
      "Copying gs://storage_4/training_data/crystal/c_image (444).JPG...               \n",
      "Copying gs://storage_4/training_data/crystal/c_image (445).JPG...               \n",
      "Copying gs://storage_4/training_data/crystal/c_image (446).JPG...               \n",
      "Copying gs://storage_4/training_data/crystal/c_image (448).JPG...               \n",
      "Copying gs://storage_4/training_data/crystal/c_image (449).JPG...               \n",
      "Copying gs://storage_4/training_data/crystal/c_image (451).JPG...               \n",
      "Copying gs://storage_4/training_data/crystal/c_image (452).JPG...               \n",
      "Copying gs://storage_4/training_data/crystal/c_image (453).JPG...               \n",
      "Copying gs://storage_4/training_data/crystal/c_image (454).JPG...               \n",
      "Copying gs://storage_4/training_data/crystal/c_image (455).JPG...               \n",
      "Copying gs://storage_4/training_data/crystal/c_image (456).JPG...               \n",
      "Copying gs://storage_4/training_data/crystal/c_image (458).JPG...               \n",
      "Copying gs://storage_4/training_data/crystal/c_image (457).JPG...\n",
      "Copying gs://storage_4/training_data/crystal/c_image (459).JPG...               \n",
      "Copying gs://storage_4/training_data/crystal/c_image (460).JPG...               \n",
      "Copying gs://storage_4/training_data/crystal/c_image (462).JPG...\n",
      "Copying gs://storage_4/training_data/crystal/c_image (463).JPG...               \n",
      "Copying gs://storage_4/training_data/crystal/c_image (464).JPG...               \n",
      "Copying gs://storage_4/training_data/crystal/c_image (466).JPG...               \n",
      "Copying gs://storage_4/training_data/crystal/c_image (465).JPG...               \n",
      "Copying gs://storage_4/training_data/crystal/c_image (467).JPG...               \n",
      "Copying gs://storage_4/training_data/crystal/c_image (468).JPG...               \n",
      "Copying gs://storage_4/training_data/crystal/c_image (470).JPG...               \n",
      "Copying gs://storage_4/training_data/crystal/c_image (471).JPG...               \n",
      "Copying gs://storage_4/training_data/crystal/c_image (469).JPG...               \n",
      "Copying gs://storage_4/training_data/crystal/c_image (472).JPG...               \n",
      "Copying gs://storage_4/training_data/crystal/c_image (473).JPG...               \n",
      "Copying gs://storage_4/training_data/crystal/c_image (474).JPG...               \n",
      "Copying gs://storage_4/training_data/crystal/c_image (475).JPG...               \n",
      "Copying gs://storage_4/training_data/crystal/c_image (478).JPG...               \n",
      "Copying gs://storage_4/training_data/crystal/c_image (483).JPG...               \n",
      "Copying gs://storage_4/training_data/crystal/c_image (479).JPG...\n",
      "Copying gs://storage_4/training_data/crystal/c_image (481).JPG...               \n",
      "Copying gs://storage_4/training_data/crystal/c_image (484).JPG...               \n",
      "Copying gs://storage_4/training_data/crystal/c_image (476).JPG...               \n",
      "Copying gs://storage_4/training_data/crystal/c_image (487).JPG...               \n",
      "Copying gs://storage_4/training_data/crystal/c_image (490).JPG...\n",
      "Copying gs://storage_4/training_data/crystal/c_image (488).JPG...               \n",
      "Copying gs://storage_4/training_data/crystal/c_image (491).JPG...\n",
      "Copying gs://storage_4/training_data/crystal/c_image (485).JPG...\n",
      "Copying gs://storage_4/training_data/crystal/c_image (486).JPG...               \n",
      "Copying gs://storage_4/training_data/crystal/c_image (494).JPG...               \n",
      "Copying gs://storage_4/training_data/crystal/c_image (495).JPG...\n",
      "Copying gs://storage_4/training_data/crystal/c_image (496).JPG...\n",
      "Copying gs://storage_4/training_data/crystal/c_image (489).JPG...               \n",
      "Copying gs://storage_4/training_data/crystal/c_image (492).JPG...               \n",
      "Copying gs://storage_4/training_data/crystal/c_image (497).JPG...\n",
      "Copying gs://storage_4/training_data/crystal/c_image (498).JPG...               \n",
      "Copying gs://storage_4/training_data/crystal/c_image (499).JPG...               \n",
      "Copying gs://storage_4/training_data/crystal/c_image (500).JPG...               \n",
      "Copying gs://storage_4/training_data/crystal/c_image (501).JPG...               \n",
      "Copying gs://storage_4/training_data/crystal/c_image (502).JPG...\n",
      "Copying gs://storage_4/training_data/crystal/c_image (503).JPG...               \n",
      "Copying gs://storage_4/training_data/crystal/c_image (504).JPG...               \n",
      "Copying gs://storage_4/training_data/crystal/c_image (505).JPG...               \n",
      "Copying gs://storage_4/training_data/crystal/c_image (506).JPG...\n",
      "Copying gs://storage_4/training_data/crystal/c_image (508).JPG...               \n",
      "Copying gs://storage_4/training_data/crystal/c_image (509).JPG...               \n",
      "Copying gs://storage_4/training_data/crystal/c_image (507).JPG...               \n",
      "Copying gs://storage_4/training_data/crystal/c_image (511).JPG...               \n",
      "Copying gs://storage_4/training_data/crystal/c_image (510).JPG...               \n",
      "Copying gs://storage_4/training_data/crystal/c_image (514).JPG...               \n",
      "Copying gs://storage_4/training_data/crystal/c_image (516).JPG...\n",
      "Copying gs://storage_4/training_data/crystal/c_image (512).JPG...               \n",
      "Copying gs://storage_4/training_data/crystal/c_image (513).JPG...\n",
      "Copying gs://storage_4/training_data/crystal/c_image (517).JPG...               \n",
      "Copying gs://storage_4/training_data/crystal/c_image (518).JPG...\n",
      "Copying gs://storage_4/training_data/crystal/c_image (519).JPG...               \n",
      "Copying gs://storage_4/training_data/crystal/c_image (520).JPG...               \n",
      "Copying gs://storage_4/training_data/crystal/c_image (521).JPG...               \n",
      "Copying gs://storage_4/training_data/crystal/c_image (522).JPG...               \n",
      "Copying gs://storage_4/training_data/crystal/c_image (523).JPG...               \n",
      "Copying gs://storage_4/training_data/crystal/c_image (524).JPG...               \n",
      "Copying gs://storage_4/training_data/crystal/c_image (525).JPG...               \n",
      "Copying gs://storage_4/training_data/crystal/c_image (526).JPG...               \n",
      "Copying gs://storage_4/training_data/crystal/c_image (527).JPG...               \n",
      "Copying gs://storage_4/training_data/crystal/c_image (528).JPG...               \n",
      "Copying gs://storage_4/training_data/crystal/c_image (529).JPG...               \n",
      "Copying gs://storage_4/training_data/crystal/c_image (530).JPG...               \n",
      "Copying gs://storage_4/training_data/crystal/c_image (531).JPG...               \n",
      "Copying gs://storage_4/training_data/crystal/c_image (532).JPG...               \n",
      "Copying gs://storage_4/training_data/crystal/c_image (533).JPG...               \n",
      "Copying gs://storage_4/training_data/crystal/c_image (534).JPG...               \n",
      "Copying gs://storage_4/training_data/crystal/c_image (535).JPG...               \n",
      "Copying gs://storage_4/training_data/crystal/c_image (536).JPG...               \n",
      "Copying gs://storage_4/training_data/crystal/c_image (537).JPG...               \n",
      "Copying gs://storage_4/training_data/crystal/c_image (539).JPG...               \n",
      "Copying gs://storage_4/training_data/crystal/c_image (541).JPG...               \n",
      "Copying gs://storage_4/training_data/crystal/c_image (542).JPG...\n",
      "Copying gs://storage_4/training_data/crystal/c_image (543).JPG...               \n",
      "Copying gs://storage_4/training_data/crystal/c_image (546).JPG...               \n",
      "Copying gs://storage_4/training_data/crystal/c_image (544).JPG...               \n",
      "Copying gs://storage_4/training_data/crystal/c_image (547).JPG...               \n",
      "Copying gs://storage_4/training_data/crystal/c_image (548).JPG...               \n",
      "Copying gs://storage_4/training_data/crystal/c_image (549).JPG...               \n",
      "Copying gs://storage_4/training_data/crystal/c_image (550).JPG...               \n",
      "Copying gs://storage_4/training_data/crystal/c_image (551).JPG...               \n",
      "Copying gs://storage_4/training_data/crystal/c_image (552).JPG...               \n",
      "Copying gs://storage_4/training_data/crystal/c_image (553).JPG...               \n",
      "Copying gs://storage_4/training_data/crystal/c_image (554).JPG...               \n",
      "Copying gs://storage_4/training_data/crystal/c_image (555).JPG...               \n",
      "Copying gs://storage_4/training_data/crystal/c_image (556).JPG...               \n",
      "Copying gs://storage_4/training_data/crystal/c_image (557).JPG...               \n",
      "Copying gs://storage_4/training_data/crystal/c_image (558).JPG...               \n",
      "Copying gs://storage_4/training_data/crystal/c_image (559).JPG...               \n",
      "Copying gs://storage_4/training_data/crystal/c_image (560).JPG...\n",
      "Copying gs://storage_4/training_data/crystal/c_image (561).JPG...               \n",
      "Copying gs://storage_4/training_data/crystal/c_image (563).JPG...               \n",
      "Copying gs://storage_4/training_data/crystal/c_image (562).JPG...\n",
      "Copying gs://storage_4/training_data/crystal/c_image (564).JPG...               \n",
      "Copying gs://storage_4/training_data/crystal/c_image (565).JPG...               \n",
      "Copying gs://storage_4/training_data/crystal/c_image (566).JPG...               \n",
      "Copying gs://storage_4/training_data/crystal/c_image (567).JPG...               \n",
      "Copying gs://storage_4/training_data/crystal/c_image (569).JPG...               \n",
      "Copying gs://storage_4/training_data/crystal/c_image (570).JPG...               \n",
      "Copying gs://storage_4/training_data/crystal/c_image (571).JPG...               \n",
      "Copying gs://storage_4/training_data/crystal/c_image (572).JPG...               \n",
      "Copying gs://storage_4/training_data/crystal/c_image (573).JPG...               \n",
      "Copying gs://storage_4/training_data/crystal/c_image (574).JPG...               \n",
      "Copying gs://storage_4/training_data/crystal/c_image (575).JPG...               \n",
      "Copying gs://storage_4/training_data/crystal/c_image (576).jpg...               \n",
      "Copying gs://storage_4/training_data/crystal/c_image (577).jpg...               \n",
      "Copying gs://storage_4/training_data/crystal/c_image (578).jpg...               \n",
      "Copying gs://storage_4/training_data/crystal/c_image (579).jpg...               \n",
      "Copying gs://storage_4/training_data/crystal/c_image (584).jpg...               \n",
      "Copying gs://storage_4/training_data/crystal/c_image (586).jpg...               \n",
      "Copying gs://storage_4/training_data/crystal/desktop.ini...                     \n",
      "Copying gs://storage_4/training_data/no_crystal/no_c_ap (14).jpg...             \n",
      "Copying gs://storage_4/training_data/crystal/c_image (580).jpg...               \n",
      "Copying gs://storage_4/training_data/crystal/c_image (583).jpg...               \n",
      "Copying gs://storage_4/training_data/no_crystal/no_c_ap (11).jpg...\n",
      "Copying gs://storage_4/training_data/crystal/c_image (581).jpg...\n",
      "Copying gs://storage_4/training_data/no_crystal/no_c_ap (15).jpg...\n",
      "Copying gs://storage_4/training_data/no_crystal/no_c_ap (12).jpg...             \n",
      "Copying gs://storage_4/training_data/no_crystal/desktop.ini...\n",
      "Copying gs://storage_4/training_data/no_crystal/no_c_ap (16).jpg...             \n",
      "Copying gs://storage_4/training_data/no_crystal/no_c_ap (1).jpg...\n",
      "Copying gs://storage_4/training_data/no_crystal/no_c_ap (10).jpg...             \n",
      "Copying gs://storage_4/training_data/no_crystal/no_c_ap (13).jpg...\n",
      "Copying gs://storage_4/training_data/no_crystal/no_c_ap (18).jpg...:00:01       \n",
      "Copying gs://storage_4/training_data/no_crystal/no_c_ap (17).jpg...:00:01       \n",
      "Copying gs://storage_4/training_data/no_crystal/no_c_ap (19).jpg...:00:01       \n",
      "Copying gs://storage_4/training_data/no_crystal/no_c_ap (2).jpg...0:00:01       \n",
      "Copying gs://storage_4/training_data/no_crystal/no_c_ap (21).jpg...:00:01       \n",
      "Copying gs://storage_4/training_data/no_crystal/no_c_ap (23).jpg...:00:01       \n",
      "Copying gs://storage_4/training_data/no_crystal/no_c_ap (20).jpg...\n",
      "Copying gs://storage_4/training_data/no_crystal/no_c_ap (25).jpg...:00:01       \n",
      "Copying gs://storage_4/training_data/no_crystal/no_c_ap (24).jpg...:00:01       \n",
      "Copying gs://storage_4/training_data/no_crystal/no_c_ap (22).jpg...:00:01       \n",
      "Copying gs://storage_4/training_data/no_crystal/no_c_ap (26).jpg...:00:01       \n",
      "Copying gs://storage_4/training_data/no_crystal/no_c_ap (28).jpg...:00:01       \n",
      "Copying gs://storage_4/training_data/no_crystal/no_c_ap (27).jpg...:00:01       \n",
      "Copying gs://storage_4/training_data/no_crystal/no_c_ap (3).jpg...0:00:01       \n",
      "Copying gs://storage_4/training_data/no_crystal/no_c_ap (31).jpg...:00:01       \n",
      "Copying gs://storage_4/training_data/no_crystal/no_c_ap (30).jpg...:00:01       \n",
      "Copying gs://storage_4/training_data/no_crystal/no_c_ap (29).jpg...:00:01       \n",
      "Copying gs://storage_4/training_data/no_crystal/no_c_ap (33).jpg...:00:01       \n",
      "Copying gs://storage_4/training_data/no_crystal/no_c_ap (34).jpg...:00:01       \n",
      "Copying gs://storage_4/training_data/no_crystal/no_c_ap (32).jpg...:00:01       \n",
      "Copying gs://storage_4/training_data/no_crystal/no_c_ap (35).jpg...:00:01       \n",
      "Copying gs://storage_4/training_data/no_crystal/no_c_ap (36).jpg...:00:01       \n",
      "Copying gs://storage_4/training_data/no_crystal/no_c_ap (37).jpg...:00:01       \n",
      "Copying gs://storage_4/training_data/no_crystal/no_c_ap (38).jpg...:00:01       \n",
      "Copying gs://storage_4/training_data/no_crystal/no_c_ap (39).jpg...:00:01       \n",
      "Copying gs://storage_4/training_data/no_crystal/no_c_ap (40).jpg...:00:01       \n",
      "Copying gs://storage_4/training_data/no_crystal/no_c_ap (4).jpg...\n",
      "Copying gs://storage_4/training_data/no_crystal/no_c_ap (41).jpg...:00:01       \n",
      "Copying gs://storage_4/training_data/no_crystal/no_c_ap (42).jpg...:00:01       \n",
      "Copying gs://storage_4/training_data/no_crystal/no_c_ap (43).jpg...:00:01       \n",
      "Copying gs://storage_4/training_data/no_crystal/no_c_ap (44).jpg...:00:01       \n",
      "Copying gs://storage_4/training_data/no_crystal/no_c_ap (46).jpg...:00:01       \n",
      "Copying gs://storage_4/training_data/no_crystal/no_c_ap (47).jpg...:00:01       \n",
      "Copying gs://storage_4/training_data/no_crystal/no_c_ap (48).jpg...:00:01       \n",
      "Copying gs://storage_4/training_data/no_crystal/no_c_ap (50).jpg...:00:01       \n",
      "Copying gs://storage_4/training_data/no_crystal/no_c_ap (45).jpg...:00:01       \n",
      "Copying gs://storage_4/training_data/no_crystal/no_c_ap (49).jpg...:00:01       \n",
      "Copying gs://storage_4/training_data/no_crystal/no_c_ap (5).jpg...0:00:01       \n",
      "Copying gs://storage_4/training_data/no_crystal/no_c_ap (51).jpg...:00:01       \n",
      "Copying gs://storage_4/training_data/no_crystal/no_c_ap (52).jpg...:00:01       \n",
      "Copying gs://storage_4/training_data/no_crystal/no_c_ap (53).jpg...:00:01       \n",
      "Copying gs://storage_4/training_data/no_crystal/no_c_ap (54).jpg...:00:01       \n",
      "Copying gs://storage_4/training_data/no_crystal/no_c_ap (55).jpg...:00:01       \n",
      "Copying gs://storage_4/training_data/no_crystal/no_c_ap (57).jpg...:00:01       \n",
      "Copying gs://storage_4/training_data/no_crystal/no_c_ap (58).jpg...:00:01       \n",
      "Copying gs://storage_4/training_data/no_crystal/no_c_ap (56).jpg...:00:01       \n",
      "Copying gs://storage_4/training_data/no_crystal/no_c_ap (59).jpg...:00:01       \n",
      "Copying gs://storage_4/training_data/no_crystal/no_c_ap (6).jpg...0:00:01       \n",
      "Copying gs://storage_4/training_data/no_crystal/no_c_ap (61).jpg...:00:01       \n",
      "Copying gs://storage_4/training_data/no_crystal/no_c_ap (62).jpg...:00:01       \n",
      "Copying gs://storage_4/training_data/no_crystal/no_c_ap (60).jpg...\n",
      "Copying gs://storage_4/training_data/no_crystal/no_c_ap (63).jpg...:00:01       \n",
      "Copying gs://storage_4/training_data/no_crystal/no_c_ap (64).jpg...:00:01       \n",
      "Copying gs://storage_4/training_data/no_crystal/no_c_ap (67).jpg...:00:01       \n",
      "Copying gs://storage_4/training_data/no_crystal/no_c_ap (65).jpg...:00:01       \n",
      "Copying gs://storage_4/training_data/no_crystal/no_c_ap (66).jpg...:00:01       \n",
      "Copying gs://storage_4/training_data/no_crystal/no_c_ap (68).jpg...:00:01       \n",
      "Copying gs://storage_4/training_data/no_crystal/no_c_ap (69).jpg...:00:01       \n",
      "Copying gs://storage_4/training_data/no_crystal/no_c_ap (7).jpg...0:00:01       \n",
      "Copying gs://storage_4/training_data/no_crystal/no_c_ap (70).jpg...:00:01       \n",
      "Copying gs://storage_4/training_data/no_crystal/no_c_ap (72).jpg...:00:01       \n",
      "Copying gs://storage_4/training_data/no_crystal/no_c_ap (73).jpg...:00:01       \n",
      "Copying gs://storage_4/training_data/no_crystal/no_c_ap (71).jpg...:00:01       \n",
      "Copying gs://storage_4/training_data/no_crystal/no_c_ap (76).jpg...:00:01       \n",
      "Copying gs://storage_4/training_data/no_crystal/no_c_ap (74).jpg...:00:01       \n",
      "Copying gs://storage_4/training_data/no_crystal/no_c_ap (75).jpg...:00:01       \n",
      "Copying gs://storage_4/training_data/no_crystal/no_c_ap (79).jpg...:00:01       \n",
      "Copying gs://storage_4/training_data/no_crystal/no_c_ap (77).jpg...:00:01       \n",
      "Copying gs://storage_4/training_data/no_crystal/no_c_ap (78).jpg...\n",
      "Copying gs://storage_4/training_data/no_crystal/no_c_ap (8).jpg...0:00:01       \n",
      "Copying gs://storage_4/training_data/no_crystal/no_c_ap (80).jpg...:00:01       \n",
      "Copying gs://storage_4/training_data/no_crystal/no_c_ap (9).jpg...0:00:01       \n",
      "Copying gs://storage_4/training_data/no_crystal/no_c_clear (1).jpg...\n",
      "Copying gs://storage_4/training_data/no_crystal/no_c_clear (10).jpg...:01       \n",
      "Copying gs://storage_4/training_data/no_crystal/no_c_clear (101).jpg...01       \n",
      "Copying gs://storage_4/training_data/no_crystal/no_c_clear (100).jpg...01       \n",
      "Copying gs://storage_4/training_data/no_crystal/no_c_clear (102).jpg...01       \n",
      "Copying gs://storage_4/training_data/no_crystal/no_c_clear (103).jpg...01       \n",
      "Copying gs://storage_4/training_data/no_crystal/no_c_clear (104).jpg...01       \n",
      "Copying gs://storage_4/training_data/no_crystal/no_c_clear (105).jpg...01       \n",
      "Copying gs://storage_4/training_data/no_crystal/no_c_clear (106).jpg...01       \n",
      "Copying gs://storage_4/training_data/no_crystal/no_c_clear (107).jpg...01       \n",
      "Copying gs://storage_4/training_data/no_crystal/no_c_clear (108).jpg...01       \n",
      "Copying gs://storage_4/training_data/no_crystal/no_c_clear (11).jpg...:01       \n",
      "Copying gs://storage_4/training_data/no_crystal/no_c_clear (109).jpg...01       \n",
      "Copying gs://storage_4/training_data/no_crystal/no_c_clear (110).jpg...01       \n",
      "Copying gs://storage_4/training_data/no_crystal/no_c_clear (113).jpg...01       \n",
      "Copying gs://storage_4/training_data/no_crystal/no_c_clear (111).jpg...\n",
      "Copying gs://storage_4/training_data/no_crystal/no_c_clear (112).jpg...01       \n",
      "Copying gs://storage_4/training_data/no_crystal/no_c_clear (115).jpg...01       \n",
      "Copying gs://storage_4/training_data/no_crystal/no_c_clear (116).jpg...\n",
      "Copying gs://storage_4/training_data/no_crystal/no_c_clear (114).jpg...01       \n",
      "Copying gs://storage_4/training_data/no_crystal/no_c_clear (118).jpg...01       \n",
      "Copying gs://storage_4/training_data/no_crystal/no_c_clear (117).jpg...01       \n",
      "Copying gs://storage_4/training_data/no_crystal/no_c_clear (119).jpg...\n",
      "Copying gs://storage_4/training_data/no_crystal/no_c_clear (12).jpg...\n",
      "Copying gs://storage_4/training_data/no_crystal/no_c_clear (121).jpg...01       \n",
      "Copying gs://storage_4/training_data/no_crystal/no_c_clear (120).jpg...\n",
      "Copying gs://storage_4/training_data/no_crystal/no_c_clear (122).jpg...01       \n",
      "Copying gs://storage_4/training_data/no_crystal/no_c_clear (123).jpg...01       \n",
      "Copying gs://storage_4/training_data/no_crystal/no_c_clear (124).jpg...\n",
      "Copying gs://storage_4/training_data/no_crystal/no_c_clear (125).jpg...01       \n",
      "Copying gs://storage_4/training_data/no_crystal/no_c_clear (127).jpg...01       \n",
      "Copying gs://storage_4/training_data/no_crystal/no_c_clear (128).jpg...01       \n",
      "Copying gs://storage_4/training_data/no_crystal/no_c_clear (126).jpg...01       \n",
      "Copying gs://storage_4/training_data/no_crystal/no_c_clear (129).jpg...01       \n",
      "Copying gs://storage_4/training_data/no_crystal/no_c_clear (130).jpg...01       \n",
      "Copying gs://storage_4/training_data/no_crystal/no_c_clear (13).jpg...:01       \n",
      "Copying gs://storage_4/training_data/no_crystal/no_c_clear (131).jpg...\n",
      "Copying gs://storage_4/training_data/no_crystal/no_c_clear (132).jpg...01       \n",
      "Copying gs://storage_4/training_data/no_crystal/no_c_clear (133).jpg...01       \n",
      "Copying gs://storage_4/training_data/no_crystal/no_c_clear (135).jpg...01       \n",
      "Copying gs://storage_4/training_data/no_crystal/no_c_clear (134).jpg...\n",
      "Copying gs://storage_4/training_data/no_crystal/no_c_clear (136).jpg...\n",
      "Copying gs://storage_4/training_data/no_crystal/no_c_clear (138).jpg...01       \n",
      "Copying gs://storage_4/training_data/no_crystal/no_c_clear (137).jpg...01       \n",
      "Copying gs://storage_4/training_data/no_crystal/no_c_clear (140).jpg...\n",
      "Copying gs://storage_4/training_data/no_crystal/no_c_clear (139).jpg...\n",
      "Copying gs://storage_4/training_data/no_crystal/no_c_clear (14).jpg...\n",
      "Copying gs://storage_4/training_data/no_crystal/no_c_clear (141).jpg...01       \n",
      "Copying gs://storage_4/training_data/no_crystal/no_c_clear (142).jpg...\n",
      "Copying gs://storage_4/training_data/no_crystal/no_c_clear (143).jpg...01       \n",
      "Copying gs://storage_4/training_data/no_crystal/no_c_clear (144).jpg...01       \n",
      "Copying gs://storage_4/training_data/no_crystal/no_c_clear (145).jpg...01       \n",
      "Copying gs://storage_4/training_data/no_crystal/no_c_clear (146).jpg...01       \n",
      "Copying gs://storage_4/training_data/no_crystal/no_c_clear (147).jpg...01       \n",
      "Copying gs://storage_4/training_data/no_crystal/no_c_clear (148).jpg...01       \n",
      "Copying gs://storage_4/training_data/no_crystal/no_c_clear (149).jpg...01       \n",
      "Copying gs://storage_4/training_data/no_crystal/no_c_clear (15).jpg...:01       \n",
      "Copying gs://storage_4/training_data/no_crystal/no_c_clear (150).jpg...01       \n",
      "Copying gs://storage_4/training_data/no_crystal/no_c_clear (151).jpg...01       \n",
      "Copying gs://storage_4/training_data/no_crystal/no_c_clear (155).jpg...01       \n",
      "Copying gs://storage_4/training_data/no_crystal/no_c_clear (153).jpg...01       \n",
      "Copying gs://storage_4/training_data/no_crystal/no_c_clear (152).jpg...01       \n",
      "Copying gs://storage_4/training_data/no_crystal/no_c_clear (154).jpg...\n",
      "Copying gs://storage_4/training_data/no_crystal/no_c_clear (156).jpg...01       \n",
      "Copying gs://storage_4/training_data/no_crystal/no_c_clear (157).jpg...01       \n",
      "Copying gs://storage_4/training_data/no_crystal/no_c_clear (158).jpg...01       \n",
      "Copying gs://storage_4/training_data/no_crystal/no_c_clear (159).jpg...01       \n",
      "Copying gs://storage_4/training_data/no_crystal/no_c_clear (16).jpg...:01       \n",
      "Copying gs://storage_4/training_data/no_crystal/no_c_clear (160).jpg...01       \n",
      "Copying gs://storage_4/training_data/no_crystal/no_c_clear (162).jpg...\n",
      "Copying gs://storage_4/training_data/no_crystal/no_c_clear (161).jpg...01       \n",
      "Copying gs://storage_4/training_data/no_crystal/no_c_clear (163).jpg...01       \n",
      "Copying gs://storage_4/training_data/no_crystal/no_c_clear (164).jpg...01       \n",
      "Copying gs://storage_4/training_data/no_crystal/no_c_clear (166).jpg...01       \n",
      "Copying gs://storage_4/training_data/no_crystal/no_c_clear (167).jpg...01       \n",
      "Copying gs://storage_4/training_data/no_crystal/no_c_clear (168).jpg...\n",
      "Copying gs://storage_4/training_data/no_crystal/no_c_clear (169).jpg...01       \n",
      "Copying gs://storage_4/training_data/no_crystal/no_c_clear (17).jpg...:01       \n",
      "Copying gs://storage_4/training_data/no_crystal/no_c_clear (170).jpg...01       \n",
      "Copying gs://storage_4/training_data/no_crystal/no_c_clear (165).jpg...01       \n",
      "Copying gs://storage_4/training_data/no_crystal/no_c_clear (172).jpg...01       \n",
      "Copying gs://storage_4/training_data/no_crystal/no_c_clear (171).jpg...01       \n",
      "Copying gs://storage_4/training_data/no_crystal/no_c_clear (173).jpg...01       \n",
      "Copying gs://storage_4/training_data/no_crystal/no_c_clear (174).jpg...\n",
      "Copying gs://storage_4/training_data/no_crystal/no_c_clear (175).jpg...01       \n",
      "Copying gs://storage_4/training_data/no_crystal/no_c_clear (176).jpg...01       \n",
      "Copying gs://storage_4/training_data/no_crystal/no_c_clear (177).jpg...01       \n",
      "Copying gs://storage_4/training_data/no_crystal/no_c_clear (178).jpg...01       \n",
      "Copying gs://storage_4/training_data/no_crystal/no_c_clear (179).jpg...01       \n",
      "Copying gs://storage_4/training_data/no_crystal/no_c_clear (180).jpg...01       \n",
      "Copying gs://storage_4/training_data/no_crystal/no_c_clear (18).jpg...:01       \n",
      "Copying gs://storage_4/training_data/no_crystal/no_c_clear (181).jpg...01       \n",
      "Copying gs://storage_4/training_data/no_crystal/no_c_clear (182).jpg...01       \n",
      "Copying gs://storage_4/training_data/no_crystal/no_c_clear (183).jpg...01       \n",
      "Copying gs://storage_4/training_data/no_crystal/no_c_clear (184).jpg...01       \n",
      "Copying gs://storage_4/training_data/no_crystal/no_c_clear (189).jpg...01       \n",
      "Copying gs://storage_4/training_data/no_crystal/no_c_clear (187).jpg...\n",
      "Copying gs://storage_4/training_data/no_crystal/no_c_clear (185).jpg...01       \n",
      "Copying gs://storage_4/training_data/no_crystal/no_c_clear (188).jpg...01       \n",
      "Copying gs://storage_4/training_data/no_crystal/no_c_clear (186).jpg...01       \n",
      "Copying gs://storage_4/training_data/no_crystal/no_c_clear (191).jpg...01       \n",
      "Copying gs://storage_4/training_data/no_crystal/no_c_clear (190).jpg...01       \n",
      "Copying gs://storage_4/training_data/no_crystal/no_c_clear (19).jpg...\n",
      "Copying gs://storage_4/training_data/no_crystal/no_c_clear (192).jpg...01       \n",
      "Copying gs://storage_4/training_data/no_crystal/no_c_clear (195).jpg...01       \n",
      "Copying gs://storage_4/training_data/no_crystal/no_c_clear (194).jpg...01       \n",
      "Copying gs://storage_4/training_data/no_crystal/no_c_clear (193).jpg...01       \n",
      "Copying gs://storage_4/training_data/no_crystal/no_c_clear (196).jpg...01       \n",
      "Copying gs://storage_4/training_data/no_crystal/no_c_clear (197).jpg...01       \n",
      "Copying gs://storage_4/training_data/no_crystal/no_c_clear (199).jpg...01       \n",
      "Copying gs://storage_4/training_data/no_crystal/no_c_clear (198).jpg...01       \n",
      "Copying gs://storage_4/training_data/no_crystal/no_c_clear (2).jpg...0:01       \n",
      "Copying gs://storage_4/training_data/no_crystal/no_c_clear (20).jpg...:01       \n",
      "Copying gs://storage_4/training_data/no_crystal/no_c_clear (201).jpg...01       \n",
      "Copying gs://storage_4/training_data/no_crystal/no_c_clear (200).jpg...01       \n",
      "Copying gs://storage_4/training_data/no_crystal/no_c_clear (203).jpg...01       \n",
      "Copying gs://storage_4/training_data/no_crystal/no_c_clear (202).jpg...01       \n",
      "Copying gs://storage_4/training_data/no_crystal/no_c_clear (204).jpg...01       \n",
      "Copying gs://storage_4/training_data/no_crystal/no_c_clear (205).jpg...01       \n",
      "Copying gs://storage_4/training_data/no_crystal/no_c_clear (206).jpg...01       \n",
      "Copying gs://storage_4/training_data/no_crystal/no_c_clear (207).jpg...01       \n",
      "Copying gs://storage_4/training_data/no_crystal/no_c_clear (209).jpg...01       \n",
      "Copying gs://storage_4/training_data/no_crystal/no_c_clear (208).jpg...01       \n",
      "Copying gs://storage_4/training_data/no_crystal/no_c_clear (21).jpg...\n",
      "Copying gs://storage_4/training_data/no_crystal/no_c_clear (211).jpg...01       \n",
      "Copying gs://storage_4/training_data/no_crystal/no_c_clear (213).jpg...01       \n",
      "Copying gs://storage_4/training_data/no_crystal/no_c_clear (210).jpg...01       \n",
      "Copying gs://storage_4/training_data/no_crystal/no_c_clear (212).jpg...01       \n",
      "Copying gs://storage_4/training_data/no_crystal/no_c_clear (214).jpg...01       \n",
      "Copying gs://storage_4/training_data/no_crystal/no_c_clear (215).jpg...01       \n",
      "Copying gs://storage_4/training_data/no_crystal/no_c_clear (217).jpg...\n",
      "Copying gs://storage_4/training_data/no_crystal/no_c_clear (216).jpg...\n",
      "Copying gs://storage_4/training_data/no_crystal/no_c_clear (218).jpg...01       \n",
      "Copying gs://storage_4/training_data/no_crystal/no_c_clear (219).jpg...01       \n",
      "Copying gs://storage_4/training_data/no_crystal/no_c_clear (22).jpg...:01       \n",
      "Copying gs://storage_4/training_data/no_crystal/no_c_clear (220).jpg...01       \n",
      "Copying gs://storage_4/training_data/no_crystal/no_c_clear (221).jpg...01       \n",
      "Copying gs://storage_4/training_data/no_crystal/no_c_clear (224).jpg...01       \n",
      "Copying gs://storage_4/training_data/no_crystal/no_c_clear (222).jpg...\n",
      "Copying gs://storage_4/training_data/no_crystal/no_c_clear (225).jpg...01       \n",
      "Copying gs://storage_4/training_data/no_crystal/no_c_clear (223).jpg...01       \n",
      "Copying gs://storage_4/training_data/no_crystal/no_c_clear (228).jpg...01       \n",
      "Copying gs://storage_4/training_data/no_crystal/no_c_clear (229).jpg...01       \n",
      "Copying gs://storage_4/training_data/no_crystal/no_c_clear (23).jpg...\n",
      "Copying gs://storage_4/training_data/no_crystal/no_c_clear (227).jpg...01       \n",
      "Copying gs://storage_4/training_data/no_crystal/no_c_clear (230).jpg...01       \n",
      "Copying gs://storage_4/training_data/no_crystal/no_c_clear (226).jpg...01       \n",
      "Copying gs://storage_4/training_data/no_crystal/no_c_clear (231).jpg...\n",
      "Copying gs://storage_4/training_data/no_crystal/no_c_clear (232).jpg...01       \n",
      "Copying gs://storage_4/training_data/no_crystal/no_c_clear (234).jpg...01       \n",
      "Copying gs://storage_4/training_data/no_crystal/no_c_clear (235).jpg...01       \n",
      "Copying gs://storage_4/training_data/no_crystal/no_c_clear (236).jpg...01       \n",
      "Copying gs://storage_4/training_data/no_crystal/no_c_clear (237).jpg...01       \n",
      "Copying gs://storage_4/training_data/no_crystal/no_c_clear (233).jpg...01       \n",
      "Copying gs://storage_4/training_data/no_crystal/no_c_clear (238).jpg...01       \n",
      "Copying gs://storage_4/training_data/no_crystal/no_c_clear (239).jpg...01       \n",
      "Copying gs://storage_4/training_data/no_crystal/no_c_clear (240).jpg...01       \n",
      "Copying gs://storage_4/training_data/no_crystal/no_c_clear (24).jpg...:01       \n",
      "Copying gs://storage_4/training_data/no_crystal/no_c_clear (241).jpg...\n",
      "Copying gs://storage_4/training_data/no_crystal/no_c_clear (244).jpg...01       \n",
      "Copying gs://storage_4/training_data/no_crystal/no_c_clear (242).jpg...01       \n",
      "Copying gs://storage_4/training_data/no_crystal/no_c_clear (243).jpg...01       \n",
      "Copying gs://storage_4/training_data/no_crystal/no_c_clear (246).jpg...01       \n",
      "Copying gs://storage_4/training_data/no_crystal/no_c_clear (247).jpg...01       \n",
      "Copying gs://storage_4/training_data/no_crystal/no_c_clear (245).jpg...01       \n",
      "Copying gs://storage_4/training_data/no_crystal/no_c_clear (249).jpg...\n",
      "Copying gs://storage_4/training_data/no_crystal/no_c_clear (25).jpg...:01       \n",
      "Copying gs://storage_4/training_data/no_crystal/no_c_clear (248).jpg...\n",
      "Copying gs://storage_4/training_data/no_crystal/no_c_clear (250).jpg...01       \n",
      "Copying gs://storage_4/training_data/no_crystal/no_c_clear (251).jpg...01       \n",
      "Copying gs://storage_4/training_data/no_crystal/no_c_clear (252).jpg...01       \n",
      "Copying gs://storage_4/training_data/no_crystal/no_c_clear (253).jpg...01       \n",
      "Copying gs://storage_4/training_data/no_crystal/no_c_clear (254).jpg...01       \n",
      "Copying gs://storage_4/training_data/no_crystal/no_c_clear (26).jpg...:01       \n",
      "Copying gs://storage_4/training_data/no_crystal/no_c_clear (27).jpg...:01       \n",
      "Copying gs://storage_4/training_data/no_crystal/no_c_clear (28).jpg...\n",
      "Copying gs://storage_4/training_data/no_crystal/no_c_clear (29).jpg...:01       \n",
      "Copying gs://storage_4/training_data/no_crystal/no_c_clear (3).jpg...0:01       \n",
      "Copying gs://storage_4/training_data/no_crystal/no_c_clear (32).jpg...:01       \n",
      "Copying gs://storage_4/training_data/no_crystal/no_c_clear (31).jpg...:01       \n",
      "Copying gs://storage_4/training_data/no_crystal/no_c_clear (33).jpg...\n",
      "Copying gs://storage_4/training_data/no_crystal/no_c_clear (30).jpg...:01       \n",
      "Copying gs://storage_4/training_data/no_crystal/no_c_clear (36).jpg...:01       \n",
      "Copying gs://storage_4/training_data/no_crystal/no_c_clear (35).jpg...:01       \n",
      "Copying gs://storage_4/training_data/no_crystal/no_c_clear (34).jpg...:01       \n",
      "Copying gs://storage_4/training_data/no_crystal/no_c_clear (38).jpg...:01       \n",
      "Copying gs://storage_4/training_data/no_crystal/no_c_clear (37).jpg...:01       \n",
      "Copying gs://storage_4/training_data/no_crystal/no_c_clear (39).jpg...\n",
      "Copying gs://storage_4/training_data/no_crystal/no_c_clear (40).jpg...:01       \n",
      "Copying gs://storage_4/training_data/no_crystal/no_c_clear (4).jpg...0:01       \n",
      "Copying gs://storage_4/training_data/no_crystal/no_c_clear (42).jpg...\n",
      "Copying gs://storage_4/training_data/no_crystal/no_c_clear (43).jpg...\n",
      "Copying gs://storage_4/training_data/no_crystal/no_c_clear (41).jpg...\n",
      "Copying gs://storage_4/training_data/no_crystal/no_c_clear (5).jpg...0:01       \n",
      "Copying gs://storage_4/training_data/no_crystal/no_c_clear (50).jpg...\n",
      "Copying gs://storage_4/training_data/no_crystal/no_c_clear (51).jpg...:01       \n",
      "Copying gs://storage_4/training_data/no_crystal/no_c_clear (53).jpg...:01       \n",
      "Copying gs://storage_4/training_data/no_crystal/no_c_clear (58).jpg...:01       \n",
      "Copying gs://storage_4/training_data/no_crystal/no_c_clear (55).jpg...:01       \n",
      "Copying gs://storage_4/training_data/no_crystal/no_c_clear (6).jpg...0:01       \n",
      "Copying gs://storage_4/training_data/no_crystal/no_c_clear (62).jpg...\n",
      "Copying gs://storage_4/training_data/no_crystal/no_c_clear (63).jpg...:01       \n",
      "Copying gs://storage_4/training_data/no_crystal/no_c_clear (65).jpg...:01       \n",
      "Copying gs://storage_4/training_data/no_crystal/no_c_clear (7).jpg...0:01       \n",
      "Copying gs://storage_4/training_data/no_crystal/no_c_clear (70).jpg...:01       \n",
      "Copying gs://storage_4/training_data/no_crystal/no_c_clear (74).jpg...:01       \n",
      "Copying gs://storage_4/training_data/no_crystal/no_c_clear (72).jpg...:01       \n",
      "Copying gs://storage_4/training_data/no_crystal/no_c_clear (76).jpg...:01       \n",
      "Copying gs://storage_4/training_data/no_crystal/no_c_clear (78).jpg...:01       \n",
      "Copying gs://storage_4/training_data/no_crystal/no_c_clear (79).jpg...:01       \n",
      "Copying gs://storage_4/training_data/no_crystal/no_c_clear (9).jpg...0:01       \n",
      "Copying gs://storage_4/training_data/no_crystal/no_c_clear (8).jpg...0:01       \n",
      "Copying gs://storage_4/training_data/no_crystal/no_c_clear (88).jpg...:01       \n",
      "Copying gs://storage_4/training_data/no_crystal/no_c_clear (90).jpg...:01       \n",
      "Copying gs://storage_4/training_data/no_crystal/no_c_clear (89).jpg...\n",
      "Copying gs://storage_4/training_data/no_crystal/no_c_clear (91).jpg...:01       \n",
      "Copying gs://storage_4/training_data/no_crystal/no_c_clear (92).jpg...:01       \n",
      "Copying gs://storage_4/training_data/no_crystal/no_c_clear (93).jpg...:01       \n",
      "Copying gs://storage_4/training_data/no_crystal/no_c_clear (96).jpg...:01       \n",
      "Copying gs://storage_4/training_data/no_crystal/no_c_clear (95).jpg...\n",
      "Copying gs://storage_4/training_data/no_crystal/no_c_clear (94).jpg...\n",
      "Copying gs://storage_4/training_data/no_crystal/no_c_clear (99).jpg...:01       \n",
      "Copying gs://storage_4/training_data/no_crystal/no_c_clear (97).jpg...\n",
      "Copying gs://storage_4/training_data/no_crystal/no_c_hp (1).jpg...0:00:01       \n",
      "Copying gs://storage_4/training_data/no_crystal/no_c_clear (98).jpg...:01       \n",
      "Copying gs://storage_4/training_data/no_crystal/no_c_hp (10).jpg...:00:01       \n",
      "Copying gs://storage_4/training_data/no_crystal/no_c_hp (100).jpg...00:01       \n",
      "Copying gs://storage_4/training_data/no_crystal/no_c_hp (101).jpg...00:01       \n",
      "Copying gs://storage_4/training_data/no_crystal/no_c_hp (102).jpg...00:01       \n",
      "Copying gs://storage_4/training_data/no_crystal/no_c_hp (103).jpg...00:01       \n",
      "Copying gs://storage_4/training_data/no_crystal/no_c_hp (104).jpg...00:01       \n",
      "Copying gs://storage_4/training_data/no_crystal/no_c_hp (105).jpg...00:01       \n",
      "Copying gs://storage_4/training_data/no_crystal/no_c_hp (106).jpg...00:01       \n",
      "Copying gs://storage_4/training_data/no_crystal/no_c_hp (108).jpg...00:01       \n",
      "Copying gs://storage_4/training_data/no_crystal/no_c_hp (107).jpg...00:01       \n",
      "Copying gs://storage_4/training_data/no_crystal/no_c_hp (109).jpg...00:01       \n",
      "Copying gs://storage_4/training_data/no_crystal/no_c_hp (11).jpg...\n",
      "Copying gs://storage_4/training_data/no_crystal/no_c_hp (110).jpg...\n",
      "Copying gs://storage_4/training_data/no_crystal/no_c_hp (111).jpg...00:01       \n",
      "Copying gs://storage_4/training_data/no_crystal/no_c_hp (115).jpg...00:01       \n",
      "Copying gs://storage_4/training_data/no_crystal/no_c_hp (118).jpg...\n",
      "Copying gs://storage_4/training_data/no_crystal/no_c_hp (113).jpg...\n",
      "Copying gs://storage_4/training_data/no_crystal/no_c_hp (112).jpg...\n",
      "Copying gs://storage_4/training_data/no_crystal/no_c_hp (117).jpg...00:01       \n",
      "Copying gs://storage_4/training_data/no_crystal/no_c_hp (116).jpg...00:01       \n",
      "Copying gs://storage_4/training_data/no_crystal/no_c_hp (114).jpg...\n",
      "Copying gs://storage_4/training_data/no_crystal/no_c_hp (119).jpg...00:01       \n",
      "Copying gs://storage_4/training_data/no_crystal/no_c_hp (12).jpg...\n",
      "Copying gs://storage_4/training_data/no_crystal/no_c_hp (124).jpg...00:01       \n",
      "Copying gs://storage_4/training_data/no_crystal/no_c_hp (120).jpg...00:01       \n",
      "Copying gs://storage_4/training_data/no_crystal/no_c_hp (121).jpg...\n",
      "Copying gs://storage_4/training_data/no_crystal/no_c_hp (123).jpg...00:01       \n",
      "Copying gs://storage_4/training_data/no_crystal/no_c_hp (127).jpg...\n",
      "Copying gs://storage_4/training_data/no_crystal/no_c_hp (125).jpg...\n",
      "Copying gs://storage_4/training_data/no_crystal/no_c_hp (122).jpg...\n",
      "Copying gs://storage_4/training_data/no_crystal/no_c_hp (126).jpg...\n",
      "Copying gs://storage_4/training_data/no_crystal/no_c_hp (13).jpg...:00:01       \n",
      "Copying gs://storage_4/training_data/no_crystal/no_c_hp (128).jpg...00:01       \n",
      "Copying gs://storage_4/training_data/no_crystal/no_c_hp (130).jpg...00:01       \n",
      "Copying gs://storage_4/training_data/no_crystal/no_c_hp (129).jpg...\n",
      "Copying gs://storage_4/training_data/no_crystal/no_c_hp (132).jpg...00:01       \n",
      "Copying gs://storage_4/training_data/no_crystal/no_c_hp (133).jpg...00:01       \n",
      "Copying gs://storage_4/training_data/no_crystal/no_c_hp (134).jpg...00:01       \n",
      "Copying gs://storage_4/training_data/no_crystal/no_c_hp (131).jpg...00:01       \n",
      "Copying gs://storage_4/training_data/no_crystal/no_c_hp (137).jpg...00:01       \n",
      "Copying gs://storage_4/training_data/no_crystal/no_c_hp (135).jpg...00:01       \n",
      "Copying gs://storage_4/training_data/no_crystal/no_c_hp (136).jpg...00:01       \n",
      "Copying gs://storage_4/training_data/no_crystal/no_c_hp (138).jpg...\n",
      "Copying gs://storage_4/training_data/no_crystal/no_c_hp (139).jpg...00:01       \n",
      "Copying gs://storage_4/training_data/no_crystal/no_c_hp (14).jpg...:00:01       \n",
      "Copying gs://storage_4/training_data/no_crystal/no_c_hp (141).jpg...00:02       \n",
      "Copying gs://storage_4/training_data/no_crystal/no_c_hp (140).jpg...00:02       \n",
      "Copying gs://storage_4/training_data/no_crystal/no_c_hp (142).jpg...00:02       \n",
      "Copying gs://storage_4/training_data/no_crystal/no_c_hp (144).jpg...00:02       \n",
      "Copying gs://storage_4/training_data/no_crystal/no_c_hp (143).jpg...00:02       \n",
      "Copying gs://storage_4/training_data/no_crystal/no_c_hp (145).jpg...00:02       \n",
      "Copying gs://storage_4/training_data/no_crystal/no_c_hp (148).jpg...00:02       \n",
      "Copying gs://storage_4/training_data/no_crystal/no_c_hp (147).jpg...\n",
      "Copying gs://storage_4/training_data/no_crystal/no_c_hp (149).jpg...00:02       \n",
      "Copying gs://storage_4/training_data/no_crystal/no_c_hp (146).jpg...\n",
      "Copying gs://storage_4/training_data/no_crystal/no_c_hp (151).jpg...00:02       \n",
      "Copying gs://storage_4/training_data/no_crystal/no_c_hp (150).jpg...00:02       \n",
      "Copying gs://storage_4/training_data/no_crystal/no_c_hp (15).jpg...:00:02       \n",
      "Copying gs://storage_4/training_data/no_crystal/no_c_hp (152).jpg...00:02       \n",
      "Copying gs://storage_4/training_data/no_crystal/no_c_hp (156).jpg...00:02       \n",
      "Copying gs://storage_4/training_data/no_crystal/no_c_hp (154).jpg...00:02       \n",
      "Copying gs://storage_4/training_data/no_crystal/no_c_hp (153).jpg...00:02       \n",
      "Copying gs://storage_4/training_data/no_crystal/no_c_hp (157).jpg...00:02       \n",
      "Copying gs://storage_4/training_data/no_crystal/no_c_hp (158).jpg...00:02       \n",
      "Copying gs://storage_4/training_data/no_crystal/no_c_hp (155).jpg...\n",
      "Copying gs://storage_4/training_data/no_crystal/no_c_hp (159).jpg...00:02       \n",
      "Copying gs://storage_4/training_data/no_crystal/no_c_hp (160).jpg...00:02       \n",
      "Copying gs://storage_4/training_data/no_crystal/no_c_hp (16).jpg...:00:02       \n",
      "Copying gs://storage_4/training_data/no_crystal/no_c_hp (161).jpg...00:02       \n",
      "Copying gs://storage_4/training_data/no_crystal/no_c_hp (162).jpg...00:02       \n",
      "Copying gs://storage_4/training_data/no_crystal/no_c_hp (163).jpg...00:02       \n",
      "Copying gs://storage_4/training_data/no_crystal/no_c_hp (164).jpg...00:02       \n",
      "Copying gs://storage_4/training_data/no_crystal/no_c_hp (166).jpg...\n",
      "Copying gs://storage_4/training_data/no_crystal/no_c_hp (167).jpg...00:02       \n",
      "Copying gs://storage_4/training_data/no_crystal/no_c_hp (165).jpg...00:02       \n",
      "Copying gs://storage_4/training_data/no_crystal/no_c_hp (168).jpg...00:02       \n",
      "Copying gs://storage_4/training_data/no_crystal/no_c_hp (17).jpg...:00:02       \n",
      "Copying gs://storage_4/training_data/no_crystal/no_c_hp (169).jpg...00:02       \n",
      "Copying gs://storage_4/training_data/no_crystal/no_c_hp (170).jpg...00:02       \n",
      "Copying gs://storage_4/training_data/no_crystal/no_c_hp (171).jpg...\n",
      "Copying gs://storage_4/training_data/no_crystal/no_c_hp (173).jpg...00:02       \n",
      "Copying gs://storage_4/training_data/no_crystal/no_c_hp (172).jpg...00:02       \n",
      "Copying gs://storage_4/training_data/no_crystal/no_c_hp (174).jpg...\n",
      "Copying gs://storage_4/training_data/no_crystal/no_c_hp (18).jpg...:00:02       \n",
      "Copying gs://storage_4/training_data/no_crystal/no_c_hp (175).jpg...00:02       \n",
      "Copying gs://storage_4/training_data/no_crystal/no_c_hp (19).jpg...:00:02       \n",
      "Copying gs://storage_4/training_data/no_crystal/no_c_hp (2).jpg...\n",
      "Copying gs://storage_4/training_data/no_crystal/no_c_hp (20).jpg...\n",
      "Copying gs://storage_4/training_data/no_crystal/no_c_hp (22).jpg...\n",
      "Copying gs://storage_4/training_data/no_crystal/no_c_hp (21).jpg...\n",
      "Copying gs://storage_4/training_data/no_crystal/no_c_hp (24).jpg...:00:02       \n",
      "Copying gs://storage_4/training_data/no_crystal/no_c_hp (23).jpg...\n",
      "Copying gs://storage_4/training_data/no_crystal/no_c_hp (26).jpg...\n",
      "Copying gs://storage_4/training_data/no_crystal/no_c_hp (27).jpg...:00:02       \n",
      "Copying gs://storage_4/training_data/no_crystal/no_c_hp (25).jpg...\n",
      "Copying gs://storage_4/training_data/no_crystal/no_c_hp (28).jpg...:00:02       \n",
      "Copying gs://storage_4/training_data/no_crystal/no_c_hp (29).jpg...:00:02       \n",
      "Copying gs://storage_4/training_data/no_crystal/no_c_hp (3).jpg...0:00:02       \n",
      "Copying gs://storage_4/training_data/no_crystal/no_c_hp (30).jpg...:00:02       \n",
      "Copying gs://storage_4/training_data/no_crystal/no_c_hp (31).jpg...:00:02       \n",
      "Copying gs://storage_4/training_data/no_crystal/no_c_hp (33).jpg...:00:02       \n",
      "Copying gs://storage_4/training_data/no_crystal/no_c_hp (32).jpg...:00:01       \n",
      "Copying gs://storage_4/training_data/no_crystal/no_c_hp (34).jpg...:00:01       \n",
      "Copying gs://storage_4/training_data/no_crystal/no_c_hp (35).jpg...:00:02       \n",
      "Copying gs://storage_4/training_data/no_crystal/no_c_hp (36).jpg...:00:01       \n",
      "Copying gs://storage_4/training_data/no_crystal/no_c_hp (37).jpg...:00:01       \n",
      "Copying gs://storage_4/training_data/no_crystal/no_c_hp (38).jpg...:00:01       \n",
      "Copying gs://storage_4/training_data/no_crystal/no_c_hp (39).jpg...\n",
      "Copying gs://storage_4/training_data/no_crystal/no_c_hp (4).jpg...0:00:01       \n",
      "Copying gs://storage_4/training_data/no_crystal/no_c_hp (40).jpg...:00:01       \n",
      "Copying gs://storage_4/training_data/no_crystal/no_c_hp (42).jpg...:00:01       \n",
      "Copying gs://storage_4/training_data/no_crystal/no_c_hp (41).jpg...:00:01       \n",
      "Copying gs://storage_4/training_data/no_crystal/no_c_hp (43).jpg...:00:01       \n",
      "Copying gs://storage_4/training_data/no_crystal/no_c_hp (44).jpg...\n",
      "Copying gs://storage_4/training_data/no_crystal/no_c_hp (45).jpg...\n",
      "Copying gs://storage_4/training_data/no_crystal/no_c_hp (48).jpg...:00:01       \n",
      "Copying gs://storage_4/training_data/no_crystal/no_c_hp (49).jpg...\n",
      "Copying gs://storage_4/training_data/no_crystal/no_c_hp (46).jpg...:00:01       \n",
      "Copying gs://storage_4/training_data/no_crystal/no_c_hp (47).jpg...:00:01       \n",
      "Copying gs://storage_4/training_data/no_crystal/no_c_hp (51).jpg...:00:01       \n",
      "Copying gs://storage_4/training_data/no_crystal/no_c_hp (5).jpg...\n",
      "Copying gs://storage_4/training_data/no_crystal/no_c_hp (52).jpg...:00:01       \n",
      "Copying gs://storage_4/training_data/no_crystal/no_c_hp (53).jpg...:00:01       \n",
      "Copying gs://storage_4/training_data/no_crystal/no_c_hp (50).jpg...:00:01       \n",
      "Copying gs://storage_4/training_data/no_crystal/no_c_hp (54).jpg...:00:01       \n",
      "Copying gs://storage_4/training_data/no_crystal/no_c_hp (55).jpg...:00:01       \n",
      "Copying gs://storage_4/training_data/no_crystal/no_c_hp (57).jpg...:00:01       \n",
      "Copying gs://storage_4/training_data/no_crystal/no_c_hp (56).jpg...:00:01       \n",
      "Copying gs://storage_4/training_data/no_crystal/no_c_hp (58).jpg...:00:01       \n",
      "Copying gs://storage_4/training_data/no_crystal/no_c_hp (59).jpg...:00:01       \n",
      "Copying gs://storage_4/training_data/no_crystal/no_c_hp (61).jpg...:00:01       \n",
      "Copying gs://storage_4/training_data/no_crystal/no_c_hp (6).jpg...0:00:01       \n",
      "Copying gs://storage_4/training_data/no_crystal/no_c_hp (62).jpg...:00:01       \n",
      "Copying gs://storage_4/training_data/no_crystal/no_c_hp (60).jpg...:00:01       \n",
      "Copying gs://storage_4/training_data/no_crystal/no_c_hp (64).jpg...:00:01       \n",
      "Copying gs://storage_4/training_data/no_crystal/no_c_hp (63).jpg...:00:01       \n",
      "Copying gs://storage_4/training_data/no_crystal/no_c_hp (68).jpg...:00:01       \n",
      "Copying gs://storage_4/training_data/no_crystal/no_c_hp (65).jpg...\n",
      "Copying gs://storage_4/training_data/no_crystal/no_c_hp (67).jpg...:00:01       \n",
      "Copying gs://storage_4/training_data/no_crystal/no_c_hp (66).jpg...:00:01       \n",
      "Copying gs://storage_4/training_data/no_crystal/no_c_hp (7).jpg...\n",
      "Copying gs://storage_4/training_data/no_crystal/no_c_hp (69).jpg...:00:01       \n",
      "Copying gs://storage_4/training_data/no_crystal/no_c_hp (70).jpg...:00:01       \n",
      "Copying gs://storage_4/training_data/no_crystal/no_c_hp (74).jpg...:00:02       \n",
      "Copying gs://storage_4/training_data/no_crystal/no_c_hp (72).jpg...:00:02       \n",
      "Copying gs://storage_4/training_data/no_crystal/no_c_hp (71).jpg...:00:02       \n",
      "Copying gs://storage_4/training_data/no_crystal/no_c_hp (75).jpg...:00:02       \n",
      "Copying gs://storage_4/training_data/no_crystal/no_c_hp (73).jpg...:00:02       \n",
      "Copying gs://storage_4/training_data/no_crystal/no_c_hp (76).jpg...:00:02       \n",
      "Copying gs://storage_4/training_data/no_crystal/no_c_hp (77).jpg...:00:02       \n",
      "Copying gs://storage_4/training_data/no_crystal/no_c_hp (79).jpg...:00:02       \n",
      "Copying gs://storage_4/training_data/no_crystal/no_c_hp (80).jpg...:00:02       \n",
      "Copying gs://storage_4/training_data/no_crystal/no_c_hp (78).jpg...\n",
      "Copying gs://storage_4/training_data/no_crystal/no_c_hp (81).jpg...\n",
      "Copying gs://storage_4/training_data/no_crystal/no_c_hp (8).jpg...0:00:02       \n",
      "Copying gs://storage_4/training_data/no_crystal/no_c_hp (82).jpg...\n",
      "Copying gs://storage_4/training_data/no_crystal/no_c_hp (83).jpg...:00:02       \n",
      "Copying gs://storage_4/training_data/no_crystal/no_c_hp (84).jpg...:00:02       \n",
      "Copying gs://storage_4/training_data/no_crystal/no_c_hp (86).jpg...:00:02       \n",
      "Copying gs://storage_4/training_data/no_crystal/no_c_hp (85).jpg...:00:02       \n",
      "Copying gs://storage_4/training_data/no_crystal/no_c_hp (87).jpg...:00:02       \n",
      "Copying gs://storage_4/training_data/no_crystal/no_c_hp (88).jpg...:00:02       \n",
      "Copying gs://storage_4/training_data/no_crystal/no_c_hp (9).jpg...0:00:02       \n",
      "Copying gs://storage_4/training_data/no_crystal/no_c_hp (89).jpg...:00:02       \n",
      "Copying gs://storage_4/training_data/no_crystal/no_c_hp (91).jpg...:00:02       \n",
      "Copying gs://storage_4/training_data/no_crystal/no_c_hp (92).jpg...:00:02       \n",
      "Copying gs://storage_4/training_data/no_crystal/no_c_hp (90).jpg...:00:02       \n",
      "Copying gs://storage_4/training_data/no_crystal/no_c_hp (93).jpg...:00:02       \n",
      "Copying gs://storage_4/training_data/no_crystal/no_c_hp (94).jpg...:00:02       \n",
      "Copying gs://storage_4/training_data/no_crystal/no_c_hp (95).jpg...:00:02       \n",
      "Copying gs://storage_4/training_data/no_crystal/no_c_hp (97).jpg...:00:02       \n",
      "Copying gs://storage_4/training_data/no_crystal/no_c_hp (98).jpg...:00:02       \n",
      "Copying gs://storage_4/training_data/no_crystal/no_c_hp (96).jpg...:00:02       \n",
      "Copying gs://storage_4/training_data/no_crystal/no_c_hp (99).jpg...\n",
      "Copying gs://storage_4/training_data/no_crystal/no_c_imp (10).jpg...\n",
      "Copying gs://storage_4/training_data/no_crystal/no_c_imp (11).jpg...\n",
      "Copying gs://storage_4/training_data/no_crystal/no_c_imp (12).jpg...00:02       \n",
      "Copying gs://storage_4/training_data/no_crystal/no_c_imp (14).jpg...00:02       \n",
      "Copying gs://storage_4/training_data/no_crystal/no_c_imp (13).jpg...00:02       \n",
      "Copying gs://storage_4/training_data/no_crystal/no_c_imp (1).jpg...\n",
      "Copying gs://storage_4/training_data/no_crystal/no_c_imp (15).jpg...00:02       \n",
      "Copying gs://storage_4/training_data/no_crystal/no_c_imp (16).jpg...00:02       \n",
      "Copying gs://storage_4/training_data/no_crystal/no_c_imp (17).jpg...00:02       \n",
      "Copying gs://storage_4/training_data/no_crystal/no_c_imp (19).jpg...00:02       \n",
      "Copying gs://storage_4/training_data/no_crystal/no_c_imp (18).jpg...00:02       \n",
      "Copying gs://storage_4/training_data/no_crystal/no_c_imp (22).jpg...00:02       \n",
      "Copying gs://storage_4/training_data/no_crystal/no_c_imp (21).jpg...00:02       \n",
      "Copying gs://storage_4/training_data/no_crystal/no_c_imp (23).jpg...00:02       \n",
      "Copying gs://storage_4/training_data/no_crystal/no_c_imp (20).jpg...\n",
      "Copying gs://storage_4/training_data/no_crystal/no_c_imp (2).jpg...:00:02       \n",
      "Copying gs://storage_4/training_data/no_crystal/no_c_imp (3).jpg...:00:02       \n",
      "Copying gs://storage_4/training_data/no_crystal/no_c_imp (4).jpg...:00:02       \n",
      "Copying gs://storage_4/training_data/no_crystal/no_c_imp (5).jpg...:00:02       \n",
      "Copying gs://storage_4/training_data/no_crystal/no_c_imp (6).jpg...:00:02       \n",
      "Copying gs://storage_4/training_data/no_crystal/no_c_imp (7).jpg...:00:02       \n",
      "Copying gs://storage_4/training_data/no_crystal/no_c_imp (9).jpg...:00:02       \n",
      "Copying gs://storage_4/training_data/no_crystal/no_c_ip (1).jpg...\n",
      "Copying gs://storage_4/training_data/no_crystal/no_c_imp (8).jpg...:00:02       \n",
      "Copying gs://storage_4/training_data/no_crystal/no_c_ip (160).jpg...00:02       \n",
      "Copying gs://storage_4/training_data/no_crystal/no_c_ip (161).jpg...00:02       \n",
      "Copying gs://storage_4/training_data/no_crystal/no_c_ip (162).jpg...\n",
      "Copying gs://storage_4/training_data/no_crystal/no_c_ip (164).jpg...00:02       \n",
      "Copying gs://storage_4/training_data/no_crystal/no_c_ip (165).jpg...00:02       \n",
      "Copying gs://storage_4/training_data/no_crystal/no_c_ip (163).jpg...00:02       \n",
      "Copying gs://storage_4/training_data/no_crystal/no_c_ip (167).jpg...\n",
      "Copying gs://storage_4/training_data/no_crystal/no_c_ip (166).jpg...\n",
      "Copying gs://storage_4/training_data/no_crystal/no_c_ip (169).jpg...00:02       \n",
      "Copying gs://storage_4/training_data/no_crystal/no_c_ip (168).jpg...\n",
      "Copying gs://storage_4/training_data/no_crystal/no_c_ip (170).jpg...00:02       \n",
      "Copying gs://storage_4/training_data/no_crystal/no_c_ip (172).jpg...00:02       \n",
      "Copying gs://storage_4/training_data/no_crystal/no_c_ip (174).jpg...00:02       \n",
      "Copying gs://storage_4/training_data/no_crystal/no_c_ip (171).jpg...00:02       \n",
      "Copying gs://storage_4/training_data/no_crystal/no_c_ip (173).jpg...00:02       \n",
      "Copying gs://storage_4/training_data/no_crystal/no_c_ip (176).jpg...00:02       \n",
      "Copying gs://storage_4/training_data/no_crystal/no_c_ip (175).jpg...00:02       \n",
      "Copying gs://storage_4/training_data/no_crystal/no_c_ip (178).jpg...00:02       \n",
      "Copying gs://storage_4/training_data/no_crystal/no_c_ip (179).jpg...00:02       \n",
      "Copying gs://storage_4/training_data/no_crystal/no_c_ip (177).jpg...\n",
      "Copying gs://storage_4/training_data/no_crystal/no_c_ip (180).jpg...00:02       \n",
      "Copying gs://storage_4/training_data/no_crystal/no_c_ip (182).jpg...00:02       \n",
      "Copying gs://storage_4/training_data/no_crystal/no_c_ip (183).jpg...00:02       \n",
      "Copying gs://storage_4/training_data/no_crystal/no_c_ip (184).jpg...00:02       \n",
      "Copying gs://storage_4/training_data/no_crystal/no_c_ip (185).jpg...00:02       \n",
      "Copying gs://storage_4/training_data/no_crystal/no_c_ip (181).jpg...00:02       \n",
      "Copying gs://storage_4/training_data/no_crystal/no_c_ip (186).jpg...00:02       \n",
      "Copying gs://storage_4/training_data/no_crystal/no_c_ip (187).jpg...\n",
      "Copying gs://storage_4/training_data/no_crystal/no_c_ip (190).jpg...00:02       \n",
      "Copying gs://storage_4/training_data/no_crystal/no_c_ip (188).jpg...00:02       \n",
      "Copying gs://storage_4/training_data/no_crystal/no_c_ip (192).jpg...00:02       \n",
      "Copying gs://storage_4/training_data/no_crystal/no_c_ip (189).jpg...00:02       \n",
      "Copying gs://storage_4/training_data/no_crystal/no_c_ip (191).jpg...00:02       \n",
      "Copying gs://storage_4/training_data/no_crystal/no_c_ip (194).jpg...00:02       \n",
      "Copying gs://storage_4/training_data/no_crystal/no_c_ip (193).jpg...00:02       \n",
      "Copying gs://storage_4/training_data/no_crystal/no_c_ip (196).jpg...00:02       \n",
      "Copying gs://storage_4/training_data/no_crystal/no_c_ip (195).jpg...\n",
      "Copying gs://storage_4/training_data/no_crystal/no_c_ip (197).jpg...00:02       \n",
      "Copying gs://storage_4/training_data/no_crystal/no_c_ip (198).jpg...00:02       \n",
      "Copying gs://storage_4/training_data/no_crystal/no_c_ip (199).jpg...00:02       \n",
      "Copying gs://storage_4/training_data/no_crystal/no_c_ip (200).jpg...00:02       \n",
      "Copying gs://storage_4/training_data/no_crystal/no_c_ip (201).jpg...\n",
      "Copying gs://storage_4/training_data/no_crystal/no_c_ip (204).jpg...\n",
      "Copying gs://storage_4/training_data/no_crystal/no_c_ip (202).jpg...\n",
      "Copying gs://storage_4/training_data/no_crystal/no_c_ip (203).jpg...00:02       \n",
      "Copying gs://storage_4/training_data/no_crystal/no_c_ip (207).jpg...00:01       \n",
      "Copying gs://storage_4/training_data/no_crystal/no_c_ip (205).jpg...00:01       \n",
      "Copying gs://storage_4/training_data/no_crystal/no_c_ip (206).jpg...00:01       \n",
      "Copying gs://storage_4/training_data/no_crystal/no_c_ip (209).jpg...00:01       \n",
      "Copying gs://storage_4/training_data/no_crystal/no_c_ip (208).jpg...00:01       \n",
      "Copying gs://storage_4/training_data/no_crystal/no_c_ip (210).jpg...00:01       \n",
      "Copying gs://storage_4/training_data/no_crystal/no_c_ip (212).jpg...00:01       \n",
      "Copying gs://storage_4/training_data/no_crystal/no_c_ip (211).jpg...00:01       \n",
      "Copying gs://storage_4/training_data/no_crystal/no_c_ip (215).jpg...00:01       \n",
      "Copying gs://storage_4/training_data/no_crystal/no_c_ip (214).jpg...\n",
      "Copying gs://storage_4/training_data/no_crystal/no_c_ip (216).jpg...\n",
      "Copying gs://storage_4/training_data/no_crystal/no_c_ip (213).jpg...\n",
      "Copying gs://storage_4/training_data/no_crystal/no_c_ip (217).jpg...\n",
      "Copying gs://storage_4/training_data/no_crystal/no_c_ip (218).jpg...\n",
      "Copying gs://storage_4/training_data/no_crystal/no_c_ip (219).jpg...\n",
      "Copying gs://storage_4/training_data/no_crystal/no_c_ip (220).jpg...00:01       \n",
      "Copying gs://storage_4/training_data/no_crystal/no_c_ip (221).jpg...00:01       \n",
      "Copying gs://storage_4/training_data/no_crystal/no_c_ip (222).jpg...00:01       \n",
      "Copying gs://storage_4/training_data/no_crystal/no_c_ip (223).jpg...00:01       \n",
      "Copying gs://storage_4/training_data/no_crystal/no_c_ip (224).jpg...00:01       \n",
      "Copying gs://storage_4/training_data/no_crystal/no_c_ip (225).jpg...00:01       \n",
      "Copying gs://storage_4/training_data/no_crystal/no_c_ip (226).jpg...\n",
      "Copying gs://storage_4/training_data/no_crystal/no_c_ip (229).jpg...00:01       \n",
      "Copying gs://storage_4/training_data/no_crystal/no_c_ip (227).jpg...00:01       \n",
      "Copying gs://storage_4/training_data/no_crystal/no_c_ip (230).jpg...00:01       \n",
      "Copying gs://storage_4/training_data/no_crystal/no_c_ip (232).jpg...00:01       \n",
      "Copying gs://storage_4/training_data/no_crystal/no_c_ip (231).jpg...\n",
      "Copying gs://storage_4/training_data/no_crystal/no_c_ip (228).jpg...00:01       \n",
      "Copying gs://storage_4/training_data/no_crystal/no_c_ip (233).jpg...00:01       \n",
      "Copying gs://storage_4/training_data/no_crystal/no_c_ip (235).jpg...00:01       \n",
      "Copying gs://storage_4/training_data/no_crystal/no_c_ip (234).jpg...00:01       \n",
      "Copying gs://storage_4/training_data/no_crystal/no_c_ip (238).jpg...00:01       \n",
      "Copying gs://storage_4/training_data/no_crystal/no_c_ip (239).jpg...00:01       \n",
      "Copying gs://storage_4/training_data/no_crystal/no_c_ip (236).jpg...00:01       \n",
      "Copying gs://storage_4/training_data/no_crystal/no_c_ip (240).jpg...00:01       \n",
      "Copying gs://storage_4/training_data/no_crystal/no_c_ip (237).jpg...00:01       \n",
      "Copying gs://storage_4/training_data/no_crystal/no_c_ip (243).jpg...00:01       \n",
      "Copying gs://storage_4/training_data/no_crystal/no_c_ip (242).jpg...00:01       \n",
      "Copying gs://storage_4/training_data/no_crystal/no_c_ip (241).jpg...00:01       \n",
      "Copying gs://storage_4/training_data/no_crystal/no_c_ip (244).jpg...00:01       \n",
      "Copying gs://storage_4/training_data/no_crystal/no_c_ip (245).jpg...00:01       \n",
      "Copying gs://storage_4/training_data/no_crystal/no_c_ip (246).jpg...00:01       \n",
      "Copying gs://storage_4/training_data/no_crystal/no_c_ip (249).jpg...00:01       \n",
      "Copying gs://storage_4/training_data/no_crystal/no_c_ip (247).jpg...00:01       \n",
      "Copying gs://storage_4/training_data/no_crystal/no_c_ip (248).jpg...00:01       \n",
      "Copying gs://storage_4/training_data/no_crystal/no_c_ip (251).jpg...00:01       \n",
      "Copying gs://storage_4/training_data/no_crystal/no_c_ip (250).jpg...00:01       \n",
      "Copying gs://storage_4/training_data/no_crystal/no_c_ip (252).jpg...00:01       \n",
      "Copying gs://storage_4/training_data/no_crystal/no_c_ip (253).jpg...00:01       \n",
      "Copying gs://storage_4/training_data/no_crystal/no_c_ip (254).jpg...00:01       \n",
      "Copying gs://storage_4/training_data/no_crystal/no_c_ip (255).jpg...00:01       \n",
      "Copying gs://storage_4/training_data/no_crystal/no_c_ip (256).jpg...00:01       \n",
      "Copying gs://storage_4/training_data/no_crystal/no_c_ip (259).jpg...\n",
      "Copying gs://storage_4/training_data/no_crystal/no_c_ip (257).jpg...00:01       \n",
      "Copying gs://storage_4/training_data/no_crystal/no_c_ip (258).jpg...00:01       \n",
      "Copying gs://storage_4/training_data/no_crystal/no_c_ip (261).jpg...\n",
      "Copying gs://storage_4/training_data/no_crystal/no_c_ip (260).jpg...\n",
      "Copying gs://storage_4/training_data/no_crystal/no_c_ip (264).jpg...\n",
      "Copying gs://storage_4/training_data/no_crystal/no_c_ip (262).jpg...00:01       \n",
      "Copying gs://storage_4/training_data/no_crystal/no_c_ip (263).jpg...\n",
      "Copying gs://storage_4/training_data/no_crystal/no_c_ip (265).jpg...00:01       \n",
      "Copying gs://storage_4/training_data/no_crystal/no_c_ip (266).jpg...00:01       \n",
      "Copying gs://storage_4/training_data/no_crystal/no_c_ip (267).jpg...00:01       \n",
      "Copying gs://storage_4/training_data/no_crystal/no_c_ip (268).jpg...00:01       \n",
      "Copying gs://storage_4/training_data/no_crystal/no_c_ip (269).jpg...00:01       \n",
      "Copying gs://storage_4/training_data/no_crystal/no_c_ip (270).jpg...00:01       \n",
      "Copying gs://storage_4/training_data/no_crystal/no_c_ip (271).jpg...00:01       \n",
      "Copying gs://storage_4/training_data/no_crystal/no_c_ip (272).jpg...00:01       \n",
      "Copying gs://storage_4/training_data/no_crystal/no_c_ip (273).jpg...00:01       \n",
      "Copying gs://storage_4/training_data/no_crystal/no_c_ip (274).jpg...00:01       \n",
      "Copying gs://storage_4/training_data/no_crystal/no_c_ip (275).jpg...00:01       \n",
      "Copying gs://storage_4/training_data/no_crystal/no_c_ip (276).jpg...00:01       \n",
      "Copying gs://storage_4/training_data/no_crystal/no_c_ip (279).jpg...\n",
      "Copying gs://storage_4/training_data/no_crystal/no_c_ip (277).jpg...00:01       \n",
      "Copying gs://storage_4/training_data/no_crystal/no_c_ip (280).jpg...\n",
      "Copying gs://storage_4/training_data/no_crystal/no_c_ip (278).jpg...00:01       \n",
      "Copying gs://storage_4/training_data/no_crystal/no_c_ip (282).jpg...00:01       \n",
      "Copying gs://storage_4/training_data/no_crystal/no_c_ip (281).jpg...00:01       \n",
      "Copying gs://storage_4/training_data/no_crystal/no_c_ip (283).jpg...00:01       \n",
      "Copying gs://storage_4/training_data/no_crystal/no_c_ip (284).jpg...00:01       \n",
      "Copying gs://storage_4/training_data/no_crystal/no_c_ip (287).jpg...00:01       \n",
      "Copying gs://storage_4/training_data/no_crystal/no_c_ip (288).jpg...00:01       \n",
      "Copying gs://storage_4/training_data/no_crystal/no_c_ip (289).jpg...\n",
      "Copying gs://storage_4/training_data/no_crystal/no_c_ip (286).jpg...00:01       \n",
      "Copying gs://storage_4/training_data/no_crystal/no_c_ip (290).jpg...00:01       \n",
      "Copying gs://storage_4/training_data/no_crystal/no_c_ip (285).jpg...\n",
      "Copying gs://storage_4/training_data/no_crystal/no_c_ip (291).jpg...00:01       \n",
      "Copying gs://storage_4/training_data/no_crystal/no_c_ip (292).jpg...00:01       \n",
      "Copying gs://storage_4/training_data/no_crystal/no_c_ip (293).jpg...00:01       \n",
      "Copying gs://storage_4/training_data/no_crystal/no_c_ip (294).jpg...00:01       \n",
      "Copying gs://storage_4/training_data/no_crystal/no_c_ip (295).jpg...00:01       \n",
      "Copying gs://storage_4/training_data/no_crystal/no_c_ip (296).jpg...\n",
      "Copying gs://storage_4/training_data/no_crystal/no_c_ip (297).jpg...\n",
      "Copying gs://storage_4/training_data/no_crystal/no_c_ip (298).jpg...00:01       \n",
      "Copying gs://storage_4/training_data/no_crystal/no_c_ip (299).jpg...00:01       \n",
      "Copying gs://storage_4/training_data/no_crystal/no_c_ip (300).jpg...00:01       \n",
      "Copying gs://storage_4/training_data/no_crystal/no_c_ip (301).jpg...00:01       \n",
      "Copying gs://storage_4/training_data/no_crystal/no_c_ip (303).jpg...00:01       \n",
      "Copying gs://storage_4/training_data/no_crystal/no_c_ip (305).jpg...00:01       \n",
      "Copying gs://storage_4/training_data/no_crystal/no_c_ip (302).jpg...00:01       \n",
      "Copying gs://storage_4/training_data/no_crystal/no_c_ip (304).jpg...00:01       \n",
      "Copying gs://storage_4/training_data/no_crystal/no_c_ip (306).jpg...\n",
      "Copying gs://storage_4/training_data/no_crystal/no_c_ip (307).jpg...00:01       \n",
      "Copying gs://storage_4/training_data/no_crystal/no_c_ip (308).jpg...00:01       \n",
      "Copying gs://storage_4/training_data/no_crystal/no_c_ip (310).jpg...00:01       \n",
      "Copying gs://storage_4/training_data/no_crystal/no_c_ip (309).jpg...00:01       \n",
      "Copying gs://storage_4/training_data/no_crystal/no_c_ip (311).jpg...\n",
      "Copying gs://storage_4/training_data/no_crystal/no_c_ip (312).jpg...00:01       \n",
      "Copying gs://storage_4/training_data/no_crystal/no_c_ip (313).jpg...00:01       \n",
      "Copying gs://storage_4/training_data/no_crystal/no_c_ip (314).jpg...00:01       \n",
      "Copying gs://storage_4/training_data/no_crystal/no_c_ip (315).jpg...00:01       \n",
      "Copying gs://storage_4/training_data/no_crystal/no_c_ip (316).jpg...00:01       \n",
      "Copying gs://storage_4/training_data/no_crystal/no_c_ip (321).jpg...00:00       \n",
      "Copying gs://storage_4/training_data/no_crystal/no_c_ip (319).jpg...\n",
      "Copying gs://storage_4/training_data/no_crystal/no_c_ip (317).jpg...00:00       \n",
      "Copying gs://storage_4/training_data/no_crystal/no_c_ip (320).jpg...00:00       \n",
      "Copying gs://storage_4/training_data/no_crystal/no_c_ip (322).jpg...00:00       \n",
      "Copying gs://storage_4/training_data/no_crystal/no_c_ip (318).jpg...00:00       \n",
      "Copying gs://storage_4/training_data/no_crystal/no_c_ip (323).jpg...00:00       \n",
      "Copying gs://storage_4/training_data/no_crystal/no_c_ip (324).jpg...00:00       \n",
      "Copying gs://storage_4/training_data/no_crystal/no_c_ip (326).jpg...\n",
      "Copying gs://storage_4/training_data/no_crystal/no_c_ip (325).jpg...\n",
      "Copying gs://storage_4/training_data/no_crystal/no_c_ip (327).jpg...00:00       \n",
      "Copying gs://storage_4/training_data/no_crystal/no_c_ip (328).jpg...00:00       \n",
      "Copying gs://storage_4/training_data/no_crystal/no_c_ip (329).jpg...00:00       \n",
      "Copying gs://storage_4/training_data/no_crystal/no_c_ip (330).jpg...\n",
      "Copying gs://storage_4/training_data/no_crystal/no_c_ip (332).jpg...00:00       \n",
      "Copying gs://storage_4/training_data/no_crystal/no_c_ip (331).jpg...00:00       \n",
      "Copying gs://storage_4/training_data/no_crystal/no_c_ip (334).jpg...\n",
      "Copying gs://storage_4/training_data/no_crystal/no_c_ip (335).jpg...00:00       \n",
      "Copying gs://storage_4/training_data/no_crystal/no_c_ip (333).jpg...00:00       \n",
      "Copying gs://storage_4/training_data/no_crystal/no_c_ip (336).jpg...00:00       \n",
      "Copying gs://storage_4/training_data/no_crystal/no_c_ip (337).jpg...00:00       \n",
      "Copying gs://storage_4/training_data/no_crystal/no_c_ps (1).jpg...0:00:00       \n",
      "Copying gs://storage_4/training_data/no_crystal/no_c_ps (10).jpg...:00:00       \n",
      "Copying gs://storage_4/training_data/no_crystal/no_c_ps (12).jpg...:00:00       \n",
      "Copying gs://storage_4/training_data/no_crystal/no_c_ps (11).jpg...:00:00       \n",
      "Copying gs://storage_4/training_data/no_crystal/no_c_ps (17).jpg...:00:00       \n",
      "Copying gs://storage_4/training_data/no_crystal/no_c_ps (13).jpg...\n",
      "Copying gs://storage_4/training_data/no_crystal/no_c_ps (14).jpg...:00:00       \n",
      "Copying gs://storage_4/training_data/no_crystal/no_c_ps (15).jpg...:00:00       \n",
      "Copying gs://storage_4/training_data/no_crystal/no_c_ps (16).jpg...:00:00       \n",
      "Copying gs://storage_4/training_data/no_crystal/no_c_ps (2).jpg...\n",
      "Copying gs://storage_4/training_data/no_crystal/no_c_ps (19).jpg...:00:00       \n",
      "Copying gs://storage_4/training_data/no_crystal/no_c_ps (18).jpg...:00:00       \n",
      "Copying gs://storage_4/training_data/no_crystal/no_c_ps (20).jpg...:00:00       \n",
      "Copying gs://storage_4/training_data/no_crystal/no_c_ps (21).jpg...\n",
      "Copying gs://storage_4/training_data/no_crystal/no_c_ps (23).jpg...\n",
      "Copying gs://storage_4/training_data/no_crystal/no_c_ps (22).jpg...\n",
      "Copying gs://storage_4/training_data/no_crystal/no_c_ps (24).jpg...:00:00       \n",
      "Copying gs://storage_4/training_data/no_crystal/no_c_ps (26).jpg...:00:00       \n",
      "Copying gs://storage_4/training_data/no_crystal/no_c_ps (27).jpg...:00:00       \n",
      "Copying gs://storage_4/training_data/no_crystal/no_c_ps (25).jpg...:00:00       \n",
      "Copying gs://storage_4/training_data/no_crystal/no_c_ps (28).jpg...:00:00       \n",
      "Copying gs://storage_4/training_data/no_crystal/no_c_ps (29).jpg...:00:00       \n",
      "Copying gs://storage_4/training_data/no_crystal/no_c_ps (4).jpg...0:00:00       \n",
      "Copying gs://storage_4/training_data/no_crystal/no_c_ps (5).jpg...0:00:00       \n",
      "Copying gs://storage_4/training_data/no_crystal/no_c_ps (3).jpg...0:00:00       \n",
      "Copying gs://storage_4/training_data/no_crystal/no_c_ps (6).jpg...0:00:00       \n",
      "Copying gs://storage_4/training_data/no_crystal/no_c_ps (7).jpg...0:00:00       \n",
      "Copying gs://storage_4/training_data/no_crystal/no_c_ps (9).jpg...\n",
      "Copying gs://storage_4/training_data/no_crystal/no_c_ps (8).jpg...0:00:00       \n",
      "\\ [971/971 files][  1.2 GiB/  1.2 GiB] 100% Done  13.1 MiB/s ETA 00:00:00       \n",
      "Operation completed over 971 objects/1.2 GiB.                                    \n"
     ]
    }
   ],
   "source": [
    "### copy tar file from storage_4 to VM\n",
    "#!gsutil -m cp -r gs://storage_4/training_data \"$cwd\"\n",
    "#!gsutil -m cp -r gs://storage_4/test \"$cwd\""
   ]
  },
  {
   "cell_type": "code",
   "execution_count": 5,
   "metadata": {},
   "outputs": [],
   "source": [
    "image_dir = cwd +\"/\"+ \"training_data/\""
   ]
  },
  {
   "cell_type": "markdown",
   "metadata": {
    "id": "qor7JU604tSf"
   },
   "source": [
    "# Train / Validation splitting  and  Data augmentation\n"
   ]
  },
  {
   "cell_type": "code",
   "execution_count": 6,
   "metadata": {
    "colab": {
     "base_uri": "https://localhost:8080/"
    },
    "executionInfo": {
     "elapsed": 15265,
     "status": "ok",
     "timestamp": 1605597159407,
     "user": {
      "displayName": "Linda Wymann",
      "photoUrl": "",
      "userId": "10601199980654706877"
     },
     "user_tz": -60
    },
    "id": "BRT_BTAFoPDw",
    "outputId": "4f18f2db-1fab-42f2-8cda-0fc6af2a7cf2"
   },
   "outputs": [
    {
     "name": "stdout",
     "output_type": "stream",
     "text": [
      "Found 679 images belonging to 2 classes.\n",
      "Found 290 images belonging to 2 classes.\n"
     ]
    }
   ],
   "source": [
    "classes = ['crystal', 'no_crystal']\n",
    "IMG_SIZE = 224\n",
    "BATCH_SIZE = 16\n",
    "\n",
    "# Training set\n",
    "train_datagen = tf.keras.preprocessing.image.ImageDataGenerator(\n",
    "                                  rescale=1./255, \n",
    "                                  validation_split=0.3,\n",
    "                                  rotation_range=45, \n",
    "                                  horizontal_flip=True,\n",
    "                                  vertical_flip=True,\n",
    "                                  brightness_range=(.8,1.2),\n",
    "                                  fill_mode='nearest'\n",
    "                                  )\n",
    "\n",
    "train_generator = train_datagen.flow_from_directory(\n",
    "                                image_dir,\n",
    "                                subset='training',\n",
    "                                class_mode='categorical',\n",
    "                                shuffle=True, \n",
    "                                seed=42, \n",
    "                                target_size=(IMG_SIZE, IMG_SIZE),\n",
    "                                batch_size=BATCH_SIZE\n",
    "                                )\n",
    "\n",
    "# Validation set\n",
    "val_datagen = tf.keras.preprocessing.image.ImageDataGenerator(\n",
    "                                  rescale=1./255, \n",
    "                                  validation_split=0.3\n",
    "                                  )\n",
    "\n",
    "val_generator = val_datagen.flow_from_directory(\n",
    "                                  image_dir,\n",
    "                                  subset='validation',\n",
    "                                  class_mode='categorical',\n",
    "                                  shuffle=True, \n",
    "                                  seed=42, \n",
    "                                  target_size=(IMG_SIZE, IMG_SIZE),\n",
    "                                  batch_size=BATCH_SIZE\n",
    "                                  )\n"
   ]
  },
  {
   "cell_type": "markdown",
   "metadata": {
    "id": "WLQULyAvJC3X"
   },
   "source": [
    "# Get classes from folder names"
   ]
  },
  {
   "cell_type": "code",
   "execution_count": 7,
   "metadata": {
    "colab": {
     "base_uri": "https://localhost:8080/"
    },
    "executionInfo": {
     "elapsed": 714,
     "status": "ok",
     "timestamp": 1605597227207,
     "user": {
      "displayName": "Linda Wymann",
      "photoUrl": "",
      "userId": "10601199980654706877"
     },
     "user_tz": -60
    },
    "id": "B1oAT80Zy6mn",
    "outputId": "0589201d-0bac-4802-ff11-ace055a42924"
   },
   "outputs": [
    {
     "data": {
      "text/plain": [
       "{'crystal': 0, 'no_crystal': 1}"
      ]
     },
     "execution_count": 7,
     "metadata": {},
     "output_type": "execute_result"
    }
   ],
   "source": [
    "train_generator.class_indices"
   ]
  },
  {
   "cell_type": "markdown",
   "metadata": {
    "id": "5M6BXtXFJdW0"
   },
   "source": [
    "# Shape of training input"
   ]
  },
  {
   "cell_type": "code",
   "execution_count": 55,
   "metadata": {
    "id": "2-MfMoenJi8s"
   },
   "outputs": [
    {
     "name": "stdout",
     "output_type": "stream",
     "text": [
      "(16, 224, 224, 3)\n",
      "(16, 2)\n"
     ]
    }
   ],
   "source": [
    "for image_batch, labels_batch in train_generator:\n",
    "    print(image_batch.shape)\n",
    "    print(labels_batch.shape)\n",
    "    break"
   ]
  },
  {
   "cell_type": "markdown",
   "metadata": {
    "id": "LmpeaN369d-n"
   },
   "source": [
    "## Defining the step size"
   ]
  },
  {
   "cell_type": "code",
   "execution_count": 8,
   "metadata": {
    "id": "BeUeNhLy9Wek"
   },
   "outputs": [],
   "source": [
    "steps_train = round(train_generator.n / BATCH_SIZE)\n",
    "steps_val = round(val_generator.n / BATCH_SIZE)"
   ]
  },
  {
   "cell_type": "markdown",
   "metadata": {
    "id": "0d1xjo3WeffQ"
   },
   "source": [
    "# Balancing Classes"
   ]
  },
  {
   "cell_type": "code",
   "execution_count": 57,
   "metadata": {
    "id": "cOOeEaDKedHj"
   },
   "outputs": [
    {
     "data": {
      "text/plain": [
       "array([1.86538462, 0.68309859])"
      ]
     },
     "execution_count": 57,
     "metadata": {},
     "output_type": "execute_result"
    }
   ],
   "source": [
    "class_weights = compute_class_weight(class_weight='balanced',\n",
    "                                    classes=np.unique(train_generator.classes),\n",
    "                                    y=train_generator.classes)\n",
    "class_weights"
   ]
  },
  {
   "cell_type": "code",
   "execution_count": 60,
   "metadata": {
    "id": "b3OTxtcGhfaX"
   },
   "outputs": [
    {
     "data": {
      "text/plain": [
       "{0: 1.8653846153846154, 1: 0.6830985915492958}"
      ]
     },
     "execution_count": 60,
     "metadata": {},
     "output_type": "execute_result"
    }
   ],
   "source": [
    "# class_weight has to be a dictionary format\n",
    "class_weight_dict = { i : class_weights[i] for i in range(0, len(class_weights))}\n",
    "class_weight_dict"
   ]
  },
  {
   "cell_type": "code",
   "execution_count": 61,
   "metadata": {
    "id": "eZ4RafP3i9YN"
   },
   "outputs": [
    {
     "data": {
      "text/plain": [
       "2"
      ]
     },
     "execution_count": 61,
     "metadata": {},
     "output_type": "execute_result"
    }
   ],
   "source": [
    "# getting number of classes\n",
    "num_classes = len(class_weights)\n",
    "num_classes"
   ]
  },
  {
   "cell_type": "markdown",
   "metadata": {
    "id": "r7mkhp5RJjcy"
   },
   "source": [
    "# InceptionV3"
   ]
  },
  {
   "cell_type": "code",
   "execution_count": 6,
   "metadata": {
    "colab": {
     "base_uri": "https://localhost:8080/"
    },
    "collapsed": true,
    "executionInfo": {
     "elapsed": 3636,
     "status": "ok",
     "timestamp": 1605597245422,
     "user": {
      "displayName": "Linda Wymann",
      "photoUrl": "",
      "userId": "10601199980654706877"
     },
     "user_tz": -60
    },
    "id": "sKj5HxqFCDoU",
    "jupyter": {
     "outputs_hidden": true
    },
    "outputId": "bbd4dade-6db9-4aa1-d8b1-b79c023e08ba"
   },
   "outputs": [
    {
     "ename": "ResourceExhaustedError",
     "evalue": "OOM when allocating tensor with shape[3,3,80,192] and type float on /job:localhost/replica:0/task:0/device:GPU:0 by allocator GPU_0_bfc [Op:RandomUniform]",
     "output_type": "error",
     "traceback": [
      "\u001b[0;31m---------------------------------------------------------------------------\u001b[0m",
      "\u001b[0;31mResourceExhaustedError\u001b[0m                    Traceback (most recent call last)",
      "\u001b[0;32m<ipython-input-6-ded5ad8d9554>\u001b[0m in \u001b[0;36m<module>\u001b[0;34m\u001b[0m\n\u001b[1;32m      6\u001b[0m InceptionV3_model = tf.keras.applications.InceptionV3(input_tensor = input_t,\n\u001b[1;32m      7\u001b[0m                                               \u001b[0minclude_top\u001b[0m\u001b[0;34m=\u001b[0m\u001b[0;32mFalse\u001b[0m\u001b[0;34m,\u001b[0m \u001b[0;31m# do not include ImageNet classifier at the top\u001b[0m\u001b[0;34m\u001b[0m\u001b[0;34m\u001b[0m\u001b[0m\n\u001b[0;32m----> 8\u001b[0;31m                                               weights= None)\n\u001b[0m",
      "\u001b[0;32m/opt/conda/lib/python3.7/site-packages/tensorflow/python/keras/applications/inception_v3.py\u001b[0m in \u001b[0;36mInceptionV3\u001b[0;34m(include_top, weights, input_tensor, input_shape, pooling, classes, classifier_activation)\u001b[0m\n\u001b[1;32m    147\u001b[0m \u001b[0;34m\u001b[0m\u001b[0m\n\u001b[1;32m    148\u001b[0m   \u001b[0mx\u001b[0m \u001b[0;34m=\u001b[0m \u001b[0mconv2d_bn\u001b[0m\u001b[0;34m(\u001b[0m\u001b[0mx\u001b[0m\u001b[0;34m,\u001b[0m \u001b[0;36m80\u001b[0m\u001b[0;34m,\u001b[0m \u001b[0;36m1\u001b[0m\u001b[0;34m,\u001b[0m \u001b[0;36m1\u001b[0m\u001b[0;34m,\u001b[0m \u001b[0mpadding\u001b[0m\u001b[0;34m=\u001b[0m\u001b[0;34m'valid'\u001b[0m\u001b[0;34m)\u001b[0m\u001b[0;34m\u001b[0m\u001b[0;34m\u001b[0m\u001b[0m\n\u001b[0;32m--> 149\u001b[0;31m   \u001b[0mx\u001b[0m \u001b[0;34m=\u001b[0m \u001b[0mconv2d_bn\u001b[0m\u001b[0;34m(\u001b[0m\u001b[0mx\u001b[0m\u001b[0;34m,\u001b[0m \u001b[0;36m192\u001b[0m\u001b[0;34m,\u001b[0m \u001b[0;36m3\u001b[0m\u001b[0;34m,\u001b[0m \u001b[0;36m3\u001b[0m\u001b[0;34m,\u001b[0m \u001b[0mpadding\u001b[0m\u001b[0;34m=\u001b[0m\u001b[0;34m'valid'\u001b[0m\u001b[0;34m)\u001b[0m\u001b[0;34m\u001b[0m\u001b[0;34m\u001b[0m\u001b[0m\n\u001b[0m\u001b[1;32m    150\u001b[0m   \u001b[0mx\u001b[0m \u001b[0;34m=\u001b[0m \u001b[0mlayers\u001b[0m\u001b[0;34m.\u001b[0m\u001b[0mMaxPooling2D\u001b[0m\u001b[0;34m(\u001b[0m\u001b[0;34m(\u001b[0m\u001b[0;36m3\u001b[0m\u001b[0;34m,\u001b[0m \u001b[0;36m3\u001b[0m\u001b[0;34m)\u001b[0m\u001b[0;34m,\u001b[0m \u001b[0mstrides\u001b[0m\u001b[0;34m=\u001b[0m\u001b[0;34m(\u001b[0m\u001b[0;36m2\u001b[0m\u001b[0;34m,\u001b[0m \u001b[0;36m2\u001b[0m\u001b[0;34m)\u001b[0m\u001b[0;34m)\u001b[0m\u001b[0;34m(\u001b[0m\u001b[0mx\u001b[0m\u001b[0;34m)\u001b[0m\u001b[0;34m\u001b[0m\u001b[0;34m\u001b[0m\u001b[0m\n\u001b[1;32m    151\u001b[0m \u001b[0;34m\u001b[0m\u001b[0m\n",
      "\u001b[0;32m/opt/conda/lib/python3.7/site-packages/tensorflow/python/keras/applications/inception_v3.py\u001b[0m in \u001b[0;36mconv2d_bn\u001b[0;34m(x, filters, num_row, num_col, padding, strides, name)\u001b[0m\n\u001b[1;32m    399\u001b[0m       \u001b[0muse_bias\u001b[0m\u001b[0;34m=\u001b[0m\u001b[0;32mFalse\u001b[0m\u001b[0;34m,\u001b[0m\u001b[0;34m\u001b[0m\u001b[0;34m\u001b[0m\u001b[0m\n\u001b[1;32m    400\u001b[0m       \u001b[0mname\u001b[0m\u001b[0;34m=\u001b[0m\u001b[0mconv_name\u001b[0m\u001b[0;34m)\u001b[0m\u001b[0;34m(\u001b[0m\u001b[0;34m\u001b[0m\u001b[0;34m\u001b[0m\u001b[0m\n\u001b[0;32m--> 401\u001b[0;31m           x)\n\u001b[0m\u001b[1;32m    402\u001b[0m   \u001b[0mx\u001b[0m \u001b[0;34m=\u001b[0m \u001b[0mlayers\u001b[0m\u001b[0;34m.\u001b[0m\u001b[0mBatchNormalization\u001b[0m\u001b[0;34m(\u001b[0m\u001b[0maxis\u001b[0m\u001b[0;34m=\u001b[0m\u001b[0mbn_axis\u001b[0m\u001b[0;34m,\u001b[0m \u001b[0mscale\u001b[0m\u001b[0;34m=\u001b[0m\u001b[0;32mFalse\u001b[0m\u001b[0;34m,\u001b[0m \u001b[0mname\u001b[0m\u001b[0;34m=\u001b[0m\u001b[0mbn_name\u001b[0m\u001b[0;34m)\u001b[0m\u001b[0;34m(\u001b[0m\u001b[0mx\u001b[0m\u001b[0;34m)\u001b[0m\u001b[0;34m\u001b[0m\u001b[0;34m\u001b[0m\u001b[0m\n\u001b[1;32m    403\u001b[0m   \u001b[0mx\u001b[0m \u001b[0;34m=\u001b[0m \u001b[0mlayers\u001b[0m\u001b[0;34m.\u001b[0m\u001b[0mActivation\u001b[0m\u001b[0;34m(\u001b[0m\u001b[0;34m'relu'\u001b[0m\u001b[0;34m,\u001b[0m \u001b[0mname\u001b[0m\u001b[0;34m=\u001b[0m\u001b[0mname\u001b[0m\u001b[0;34m)\u001b[0m\u001b[0;34m(\u001b[0m\u001b[0mx\u001b[0m\u001b[0;34m)\u001b[0m\u001b[0;34m\u001b[0m\u001b[0;34m\u001b[0m\u001b[0m\n",
      "\u001b[0;32m/opt/conda/lib/python3.7/site-packages/tensorflow/python/keras/engine/base_layer.py\u001b[0m in \u001b[0;36m__call__\u001b[0;34m(self, *args, **kwargs)\u001b[0m\n\u001b[1;32m    924\u001b[0m     \u001b[0;32mif\u001b[0m \u001b[0m_in_functional_construction_mode\u001b[0m\u001b[0;34m(\u001b[0m\u001b[0mself\u001b[0m\u001b[0;34m,\u001b[0m \u001b[0minputs\u001b[0m\u001b[0;34m,\u001b[0m \u001b[0margs\u001b[0m\u001b[0;34m,\u001b[0m \u001b[0mkwargs\u001b[0m\u001b[0;34m,\u001b[0m \u001b[0minput_list\u001b[0m\u001b[0;34m)\u001b[0m\u001b[0;34m:\u001b[0m\u001b[0;34m\u001b[0m\u001b[0;34m\u001b[0m\u001b[0m\n\u001b[1;32m    925\u001b[0m       return self._functional_construction_call(inputs, args, kwargs,\n\u001b[0;32m--> 926\u001b[0;31m                                                 input_list)\n\u001b[0m\u001b[1;32m    927\u001b[0m \u001b[0;34m\u001b[0m\u001b[0m\n\u001b[1;32m    928\u001b[0m     \u001b[0;31m# Maintains info about the `Layer.call` stack.\u001b[0m\u001b[0;34m\u001b[0m\u001b[0;34m\u001b[0m\u001b[0;34m\u001b[0m\u001b[0m\n",
      "\u001b[0;32m/opt/conda/lib/python3.7/site-packages/tensorflow/python/keras/engine/base_layer.py\u001b[0m in \u001b[0;36m_functional_construction_call\u001b[0;34m(self, inputs, args, kwargs, input_list)\u001b[0m\n\u001b[1;32m   1096\u001b[0m         \u001b[0;31m# Build layer if applicable (if the `build` method has been\u001b[0m\u001b[0;34m\u001b[0m\u001b[0;34m\u001b[0m\u001b[0;34m\u001b[0m\u001b[0m\n\u001b[1;32m   1097\u001b[0m         \u001b[0;31m# overridden).\u001b[0m\u001b[0;34m\u001b[0m\u001b[0;34m\u001b[0m\u001b[0;34m\u001b[0m\u001b[0m\n\u001b[0;32m-> 1098\u001b[0;31m         \u001b[0mself\u001b[0m\u001b[0;34m.\u001b[0m\u001b[0m_maybe_build\u001b[0m\u001b[0;34m(\u001b[0m\u001b[0minputs\u001b[0m\u001b[0;34m)\u001b[0m\u001b[0;34m\u001b[0m\u001b[0;34m\u001b[0m\u001b[0m\n\u001b[0m\u001b[1;32m   1099\u001b[0m         \u001b[0mcast_inputs\u001b[0m \u001b[0;34m=\u001b[0m \u001b[0mself\u001b[0m\u001b[0;34m.\u001b[0m\u001b[0m_maybe_cast_inputs\u001b[0m\u001b[0;34m(\u001b[0m\u001b[0minputs\u001b[0m\u001b[0;34m,\u001b[0m \u001b[0minput_list\u001b[0m\u001b[0;34m)\u001b[0m\u001b[0;34m\u001b[0m\u001b[0;34m\u001b[0m\u001b[0m\n\u001b[1;32m   1100\u001b[0m \u001b[0;34m\u001b[0m\u001b[0m\n",
      "\u001b[0;32m/opt/conda/lib/python3.7/site-packages/tensorflow/python/keras/engine/base_layer.py\u001b[0m in \u001b[0;36m_maybe_build\u001b[0;34m(self, inputs)\u001b[0m\n\u001b[1;32m   2641\u001b[0m         \u001b[0;31m# operations.\u001b[0m\u001b[0;34m\u001b[0m\u001b[0;34m\u001b[0m\u001b[0;34m\u001b[0m\u001b[0m\n\u001b[1;32m   2642\u001b[0m         \u001b[0;32mwith\u001b[0m \u001b[0mtf_utils\u001b[0m\u001b[0;34m.\u001b[0m\u001b[0mmaybe_init_scope\u001b[0m\u001b[0;34m(\u001b[0m\u001b[0mself\u001b[0m\u001b[0;34m)\u001b[0m\u001b[0;34m:\u001b[0m\u001b[0;34m\u001b[0m\u001b[0;34m\u001b[0m\u001b[0m\n\u001b[0;32m-> 2643\u001b[0;31m           \u001b[0mself\u001b[0m\u001b[0;34m.\u001b[0m\u001b[0mbuild\u001b[0m\u001b[0;34m(\u001b[0m\u001b[0minput_shapes\u001b[0m\u001b[0;34m)\u001b[0m  \u001b[0;31m# pylint:disable=not-callable\u001b[0m\u001b[0;34m\u001b[0m\u001b[0;34m\u001b[0m\u001b[0m\n\u001b[0m\u001b[1;32m   2644\u001b[0m       \u001b[0;31m# We must set also ensure that the layer is marked as built, and the build\u001b[0m\u001b[0;34m\u001b[0m\u001b[0;34m\u001b[0m\u001b[0;34m\u001b[0m\u001b[0m\n\u001b[1;32m   2645\u001b[0m       \u001b[0;31m# shape is stored since user defined build functions may not be calling\u001b[0m\u001b[0;34m\u001b[0m\u001b[0;34m\u001b[0m\u001b[0;34m\u001b[0m\u001b[0m\n",
      "\u001b[0;32m/opt/conda/lib/python3.7/site-packages/tensorflow/python/keras/layers/convolutional.py\u001b[0m in \u001b[0;36mbuild\u001b[0;34m(self, input_shape)\u001b[0m\n\u001b[1;32m    202\u001b[0m         \u001b[0mconstraint\u001b[0m\u001b[0;34m=\u001b[0m\u001b[0mself\u001b[0m\u001b[0;34m.\u001b[0m\u001b[0mkernel_constraint\u001b[0m\u001b[0;34m,\u001b[0m\u001b[0;34m\u001b[0m\u001b[0;34m\u001b[0m\u001b[0m\n\u001b[1;32m    203\u001b[0m         \u001b[0mtrainable\u001b[0m\u001b[0;34m=\u001b[0m\u001b[0;32mTrue\u001b[0m\u001b[0;34m,\u001b[0m\u001b[0;34m\u001b[0m\u001b[0;34m\u001b[0m\u001b[0m\n\u001b[0;32m--> 204\u001b[0;31m         dtype=self.dtype)\n\u001b[0m\u001b[1;32m    205\u001b[0m     \u001b[0;32mif\u001b[0m \u001b[0mself\u001b[0m\u001b[0;34m.\u001b[0m\u001b[0muse_bias\u001b[0m\u001b[0;34m:\u001b[0m\u001b[0;34m\u001b[0m\u001b[0;34m\u001b[0m\u001b[0m\n\u001b[1;32m    206\u001b[0m       self.bias = self.add_weight(\n",
      "\u001b[0;32m/opt/conda/lib/python3.7/site-packages/tensorflow/python/keras/engine/base_layer.py\u001b[0m in \u001b[0;36madd_weight\u001b[0;34m(self, name, shape, dtype, initializer, regularizer, trainable, constraint, partitioner, use_resource, synchronization, aggregation, **kwargs)\u001b[0m\n\u001b[1;32m    612\u001b[0m         \u001b[0msynchronization\u001b[0m\u001b[0;34m=\u001b[0m\u001b[0msynchronization\u001b[0m\u001b[0;34m,\u001b[0m\u001b[0;34m\u001b[0m\u001b[0;34m\u001b[0m\u001b[0m\n\u001b[1;32m    613\u001b[0m         \u001b[0maggregation\u001b[0m\u001b[0;34m=\u001b[0m\u001b[0maggregation\u001b[0m\u001b[0;34m,\u001b[0m\u001b[0;34m\u001b[0m\u001b[0;34m\u001b[0m\u001b[0m\n\u001b[0;32m--> 614\u001b[0;31m         caching_device=caching_device)\n\u001b[0m\u001b[1;32m    615\u001b[0m     \u001b[0;32mif\u001b[0m \u001b[0mregularizer\u001b[0m \u001b[0;32mis\u001b[0m \u001b[0;32mnot\u001b[0m \u001b[0;32mNone\u001b[0m\u001b[0;34m:\u001b[0m\u001b[0;34m\u001b[0m\u001b[0;34m\u001b[0m\u001b[0m\n\u001b[1;32m    616\u001b[0m       \u001b[0;31m# TODO(fchollet): in the future, this should be handled at the\u001b[0m\u001b[0;34m\u001b[0m\u001b[0;34m\u001b[0m\u001b[0;34m\u001b[0m\u001b[0m\n",
      "\u001b[0;32m/opt/conda/lib/python3.7/site-packages/tensorflow/python/training/tracking/base.py\u001b[0m in \u001b[0;36m_add_variable_with_custom_getter\u001b[0;34m(self, name, shape, dtype, initializer, getter, overwrite, **kwargs_for_getter)\u001b[0m\n\u001b[1;32m    748\u001b[0m         \u001b[0mdtype\u001b[0m\u001b[0;34m=\u001b[0m\u001b[0mdtype\u001b[0m\u001b[0;34m,\u001b[0m\u001b[0;34m\u001b[0m\u001b[0;34m\u001b[0m\u001b[0m\n\u001b[1;32m    749\u001b[0m         \u001b[0minitializer\u001b[0m\u001b[0;34m=\u001b[0m\u001b[0minitializer\u001b[0m\u001b[0;34m,\u001b[0m\u001b[0;34m\u001b[0m\u001b[0;34m\u001b[0m\u001b[0m\n\u001b[0;32m--> 750\u001b[0;31m         **kwargs_for_getter)\n\u001b[0m\u001b[1;32m    751\u001b[0m \u001b[0;34m\u001b[0m\u001b[0m\n\u001b[1;32m    752\u001b[0m     \u001b[0;31m# If we set an initializer and the variable processed it, tracking will not\u001b[0m\u001b[0;34m\u001b[0m\u001b[0;34m\u001b[0m\u001b[0;34m\u001b[0m\u001b[0m\n",
      "\u001b[0;32m/opt/conda/lib/python3.7/site-packages/tensorflow/python/keras/engine/base_layer_utils.py\u001b[0m in \u001b[0;36mmake_variable\u001b[0;34m(name, shape, dtype, initializer, trainable, caching_device, validate_shape, constraint, use_resource, collections, synchronization, aggregation, partitioner)\u001b[0m\n\u001b[1;32m    143\u001b[0m       \u001b[0msynchronization\u001b[0m\u001b[0;34m=\u001b[0m\u001b[0msynchronization\u001b[0m\u001b[0;34m,\u001b[0m\u001b[0;34m\u001b[0m\u001b[0;34m\u001b[0m\u001b[0m\n\u001b[1;32m    144\u001b[0m       \u001b[0maggregation\u001b[0m\u001b[0;34m=\u001b[0m\u001b[0maggregation\u001b[0m\u001b[0;34m,\u001b[0m\u001b[0;34m\u001b[0m\u001b[0;34m\u001b[0m\u001b[0m\n\u001b[0;32m--> 145\u001b[0;31m       shape=variable_shape if variable_shape else None)\n\u001b[0m\u001b[1;32m    146\u001b[0m \u001b[0;34m\u001b[0m\u001b[0m\n\u001b[1;32m    147\u001b[0m \u001b[0;34m\u001b[0m\u001b[0m\n",
      "\u001b[0;32m/opt/conda/lib/python3.7/site-packages/tensorflow/python/ops/variables.py\u001b[0m in \u001b[0;36m__call__\u001b[0;34m(cls, *args, **kwargs)\u001b[0m\n\u001b[1;32m    258\u001b[0m   \u001b[0;32mdef\u001b[0m \u001b[0m__call__\u001b[0m\u001b[0;34m(\u001b[0m\u001b[0mcls\u001b[0m\u001b[0;34m,\u001b[0m \u001b[0;34m*\u001b[0m\u001b[0margs\u001b[0m\u001b[0;34m,\u001b[0m \u001b[0;34m**\u001b[0m\u001b[0mkwargs\u001b[0m\u001b[0;34m)\u001b[0m\u001b[0;34m:\u001b[0m\u001b[0;34m\u001b[0m\u001b[0;34m\u001b[0m\u001b[0m\n\u001b[1;32m    259\u001b[0m     \u001b[0;32mif\u001b[0m \u001b[0mcls\u001b[0m \u001b[0;32mis\u001b[0m \u001b[0mVariableV1\u001b[0m\u001b[0;34m:\u001b[0m\u001b[0;34m\u001b[0m\u001b[0;34m\u001b[0m\u001b[0m\n\u001b[0;32m--> 260\u001b[0;31m       \u001b[0;32mreturn\u001b[0m \u001b[0mcls\u001b[0m\u001b[0;34m.\u001b[0m\u001b[0m_variable_v1_call\u001b[0m\u001b[0;34m(\u001b[0m\u001b[0;34m*\u001b[0m\u001b[0margs\u001b[0m\u001b[0;34m,\u001b[0m \u001b[0;34m**\u001b[0m\u001b[0mkwargs\u001b[0m\u001b[0;34m)\u001b[0m\u001b[0;34m\u001b[0m\u001b[0;34m\u001b[0m\u001b[0m\n\u001b[0m\u001b[1;32m    261\u001b[0m     \u001b[0;32melif\u001b[0m \u001b[0mcls\u001b[0m \u001b[0;32mis\u001b[0m \u001b[0mVariable\u001b[0m\u001b[0;34m:\u001b[0m\u001b[0;34m\u001b[0m\u001b[0;34m\u001b[0m\u001b[0m\n\u001b[1;32m    262\u001b[0m       \u001b[0;32mreturn\u001b[0m \u001b[0mcls\u001b[0m\u001b[0;34m.\u001b[0m\u001b[0m_variable_v2_call\u001b[0m\u001b[0;34m(\u001b[0m\u001b[0;34m*\u001b[0m\u001b[0margs\u001b[0m\u001b[0;34m,\u001b[0m \u001b[0;34m**\u001b[0m\u001b[0mkwargs\u001b[0m\u001b[0;34m)\u001b[0m\u001b[0;34m\u001b[0m\u001b[0;34m\u001b[0m\u001b[0m\n",
      "\u001b[0;32m/opt/conda/lib/python3.7/site-packages/tensorflow/python/ops/variables.py\u001b[0m in \u001b[0;36m_variable_v1_call\u001b[0;34m(cls, initial_value, trainable, collections, validate_shape, caching_device, name, variable_def, dtype, expected_shape, import_scope, constraint, use_resource, synchronization, aggregation, shape)\u001b[0m\n\u001b[1;32m    219\u001b[0m         \u001b[0msynchronization\u001b[0m\u001b[0;34m=\u001b[0m\u001b[0msynchronization\u001b[0m\u001b[0;34m,\u001b[0m\u001b[0;34m\u001b[0m\u001b[0;34m\u001b[0m\u001b[0m\n\u001b[1;32m    220\u001b[0m         \u001b[0maggregation\u001b[0m\u001b[0;34m=\u001b[0m\u001b[0maggregation\u001b[0m\u001b[0;34m,\u001b[0m\u001b[0;34m\u001b[0m\u001b[0;34m\u001b[0m\u001b[0m\n\u001b[0;32m--> 221\u001b[0;31m         shape=shape)\n\u001b[0m\u001b[1;32m    222\u001b[0m \u001b[0;34m\u001b[0m\u001b[0m\n\u001b[1;32m    223\u001b[0m   def _variable_v2_call(cls,\n",
      "\u001b[0;32m/opt/conda/lib/python3.7/site-packages/tensorflow/python/ops/variables.py\u001b[0m in \u001b[0;36m<lambda>\u001b[0;34m(**kwargs)\u001b[0m\n\u001b[1;32m    197\u001b[0m                         shape=None):\n\u001b[1;32m    198\u001b[0m     \u001b[0;34m\"\"\"Call on Variable class. Useful to force the signature.\"\"\"\u001b[0m\u001b[0;34m\u001b[0m\u001b[0;34m\u001b[0m\u001b[0m\n\u001b[0;32m--> 199\u001b[0;31m     \u001b[0mprevious_getter\u001b[0m \u001b[0;34m=\u001b[0m \u001b[0;32mlambda\u001b[0m \u001b[0;34m**\u001b[0m\u001b[0mkwargs\u001b[0m\u001b[0;34m:\u001b[0m \u001b[0mdefault_variable_creator\u001b[0m\u001b[0;34m(\u001b[0m\u001b[0;32mNone\u001b[0m\u001b[0;34m,\u001b[0m \u001b[0;34m**\u001b[0m\u001b[0mkwargs\u001b[0m\u001b[0;34m)\u001b[0m\u001b[0;34m\u001b[0m\u001b[0;34m\u001b[0m\u001b[0m\n\u001b[0m\u001b[1;32m    200\u001b[0m     \u001b[0;32mfor\u001b[0m \u001b[0m_\u001b[0m\u001b[0;34m,\u001b[0m \u001b[0mgetter\u001b[0m \u001b[0;32min\u001b[0m \u001b[0mops\u001b[0m\u001b[0;34m.\u001b[0m\u001b[0mget_default_graph\u001b[0m\u001b[0;34m(\u001b[0m\u001b[0;34m)\u001b[0m\u001b[0;34m.\u001b[0m\u001b[0m_variable_creator_stack\u001b[0m\u001b[0;34m:\u001b[0m  \u001b[0;31m# pylint: disable=protected-access\u001b[0m\u001b[0;34m\u001b[0m\u001b[0;34m\u001b[0m\u001b[0m\n\u001b[1;32m    201\u001b[0m       \u001b[0mprevious_getter\u001b[0m \u001b[0;34m=\u001b[0m \u001b[0m_make_getter\u001b[0m\u001b[0;34m(\u001b[0m\u001b[0mgetter\u001b[0m\u001b[0;34m,\u001b[0m \u001b[0mprevious_getter\u001b[0m\u001b[0;34m)\u001b[0m\u001b[0;34m\u001b[0m\u001b[0;34m\u001b[0m\u001b[0m\n",
      "\u001b[0;32m/opt/conda/lib/python3.7/site-packages/tensorflow/python/ops/variable_scope.py\u001b[0m in \u001b[0;36mdefault_variable_creator\u001b[0;34m(next_creator, **kwargs)\u001b[0m\n\u001b[1;32m   2595\u001b[0m         \u001b[0msynchronization\u001b[0m\u001b[0;34m=\u001b[0m\u001b[0msynchronization\u001b[0m\u001b[0;34m,\u001b[0m\u001b[0;34m\u001b[0m\u001b[0;34m\u001b[0m\u001b[0m\n\u001b[1;32m   2596\u001b[0m         \u001b[0maggregation\u001b[0m\u001b[0;34m=\u001b[0m\u001b[0maggregation\u001b[0m\u001b[0;34m,\u001b[0m\u001b[0;34m\u001b[0m\u001b[0;34m\u001b[0m\u001b[0m\n\u001b[0;32m-> 2597\u001b[0;31m         shape=shape)\n\u001b[0m\u001b[1;32m   2598\u001b[0m   \u001b[0;32melse\u001b[0m\u001b[0;34m:\u001b[0m\u001b[0;34m\u001b[0m\u001b[0;34m\u001b[0m\u001b[0m\n\u001b[1;32m   2599\u001b[0m     return variables.RefVariable(\n",
      "\u001b[0;32m/opt/conda/lib/python3.7/site-packages/tensorflow/python/ops/variables.py\u001b[0m in \u001b[0;36m__call__\u001b[0;34m(cls, *args, **kwargs)\u001b[0m\n\u001b[1;32m    262\u001b[0m       \u001b[0;32mreturn\u001b[0m \u001b[0mcls\u001b[0m\u001b[0;34m.\u001b[0m\u001b[0m_variable_v2_call\u001b[0m\u001b[0;34m(\u001b[0m\u001b[0;34m*\u001b[0m\u001b[0margs\u001b[0m\u001b[0;34m,\u001b[0m \u001b[0;34m**\u001b[0m\u001b[0mkwargs\u001b[0m\u001b[0;34m)\u001b[0m\u001b[0;34m\u001b[0m\u001b[0;34m\u001b[0m\u001b[0m\n\u001b[1;32m    263\u001b[0m     \u001b[0;32melse\u001b[0m\u001b[0;34m:\u001b[0m\u001b[0;34m\u001b[0m\u001b[0;34m\u001b[0m\u001b[0m\n\u001b[0;32m--> 264\u001b[0;31m       \u001b[0;32mreturn\u001b[0m \u001b[0msuper\u001b[0m\u001b[0;34m(\u001b[0m\u001b[0mVariableMetaclass\u001b[0m\u001b[0;34m,\u001b[0m \u001b[0mcls\u001b[0m\u001b[0;34m)\u001b[0m\u001b[0;34m.\u001b[0m\u001b[0m__call__\u001b[0m\u001b[0;34m(\u001b[0m\u001b[0;34m*\u001b[0m\u001b[0margs\u001b[0m\u001b[0;34m,\u001b[0m \u001b[0;34m**\u001b[0m\u001b[0mkwargs\u001b[0m\u001b[0;34m)\u001b[0m\u001b[0;34m\u001b[0m\u001b[0;34m\u001b[0m\u001b[0m\n\u001b[0m\u001b[1;32m    265\u001b[0m \u001b[0;34m\u001b[0m\u001b[0m\n\u001b[1;32m    266\u001b[0m \u001b[0;34m\u001b[0m\u001b[0m\n",
      "\u001b[0;32m/opt/conda/lib/python3.7/site-packages/tensorflow/python/ops/resource_variable_ops.py\u001b[0m in \u001b[0;36m__init__\u001b[0;34m(self, initial_value, trainable, collections, validate_shape, caching_device, name, dtype, variable_def, import_scope, constraint, distribute_strategy, synchronization, aggregation, shape)\u001b[0m\n\u001b[1;32m   1516\u001b[0m           \u001b[0maggregation\u001b[0m\u001b[0;34m=\u001b[0m\u001b[0maggregation\u001b[0m\u001b[0;34m,\u001b[0m\u001b[0;34m\u001b[0m\u001b[0;34m\u001b[0m\u001b[0m\n\u001b[1;32m   1517\u001b[0m           \u001b[0mshape\u001b[0m\u001b[0;34m=\u001b[0m\u001b[0mshape\u001b[0m\u001b[0;34m,\u001b[0m\u001b[0;34m\u001b[0m\u001b[0;34m\u001b[0m\u001b[0m\n\u001b[0;32m-> 1518\u001b[0;31m           distribute_strategy=distribute_strategy)\n\u001b[0m\u001b[1;32m   1519\u001b[0m \u001b[0;34m\u001b[0m\u001b[0m\n\u001b[1;32m   1520\u001b[0m   def _init_from_args(self,\n",
      "\u001b[0;32m/opt/conda/lib/python3.7/site-packages/tensorflow/python/ops/resource_variable_ops.py\u001b[0m in \u001b[0;36m_init_from_args\u001b[0;34m(self, initial_value, trainable, collections, caching_device, name, dtype, constraint, synchronization, aggregation, distribute_strategy, shape)\u001b[0m\n\u001b[1;32m   1649\u001b[0m           \u001b[0;32mwith\u001b[0m \u001b[0mops\u001b[0m\u001b[0;34m.\u001b[0m\u001b[0mname_scope\u001b[0m\u001b[0;34m(\u001b[0m\u001b[0;34m\"Initializer\"\u001b[0m\u001b[0;34m)\u001b[0m\u001b[0;34m,\u001b[0m \u001b[0mdevice_context_manager\u001b[0m\u001b[0;34m(\u001b[0m\u001b[0;32mNone\u001b[0m\u001b[0;34m)\u001b[0m\u001b[0;34m:\u001b[0m\u001b[0;34m\u001b[0m\u001b[0;34m\u001b[0m\u001b[0m\n\u001b[1;32m   1650\u001b[0m             initial_value = ops.convert_to_tensor(\n\u001b[0;32m-> 1651\u001b[0;31m                 \u001b[0minitial_value\u001b[0m\u001b[0;34m(\u001b[0m\u001b[0;34m)\u001b[0m \u001b[0;32mif\u001b[0m \u001b[0minit_from_fn\u001b[0m \u001b[0;32melse\u001b[0m \u001b[0minitial_value\u001b[0m\u001b[0;34m,\u001b[0m\u001b[0;34m\u001b[0m\u001b[0;34m\u001b[0m\u001b[0m\n\u001b[0m\u001b[1;32m   1652\u001b[0m                 name=\"initial_value\", dtype=dtype)\n\u001b[1;32m   1653\u001b[0m           \u001b[0;32mif\u001b[0m \u001b[0mshape\u001b[0m \u001b[0;32mis\u001b[0m \u001b[0;32mnot\u001b[0m \u001b[0;32mNone\u001b[0m\u001b[0;34m:\u001b[0m\u001b[0;34m\u001b[0m\u001b[0;34m\u001b[0m\u001b[0m\n",
      "\u001b[0;32m/opt/conda/lib/python3.7/site-packages/tensorflow/python/keras/initializers/initializers_v2.py\u001b[0m in \u001b[0;36m__call__\u001b[0;34m(self, shape, dtype)\u001b[0m\n\u001b[1;32m    395\u001b[0m        \u001b[0;34m(\u001b[0m\u001b[0mvia\u001b[0m\u001b[0;31m \u001b[0m\u001b[0;31m`\u001b[0m\u001b[0mtf\u001b[0m\u001b[0;34m.\u001b[0m\u001b[0mkeras\u001b[0m\u001b[0;34m.\u001b[0m\u001b[0mbackend\u001b[0m\u001b[0;34m.\u001b[0m\u001b[0mset_floatx\u001b[0m\u001b[0;34m(\u001b[0m\u001b[0mfloat_dtype\u001b[0m\u001b[0;34m)\u001b[0m\u001b[0;31m`\u001b[0m\u001b[0;34m)\u001b[0m\u001b[0;34m\u001b[0m\u001b[0;34m\u001b[0m\u001b[0m\n\u001b[1;32m    396\u001b[0m     \"\"\"\n\u001b[0;32m--> 397\u001b[0;31m     \u001b[0;32mreturn\u001b[0m \u001b[0msuper\u001b[0m\u001b[0;34m(\u001b[0m\u001b[0mVarianceScaling\u001b[0m\u001b[0;34m,\u001b[0m \u001b[0mself\u001b[0m\u001b[0;34m)\u001b[0m\u001b[0;34m.\u001b[0m\u001b[0m__call__\u001b[0m\u001b[0;34m(\u001b[0m\u001b[0mshape\u001b[0m\u001b[0;34m,\u001b[0m \u001b[0mdtype\u001b[0m\u001b[0;34m=\u001b[0m\u001b[0m_get_dtype\u001b[0m\u001b[0;34m(\u001b[0m\u001b[0mdtype\u001b[0m\u001b[0;34m)\u001b[0m\u001b[0;34m)\u001b[0m\u001b[0;34m\u001b[0m\u001b[0;34m\u001b[0m\u001b[0m\n\u001b[0m\u001b[1;32m    398\u001b[0m \u001b[0;34m\u001b[0m\u001b[0m\n\u001b[1;32m    399\u001b[0m \u001b[0;34m\u001b[0m\u001b[0m\n",
      "\u001b[0;32m/opt/conda/lib/python3.7/site-packages/tensorflow/python/ops/init_ops_v2.py\u001b[0m in \u001b[0;36m__call__\u001b[0;34m(self, shape, dtype)\u001b[0m\n\u001b[1;32m    559\u001b[0m     \u001b[0;32melse\u001b[0m\u001b[0;34m:\u001b[0m\u001b[0;34m\u001b[0m\u001b[0;34m\u001b[0m\u001b[0m\n\u001b[1;32m    560\u001b[0m       \u001b[0mlimit\u001b[0m \u001b[0;34m=\u001b[0m \u001b[0mmath\u001b[0m\u001b[0;34m.\u001b[0m\u001b[0msqrt\u001b[0m\u001b[0;34m(\u001b[0m\u001b[0;36m3.0\u001b[0m \u001b[0;34m*\u001b[0m \u001b[0mscale\u001b[0m\u001b[0;34m)\u001b[0m\u001b[0;34m\u001b[0m\u001b[0;34m\u001b[0m\u001b[0m\n\u001b[0;32m--> 561\u001b[0;31m       \u001b[0;32mreturn\u001b[0m \u001b[0mself\u001b[0m\u001b[0;34m.\u001b[0m\u001b[0m_random_generator\u001b[0m\u001b[0;34m.\u001b[0m\u001b[0mrandom_uniform\u001b[0m\u001b[0;34m(\u001b[0m\u001b[0mshape\u001b[0m\u001b[0;34m,\u001b[0m \u001b[0;34m-\u001b[0m\u001b[0mlimit\u001b[0m\u001b[0;34m,\u001b[0m \u001b[0mlimit\u001b[0m\u001b[0;34m,\u001b[0m \u001b[0mdtype\u001b[0m\u001b[0;34m)\u001b[0m\u001b[0;34m\u001b[0m\u001b[0;34m\u001b[0m\u001b[0m\n\u001b[0m\u001b[1;32m    562\u001b[0m \u001b[0;34m\u001b[0m\u001b[0m\n\u001b[1;32m    563\u001b[0m   \u001b[0;32mdef\u001b[0m \u001b[0mget_config\u001b[0m\u001b[0;34m(\u001b[0m\u001b[0mself\u001b[0m\u001b[0;34m)\u001b[0m\u001b[0;34m:\u001b[0m\u001b[0;34m\u001b[0m\u001b[0;34m\u001b[0m\u001b[0m\n",
      "\u001b[0;32m/opt/conda/lib/python3.7/site-packages/tensorflow/python/ops/init_ops_v2.py\u001b[0m in \u001b[0;36mrandom_uniform\u001b[0;34m(self, shape, minval, maxval, dtype)\u001b[0m\n\u001b[1;32m   1042\u001b[0m       \u001b[0mop\u001b[0m \u001b[0;34m=\u001b[0m \u001b[0mrandom_ops\u001b[0m\u001b[0;34m.\u001b[0m\u001b[0mrandom_uniform\u001b[0m\u001b[0;34m\u001b[0m\u001b[0;34m\u001b[0m\u001b[0m\n\u001b[1;32m   1043\u001b[0m     return op(\n\u001b[0;32m-> 1044\u001b[0;31m         shape=shape, minval=minval, maxval=maxval, dtype=dtype, seed=self.seed)\n\u001b[0m\u001b[1;32m   1045\u001b[0m \u001b[0;34m\u001b[0m\u001b[0m\n\u001b[1;32m   1046\u001b[0m   \u001b[0;32mdef\u001b[0m \u001b[0mtruncated_normal\u001b[0m\u001b[0;34m(\u001b[0m\u001b[0mself\u001b[0m\u001b[0;34m,\u001b[0m \u001b[0mshape\u001b[0m\u001b[0;34m,\u001b[0m \u001b[0mmean\u001b[0m\u001b[0;34m,\u001b[0m \u001b[0mstddev\u001b[0m\u001b[0;34m,\u001b[0m \u001b[0mdtype\u001b[0m\u001b[0;34m)\u001b[0m\u001b[0;34m:\u001b[0m\u001b[0;34m\u001b[0m\u001b[0;34m\u001b[0m\u001b[0m\n",
      "\u001b[0;32m/opt/conda/lib/python3.7/site-packages/tensorflow/python/util/dispatch.py\u001b[0m in \u001b[0;36mwrapper\u001b[0;34m(*args, **kwargs)\u001b[0m\n\u001b[1;32m    199\u001b[0m     \u001b[0;34m\"\"\"Call target, and fall back on dispatchers if there is a TypeError.\"\"\"\u001b[0m\u001b[0;34m\u001b[0m\u001b[0;34m\u001b[0m\u001b[0m\n\u001b[1;32m    200\u001b[0m     \u001b[0;32mtry\u001b[0m\u001b[0;34m:\u001b[0m\u001b[0;34m\u001b[0m\u001b[0;34m\u001b[0m\u001b[0m\n\u001b[0;32m--> 201\u001b[0;31m       \u001b[0;32mreturn\u001b[0m \u001b[0mtarget\u001b[0m\u001b[0;34m(\u001b[0m\u001b[0;34m*\u001b[0m\u001b[0margs\u001b[0m\u001b[0;34m,\u001b[0m \u001b[0;34m**\u001b[0m\u001b[0mkwargs\u001b[0m\u001b[0;34m)\u001b[0m\u001b[0;34m\u001b[0m\u001b[0;34m\u001b[0m\u001b[0m\n\u001b[0m\u001b[1;32m    202\u001b[0m     \u001b[0;32mexcept\u001b[0m \u001b[0;34m(\u001b[0m\u001b[0mTypeError\u001b[0m\u001b[0;34m,\u001b[0m \u001b[0mValueError\u001b[0m\u001b[0;34m)\u001b[0m\u001b[0;34m:\u001b[0m\u001b[0;34m\u001b[0m\u001b[0;34m\u001b[0m\u001b[0m\n\u001b[1;32m    203\u001b[0m       \u001b[0;31m# Note: convert_to_eager_tensor currently raises a ValueError, not a\u001b[0m\u001b[0;34m\u001b[0m\u001b[0;34m\u001b[0m\u001b[0;34m\u001b[0m\u001b[0m\n",
      "\u001b[0;32m/opt/conda/lib/python3.7/site-packages/tensorflow/python/ops/random_ops.py\u001b[0m in \u001b[0;36mrandom_uniform\u001b[0;34m(shape, minval, maxval, dtype, seed, name)\u001b[0m\n\u001b[1;32m    300\u001b[0m     \u001b[0;32melse\u001b[0m\u001b[0;34m:\u001b[0m\u001b[0;34m\u001b[0m\u001b[0;34m\u001b[0m\u001b[0m\n\u001b[1;32m    301\u001b[0m       result = gen_random_ops.random_uniform(\n\u001b[0;32m--> 302\u001b[0;31m           shape, dtype, seed=seed1, seed2=seed2)\n\u001b[0m\u001b[1;32m    303\u001b[0m       \u001b[0;32mif\u001b[0m \u001b[0mminval_is_zero\u001b[0m\u001b[0;34m:\u001b[0m\u001b[0;34m\u001b[0m\u001b[0;34m\u001b[0m\u001b[0m\n\u001b[1;32m    304\u001b[0m         \u001b[0;32mif\u001b[0m \u001b[0;32mnot\u001b[0m \u001b[0mmaxval_is_one\u001b[0m\u001b[0;34m:\u001b[0m\u001b[0;34m\u001b[0m\u001b[0;34m\u001b[0m\u001b[0m\n",
      "\u001b[0;32m/opt/conda/lib/python3.7/site-packages/tensorflow/python/ops/gen_random_ops.py\u001b[0m in \u001b[0;36mrandom_uniform\u001b[0;34m(shape, dtype, seed, seed2, name)\u001b[0m\n\u001b[1;32m    724\u001b[0m       \u001b[0;32mreturn\u001b[0m \u001b[0m_result\u001b[0m\u001b[0;34m\u001b[0m\u001b[0;34m\u001b[0m\u001b[0m\n\u001b[1;32m    725\u001b[0m     \u001b[0;32mexcept\u001b[0m \u001b[0m_core\u001b[0m\u001b[0;34m.\u001b[0m\u001b[0m_NotOkStatusException\u001b[0m \u001b[0;32mas\u001b[0m \u001b[0me\u001b[0m\u001b[0;34m:\u001b[0m\u001b[0;34m\u001b[0m\u001b[0;34m\u001b[0m\u001b[0m\n\u001b[0;32m--> 726\u001b[0;31m       \u001b[0m_ops\u001b[0m\u001b[0;34m.\u001b[0m\u001b[0mraise_from_not_ok_status\u001b[0m\u001b[0;34m(\u001b[0m\u001b[0me\u001b[0m\u001b[0;34m,\u001b[0m \u001b[0mname\u001b[0m\u001b[0;34m)\u001b[0m\u001b[0;34m\u001b[0m\u001b[0;34m\u001b[0m\u001b[0m\n\u001b[0m\u001b[1;32m    727\u001b[0m     \u001b[0;32mexcept\u001b[0m \u001b[0m_core\u001b[0m\u001b[0;34m.\u001b[0m\u001b[0m_FallbackException\u001b[0m\u001b[0;34m:\u001b[0m\u001b[0;34m\u001b[0m\u001b[0;34m\u001b[0m\u001b[0m\n\u001b[1;32m    728\u001b[0m       \u001b[0;32mpass\u001b[0m\u001b[0;34m\u001b[0m\u001b[0;34m\u001b[0m\u001b[0m\n",
      "\u001b[0;32m/opt/conda/lib/python3.7/site-packages/tensorflow/python/framework/ops.py\u001b[0m in \u001b[0;36mraise_from_not_ok_status\u001b[0;34m(e, name)\u001b[0m\n\u001b[1;32m   6841\u001b[0m   \u001b[0mmessage\u001b[0m \u001b[0;34m=\u001b[0m \u001b[0me\u001b[0m\u001b[0;34m.\u001b[0m\u001b[0mmessage\u001b[0m \u001b[0;34m+\u001b[0m \u001b[0;34m(\u001b[0m\u001b[0;34m\" name: \"\u001b[0m \u001b[0;34m+\u001b[0m \u001b[0mname\u001b[0m \u001b[0;32mif\u001b[0m \u001b[0mname\u001b[0m \u001b[0;32mis\u001b[0m \u001b[0;32mnot\u001b[0m \u001b[0;32mNone\u001b[0m \u001b[0;32melse\u001b[0m \u001b[0;34m\"\"\u001b[0m\u001b[0;34m)\u001b[0m\u001b[0;34m\u001b[0m\u001b[0;34m\u001b[0m\u001b[0m\n\u001b[1;32m   6842\u001b[0m   \u001b[0;31m# pylint: disable=protected-access\u001b[0m\u001b[0;34m\u001b[0m\u001b[0;34m\u001b[0m\u001b[0;34m\u001b[0m\u001b[0m\n\u001b[0;32m-> 6843\u001b[0;31m   \u001b[0msix\u001b[0m\u001b[0;34m.\u001b[0m\u001b[0mraise_from\u001b[0m\u001b[0;34m(\u001b[0m\u001b[0mcore\u001b[0m\u001b[0;34m.\u001b[0m\u001b[0m_status_to_exception\u001b[0m\u001b[0;34m(\u001b[0m\u001b[0me\u001b[0m\u001b[0;34m.\u001b[0m\u001b[0mcode\u001b[0m\u001b[0;34m,\u001b[0m \u001b[0mmessage\u001b[0m\u001b[0;34m)\u001b[0m\u001b[0;34m,\u001b[0m \u001b[0;32mNone\u001b[0m\u001b[0;34m)\u001b[0m\u001b[0;34m\u001b[0m\u001b[0;34m\u001b[0m\u001b[0m\n\u001b[0m\u001b[1;32m   6844\u001b[0m   \u001b[0;31m# pylint: enable=protected-access\u001b[0m\u001b[0;34m\u001b[0m\u001b[0;34m\u001b[0m\u001b[0;34m\u001b[0m\u001b[0m\n\u001b[1;32m   6845\u001b[0m \u001b[0;34m\u001b[0m\u001b[0m\n",
      "\u001b[0;32m/opt/conda/lib/python3.7/site-packages/six.py\u001b[0m in \u001b[0;36mraise_from\u001b[0;34m(value, from_value)\u001b[0m\n",
      "\u001b[0;31mResourceExhaustedError\u001b[0m: OOM when allocating tensor with shape[3,3,80,192] and type float on /job:localhost/replica:0/task:0/device:GPU:0 by allocator GPU_0_bfc [Op:RandomUniform]"
     ]
    }
   ],
   "source": [
    "# define input tensor for model = target shape of image and the number of channels. \n",
    "# If the images are colored, then put 3\n",
    "input_t = tf.keras.Input(shape = (224,224,3))\n",
    "\n",
    "# load a new instance of model\n",
    "InceptionV3_model = tf.keras.applications.InceptionV3(input_tensor = input_t,\n",
    "                                              include_top=False, # do not include ImageNet classifier at the top\n",
    "                                              weights= \"imagenet\")"
   ]
  },
  {
   "cell_type": "code",
   "execution_count": 62,
   "metadata": {
    "colab": {
     "base_uri": "https://localhost:8080/"
    },
    "collapsed": true,
    "executionInfo": {
     "elapsed": 703,
     "status": "ok",
     "timestamp": 1605597253320,
     "user": {
      "displayName": "Linda Wymann",
      "photoUrl": "",
      "userId": "10601199980654706877"
     },
     "user_tz": -60
    },
    "id": "pEKn7vW7CF11",
    "jupyter": {
     "outputs_hidden": true
    },
    "outputId": "1d308739-08b7-4231-f974-b999a7802361"
   },
   "outputs": [
    {
     "ename": "NameError",
     "evalue": "name 'InceptionV3_model' is not defined",
     "output_type": "error",
     "traceback": [
      "\u001b[0;31m---------------------------------------------------------------------------\u001b[0m",
      "\u001b[0;31mNameError\u001b[0m                                 Traceback (most recent call last)",
      "\u001b[0;32m<ipython-input-62-62227a52af5e>\u001b[0m in \u001b[0;36m<module>\u001b[0;34m\u001b[0m\n\u001b[1;32m      1\u001b[0m \u001b[0;31m# to get an overview of the model architecture\u001b[0m\u001b[0;34m\u001b[0m\u001b[0;34m\u001b[0m\u001b[0;34m\u001b[0m\u001b[0m\n\u001b[0;32m----> 2\u001b[0;31m \u001b[0mInceptionV3_model\u001b[0m\u001b[0;34m.\u001b[0m\u001b[0msummary\u001b[0m\u001b[0;34m(\u001b[0m\u001b[0;34m)\u001b[0m\u001b[0;34m\u001b[0m\u001b[0;34m\u001b[0m\u001b[0m\n\u001b[0m",
      "\u001b[0;31mNameError\u001b[0m: name 'InceptionV3_model' is not defined"
     ]
    }
   ],
   "source": [
    "# to get an overview of the model architecture\n",
    "InceptionV3_model.summary()"
   ]
  },
  {
   "cell_type": "markdown",
   "metadata": {
    "id": "q3tFD-QsqxBa"
   },
   "source": [
    "# Transfer Learning of InceptionV3\n"
   ]
  },
  {
   "cell_type": "code",
   "execution_count": null,
   "metadata": {
    "id": "ThuhRyXgDUlK"
   },
   "outputs": [],
   "source": [
    "# Making the model trainable in general except for the batch normalization layers which should never be trained\n",
    "InceptionV3_model.trainable = True\n",
    "for layer in InceptionV3_model.layers:\n",
    "    if('batch_normalization_' in layer.name):\n",
    "    layer.trainable = False"
   ]
  },
  {
   "cell_type": "code",
   "execution_count": null,
   "metadata": {
    "id": "zXM0LLs4Iq1X"
   },
   "outputs": [],
   "source": [
    "# To check which layers were opened\n",
    "for layer in InceptionV3_model.layers:\n",
    "    print(layer.name, '->', layer.trainable)"
   ]
  },
  {
   "cell_type": "code",
   "execution_count": null,
   "metadata": {
    "id": "IMnOcoayfYNt"
   },
   "outputs": [],
   "source": [
    "# Fine-tune from this layer onward. This means most layers remain closed and will not be trained\n",
    "fine_tune_at = 287\n",
    "\n",
    "# Freeze all the layers before the `fine_tune_at` layer\n",
    "for layer in InceptionV3_model.layers[:fine_tune_at]:\n",
    "    layer.trainable =  False"
   ]
  },
  {
   "cell_type": "code",
   "execution_count": null,
   "metadata": {
    "id": "zu7glWh7DgXe"
   },
   "outputs": [],
   "source": [
    "# To check which layers were opened after you opened some\n",
    "for layer in InceptionV3_model.layers:\n",
    "    print(layer.name, '->', layer.trainable)"
   ]
  },
  {
   "cell_type": "code",
   "execution_count": null,
   "metadata": {
    "id": "5ZnbjIR9DhPw"
   },
   "outputs": [],
   "source": [
    "# points to last layer which is necessary for the new model below\n",
    "last_conv_layer = InceptionV3_model.get_layer('mixed10')"
   ]
  },
  {
   "cell_type": "markdown",
   "metadata": {
    "id": "L-mg_vwvJnQM"
   },
   "source": [
    "# Setting up New_Model"
   ]
  },
  {
   "cell_type": "code",
   "execution_count": null,
   "metadata": {
    "id": "uNwLCFExD4wy"
   },
   "outputs": [],
   "source": [
    "num_classes = len(classes)\n",
    "\n",
    "## Inception \n",
    "conv_model = Model(inputs=InceptionV3_model.input,\n",
    "                   outputs=last_conv_layer.output)\n",
    "\n",
    "## Start a new Keras Sequential model \n",
    "new_model = Sequential()\n",
    "\n",
    "# Add the convolutional part of the model from above \n",
    "new_model.add(conv_model)\n",
    "\n",
    "## Add a global average pooling layer before the final dense layer\n",
    "new_model.add(tf.keras.layers.GlobalAveragePooling2D())\n",
    "\n",
    "## adding dropout layer to further prevent overfitting\n",
    "new_model.add(tf.keras.layers.Dropout(0.2))\n",
    "\n",
    "## Add a final dense (=fully-connected) layer.\n",
    "## This is for combining features recognized in the image and calculating predictions \n",
    "## note that the number of nodes is the sameas the number of classes \n",
    "new_model.add(tf.keras.layers.Dense(num_classes, activation='softmax')) "
   ]
  },
  {
   "cell_type": "markdown",
   "metadata": {
    "id": "Wkk6a0MtTXbu"
   },
   "source": [
    "# Optimizer"
   ]
  },
  {
   "cell_type": "code",
   "execution_count": null,
   "metadata": {
    "id": "RD_E6MS46Dxg"
   },
   "outputs": [],
   "source": [
    "# defining an optimizer for compilation\n",
    "optimizer = Adam(lr=1e-3)\n",
    "optimizer.lr.numpy()"
   ]
  },
  {
   "cell_type": "markdown",
   "metadata": {
    "id": "EaKFzz72Lqpg"
   },
   "source": [
    "## Compile the model"
   ]
  },
  {
   "cell_type": "code",
   "execution_count": null,
   "metadata": {
    "id": "CO1rWvOfmWxD"
   },
   "outputs": [],
   "source": [
    "# Categorical Crossentropy\n",
    "new_model.compile(optimizer= optimizer,\n",
    "              loss=tf.keras.losses.CategoricalCrossentropy(from_logits=False),\n",
    "              metrics=[tf.keras.metrics.CategoricalAccuracy()])"
   ]
  },
  {
   "cell_type": "markdown",
   "metadata": {
    "id": "aMJ4DnuJL55A"
   },
   "source": [
    "## Model summary"
   ]
  },
  {
   "cell_type": "code",
   "execution_count": null,
   "metadata": {
    "colab": {
     "base_uri": "https://localhost:8080/"
    },
    "executionInfo": {
     "elapsed": 31770,
     "status": "ok",
     "timestamp": 1605279036068,
     "user": {
      "displayName": "C C",
      "photoUrl": "",
      "userId": "06938559631318780811"
     },
     "user_tz": -60
    },
    "id": "uJxvjEdECs8m",
    "outputId": "fa02e028-a7e7-4ccf-ad25-c319c9609843"
   },
   "outputs": [],
   "source": [
    "# complete model layers\n",
    "for layer in new_model.layers:\n",
    "    print(layer.name, '->', layer.trainable)"
   ]
  },
  {
   "cell_type": "code",
   "execution_count": null,
   "metadata": {
    "colab": {
     "base_uri": "https://localhost:8080/"
    },
    "executionInfo": {
     "elapsed": 31763,
     "status": "ok",
     "timestamp": 1605279036068,
     "user": {
      "displayName": "C C",
      "photoUrl": "",
      "userId": "06938559631318780811"
     },
     "user_tz": -60
    },
    "id": "llLYH-BXL7Xe",
    "outputId": "f447d0c1-16be-4576-addf-52c4010859b4"
   },
   "outputs": [],
   "source": [
    "# complete model summary\n",
    "new_model.summary()"
   ]
  },
  {
   "cell_type": "markdown",
   "metadata": {
    "id": "NiYHcbvaL9H-"
   },
   "source": [
    "## Train the model"
   ]
  },
  {
   "cell_type": "markdown",
   "metadata": {},
   "source": [
    "Tthe more epochs the longer the training takes but also, it will perform better. \n",
    "For the original pre-trained model which you can load (in prediction notebook), 80 epochs were used.\n",
    "If you just want to have a quick glance at the results, put 5. "
   ]
  },
  {
   "cell_type": "code",
   "execution_count": null,
   "metadata": {
    "colab": {
     "base_uri": "https://localhost:8080/"
    },
    "executionInfo": {
     "elapsed": 2637390,
     "status": "ok",
     "timestamp": 1605600235256,
     "user": {
      "displayName": "Linda Wymann",
      "photoUrl": "",
      "userId": "10601199980654706877"
     },
     "user_tz": -60
    },
    "id": "5fWToCqYMErH",
    "outputId": "8926bd41-12ee-4cb0-c578-d842d309c1dd"
   },
   "outputs": [],
   "source": [
    "epochs = 80\n",
    "history = new_model.fit(\n",
    "  train_generator,\n",
    "  steps_per_epoch=steps_train,\n",
    "  validation_data=val_generator,\n",
    "  validation_steps = steps_val,\n",
    "  # callbacks = [tboard_callback],\n",
    "  class_weight = class_weight_dict,\n",
    "  epochs=epochs\n",
    ")"
   ]
  },
  {
   "cell_type": "code",
   "execution_count": null,
   "metadata": {
    "id": "YPuXxu_6yI6j"
   },
   "outputs": [],
   "source": [
    "# This is only needed if further training based on the previous history is required.\n",
    "# Instead of running the entire training from the beginning, you can start where you left of.\n",
    "# eg. you trained for 30 epochs above and want to train the model for another 20 epochs, just put 20 here\n",
    "# and the model will start training from epoch 31 on. \n",
    "\n",
    "new_epochs = 20\n",
    "epochs += new_epochs\n",
    "\n",
    "# training including previous training\n",
    "history_2 = new_model.fit(\n",
    "  train_generator,\n",
    "  initial_epoch=history.epoch[-1]+1,\n",
    "  epochs = epochs,\n",
    "  steps_per_epoch=steps_train,\n",
    "  validation_data=val_generator,\n",
    "  validation_steps = steps_val,\n",
    "  class_weight = class_weight_dict\n",
    ")"
   ]
  },
  {
   "cell_type": "markdown",
   "metadata": {
    "id": "GVrGcgg_OdQi"
   },
   "source": [
    "# Save Model\n",
    "If the model from above is any good it should be saved to the storage with bucket name (for Moritz to define). For now, let's call it \"model_storage\""
   ]
  },
  {
   "cell_type": "code",
   "execution_count": null,
   "metadata": {},
   "outputs": [],
   "source": [
    "# new_model.save(cwd+\"/InceptionV3_XXX\")"
   ]
  },
  {
   "cell_type": "code",
   "execution_count": null,
   "metadata": {
    "id": "NMOll0_uOh1b"
   },
   "outputs": [],
   "source": [
    "# !gsutil -m cp -r \"InceptionV3_XXX\" gs://model_storage/"
   ]
  },
  {
   "cell_type": "markdown",
   "metadata": {
    "id": "SyFKdQpXMJT4"
   },
   "source": [
    "## Visualize training results  "
   ]
  },
  {
   "cell_type": "code",
   "execution_count": null,
   "metadata": {
    "colab": {
     "base_uri": "https://localhost:8080/",
     "height": 235
    },
    "executionInfo": {
     "elapsed": 572,
     "status": "error",
     "timestamp": 1605600287215,
     "user": {
      "displayName": "Linda Wymann",
      "photoUrl": "",
      "userId": "10601199980654706877"
     },
     "user_tz": -60
    },
    "id": "jWnopEChMMCn",
    "outputId": "c53e7177-dc7c-4746-969e-1e4d9fd7e5dd"
   },
   "outputs": [],
   "source": [
    "acc = history.history['categorical_accuracy']\n",
    "val_acc = history.history['val_categorical_accuracy']\n",
    "\n",
    "loss=history.history['loss']\n",
    "val_loss=history.history['val_loss']\n",
    "\n",
    "epochs_range = range(epochs)\n",
    "\n",
    "plt.figure(figsize=(12, 6))\n",
    "plt.subplot(1, 2, 1)\n",
    "plt.plot(epochs_range, acc, label='Training Accuracy')\n",
    "plt.plot(epochs_range, val_acc, label='Validation Accuracy')\n",
    "plt.legend(loc='lower right')\n",
    "plt.title('Training and Validation Accuracy')\n",
    "\n",
    "plt.subplot(1, 2, 2)\n",
    "plt.plot(epochs_range, loss, label='Training Loss')\n",
    "plt.plot(epochs_range, val_loss, label='Validation Loss')\n",
    "plt.legend(loc='upper right')\n",
    "plt.title('Training and Validation Loss')\n",
    "plt.show()"
   ]
  },
  {
   "cell_type": "markdown",
   "metadata": {
    "id": "nn2g3TXiPX6Y"
   },
   "source": [
    "# Predict on test set"
   ]
  },
  {
   "cell_type": "code",
   "execution_count": 19,
   "metadata": {
    "colab": {
     "base_uri": "https://localhost:8080/"
    },
    "collapsed": true,
    "executionInfo": {
     "elapsed": 14207,
     "status": "ok",
     "timestamp": 1605600319800,
     "user": {
      "displayName": "Linda Wymann",
      "photoUrl": "",
      "userId": "10601199980654706877"
     },
     "user_tz": -60
    },
    "id": "0YnJJD63eaKa",
    "jupyter": {
     "outputs_hidden": true
    },
    "outputId": "355bfc2b-8ca5-4cab-f6c1-db4d9f2619b3"
   },
   "outputs": [
    {
     "ename": "NameError",
     "evalue": "name 'new_model' is not defined",
     "output_type": "error",
     "traceback": [
      "\u001b[0;31m---------------------------------------------------------------------------\u001b[0m",
      "\u001b[0;31mNameError\u001b[0m                                 Traceback (most recent call last)",
      "\u001b[0;32m<ipython-input-19-f7691c48c133>\u001b[0m in \u001b[0;36m<module>\u001b[0;34m\u001b[0m\n\u001b[1;32m     11\u001b[0m         \u001b[0mimg_array\u001b[0m \u001b[0;34m=\u001b[0m \u001b[0mkeras\u001b[0m\u001b[0;34m.\u001b[0m\u001b[0mpreprocessing\u001b[0m\u001b[0;34m.\u001b[0m\u001b[0mimage\u001b[0m\u001b[0;34m.\u001b[0m\u001b[0mimg_to_array\u001b[0m\u001b[0;34m(\u001b[0m\u001b[0mimg\u001b[0m\u001b[0;34m)\u001b[0m\u001b[0;34m/\u001b[0m\u001b[0;36m255\u001b[0m\u001b[0;34m\u001b[0m\u001b[0;34m\u001b[0m\u001b[0m\n\u001b[1;32m     12\u001b[0m         \u001b[0mimg_array\u001b[0m \u001b[0;34m=\u001b[0m \u001b[0mtf\u001b[0m\u001b[0;34m.\u001b[0m\u001b[0mexpand_dims\u001b[0m\u001b[0;34m(\u001b[0m\u001b[0mimg_array\u001b[0m\u001b[0;34m,\u001b[0m \u001b[0;36m0\u001b[0m\u001b[0;34m)\u001b[0m\u001b[0;34m\u001b[0m\u001b[0;34m\u001b[0m\u001b[0m\n\u001b[0;32m---> 13\u001b[0;31m         \u001b[0mpred\u001b[0m \u001b[0;34m=\u001b[0m \u001b[0mnew_model\u001b[0m\u001b[0;34m.\u001b[0m\u001b[0mpredict\u001b[0m\u001b[0;34m(\u001b[0m\u001b[0mimg_array\u001b[0m\u001b[0;34m)\u001b[0m\u001b[0;34m\u001b[0m\u001b[0;34m\u001b[0m\u001b[0m\n\u001b[0m\u001b[1;32m     14\u001b[0m         predictions[filename] = (classes[np.argmax(pred)],\n\u001b[1;32m     15\u001b[0m                                (\"confidance of {:.2f}%\".format(100 * np.max(pred))))\n",
      "\u001b[0;31mNameError\u001b[0m: name 'new_model' is not defined"
     ]
    }
   ],
   "source": [
    "classes = ['crystal', 'no_crystal']\n",
    "IMG_SIZE = 224\n",
    "folder_path = cwd + \"/test/\"\n",
    "\n",
    "predictions = {}\n",
    "\n",
    "for filename in os.listdir(folder_path):\n",
    "    if filename.endswith(\".jpg\") or filename.endswith(\".JPG\"):\n",
    "        img = keras.preprocessing.image.load_img(folder_path+filename,\n",
    "                                               target_size=(IMG_SIZE, IMG_SIZE))\n",
    "        img_array = keras.preprocessing.image.img_to_array(img)/255\n",
    "        img_array = tf.expand_dims(img_array, 0)\n",
    "        pred = new_model.predict(img_array)\n",
    "        predictions[filename] = (classes[np.argmax(pred)],\n",
    "                               (\"confidance of {:.2f}%\".format(100 * np.max(pred))))\n",
    "        continue\n",
    "    else:\n",
    "        continue\n",
    "\n",
    "predictions"
   ]
  },
  {
   "cell_type": "markdown",
   "metadata": {
    "id": "dIRFbiQlEAk8"
   },
   "source": [
    "# Evaluate"
   ]
  },
  {
   "cell_type": "markdown",
   "metadata": {
    "id": "lBOhJG_mSw93"
   },
   "source": [
    "## Confusion Matrix "
   ]
  },
  {
   "cell_type": "code",
   "execution_count": 20,
   "metadata": {
    "id": "lUmhmZisS0zr"
   },
   "outputs": [],
   "source": [
    "# create data frame with true labels\n",
    "df_json = pd.read_json(cwd +\"/image_labels.json\", orient=\"columns\")\n",
    "#df_json = df_json.set_index(\"index\")\n",
    "#df_json.head(2)"
   ]
  },
  {
   "cell_type": "code",
   "execution_count": null,
   "metadata": {
    "id": "_0r0f-8jS_HN"
   },
   "outputs": [],
   "source": [
    "#create data frame with predicted labels\n",
    "df_pred = pd.DataFrame.from_dict(predictions, orient=\"index\").reset_index()                    \n",
    "df_pred.columns = [\"image\", \"predictions\",\"confidence\"]\n",
    "df_pred = df_pred.set_index(\"image\")\n",
    "# df_pred.head(2)"
   ]
  },
  {
   "cell_type": "code",
   "execution_count": null,
   "metadata": {
    "id": "p9TRDBEm2MKA"
   },
   "outputs": [],
   "source": [
    "# concatenate the two data frames\n",
    "cm_df = pd.concat([df_pred, df_json], axis=1, join='inner')\n",
    "# cm_df"
   ]
  },
  {
   "cell_type": "code",
   "execution_count": null,
   "metadata": {
    "colab": {
     "base_uri": "https://localhost:8080/",
     "height": 284
    },
    "executionInfo": {
     "elapsed": 1846,
     "status": "ok",
     "timestamp": 1605600341955,
     "user": {
      "displayName": "Linda Wymann",
      "photoUrl": "",
      "userId": "10601199980654706877"
     },
     "user_tz": -60
    },
    "id": "k2MYscS8XRlz",
    "outputId": "2dd8d37a-bf77-47bb-a501-b577b1bd3512"
   },
   "outputs": [],
   "source": [
    "conf_mat = confusion_matrix(cm_df.loc[:,\"y_true\"], cm_df.loc[:,\"predictions\"])\n",
    "cm_display = ConfusionMatrixDisplay(conf_mat, display_labels=['crystal', 'no_crystal']).plot()"
   ]
  },
  {
   "cell_type": "markdown",
   "metadata": {
    "id": "O2yo8_Fxawmr"
   },
   "source": [
    "## Classification Report"
   ]
  },
  {
   "cell_type": "code",
   "execution_count": null,
   "metadata": {
    "id": "gcfNqheea6fP"
   },
   "outputs": [],
   "source": [
    "cr = classification_report(cm_df.loc[:,\"y_true\"], \n",
    "                           cm_df.loc[:,\"predictions\"], \n",
    "                           labels = ['crystal', 'no_crystal'], \n",
    "                           digits=2, \n",
    "                           zero_division='warn')\n",
    "print(cr)"
   ]
  },
  {
   "cell_type": "markdown",
   "metadata": {
    "id": "fjmd_GZlEGJm"
   },
   "source": [
    "## ROC curve"
   ]
  },
  {
   "cell_type": "code",
   "execution_count": null,
   "metadata": {
    "id": "1eKiuUDW8jAi"
   },
   "outputs": [],
   "source": [
    "cm_df.replace(to_replace=\"no_crystal\", value=1, inplace=True)\n",
    "cm_df.replace(to_replace=\"crystal\", value=0, inplace=True)"
   ]
  },
  {
   "cell_type": "code",
   "execution_count": null,
   "metadata": {
    "id": "PzM9i6egDDVE"
   },
   "outputs": [],
   "source": [
    "def plot_roc(y_test, proba_preds):\n",
    "\n",
    "    # create linear line\n",
    "    base_probs = [0 for _ in range(len(y_test))]\n",
    "\n",
    "    base_auc = roc_auc_score(y_test, base_probs)\n",
    "    lr_auc = roc_auc_score(y_test, proba_preds)\n",
    "\n",
    "    # summarize scores\n",
    "    print('Logistic: ROC AUC=%.3f' % (lr_auc))\n",
    "\n",
    "    # calculate roc curves\n",
    "    ns_fpr, ns_tpr, _ = roc_curve(y_test, base_probs)\n",
    "    lr_fpr, lr_tpr, _ = roc_curve(y_test, proba_preds)\n",
    "\n",
    "    # plot the roc curve for the model\n",
    "    plt.plot(ns_fpr, ns_tpr, linestyle='--', label='Base')\n",
    "    plt.plot(lr_fpr, lr_tpr, marker='.', label='InceptionV3')\n",
    "    plt.xlabel('False Positive Rate')\n",
    "    plt.ylabel('True Positive Rate')\n",
    "    plt.legend()\n",
    "    plt.show()"
   ]
  },
  {
   "cell_type": "code",
   "execution_count": null,
   "metadata": {
    "colab": {
     "base_uri": "https://localhost:8080/",
     "height": 296
    },
    "executionInfo": {
     "elapsed": 574,
     "status": "ok",
     "timestamp": 1605535852412,
     "user": {
      "displayName": "Linda Wymann",
      "photoUrl": "",
      "userId": "10601199980654706877"
     },
     "user_tz": -60
    },
    "id": "tCTo8Xv-DDd_",
    "outputId": "a819b821-71b1-4044-84c5-9eadad978e65"
   },
   "outputs": [],
   "source": [
    "plot_roc(cm_df.loc[:,\"y_true\"], \n",
    "         cm_df.loc[:,\"predictions\"])"
   ]
  },
  {
   "cell_type": "markdown",
   "metadata": {
    "id": "KBxmfewRaSfj"
   },
   "source": [
    "# Loading a pre-trained model\n",
    "In case you only want to predict on new data, jump to this part of the notebook"
   ]
  },
  {
   "cell_type": "code",
   "execution_count": 21,
   "metadata": {},
   "outputs": [],
   "source": [
    "#this is the path to the pre-trained model in case you don't want to train on a new model\n",
    "path_pred = Path(\"/home/jupyter/Prediction/Inception_Pre-trained_Model\")"
   ]
  },
  {
   "cell_type": "code",
   "execution_count": 23,
   "metadata": {
    "collapsed": true,
    "jupyter": {
     "outputs_hidden": true
    }
   },
   "outputs": [
    {
     "ename": "ResourceExhaustedError",
     "evalue": "OOM when allocating tensor with shape[3,3,288,384] and type float on /job:localhost/replica:0/task:0/device:GPU:0 by allocator GPU_0_bfc [Op:RandomUniform]",
     "output_type": "error",
     "traceback": [
      "\u001b[0;31m---------------------------------------------------------------------------\u001b[0m",
      "\u001b[0;31mResourceExhaustedError\u001b[0m                    Traceback (most recent call last)",
      "\u001b[0;32m<ipython-input-23-8e30e3111130>\u001b[0m in \u001b[0;36m<module>\u001b[0;34m\u001b[0m\n\u001b[1;32m      1\u001b[0m \u001b[0;31m# make sure to load the correct model in case you reset the kernel\u001b[0m\u001b[0;34m\u001b[0m\u001b[0;34m\u001b[0m\u001b[0;34m\u001b[0m\u001b[0m\n\u001b[0;32m----> 2\u001b[0;31m \u001b[0mnew_model\u001b[0m \u001b[0;34m=\u001b[0m \u001b[0mtf\u001b[0m\u001b[0;34m.\u001b[0m\u001b[0mkeras\u001b[0m\u001b[0;34m.\u001b[0m\u001b[0mmodels\u001b[0m\u001b[0;34m.\u001b[0m\u001b[0mload_model\u001b[0m\u001b[0;34m(\u001b[0m\u001b[0mpath_pred\u001b[0m\u001b[0;34m)\u001b[0m\u001b[0;34m\u001b[0m\u001b[0;34m\u001b[0m\u001b[0m\n\u001b[0m",
      "\u001b[0;32m/opt/conda/lib/python3.7/site-packages/tensorflow/python/keras/saving/save.py\u001b[0m in \u001b[0;36mload_model\u001b[0;34m(filepath, custom_objects, compile, options)\u001b[0m\n\u001b[1;32m    185\u001b[0m     \u001b[0;32mif\u001b[0m \u001b[0misinstance\u001b[0m\u001b[0;34m(\u001b[0m\u001b[0mfilepath\u001b[0m\u001b[0;34m,\u001b[0m \u001b[0msix\u001b[0m\u001b[0;34m.\u001b[0m\u001b[0mstring_types\u001b[0m\u001b[0;34m)\u001b[0m\u001b[0;34m:\u001b[0m\u001b[0;34m\u001b[0m\u001b[0;34m\u001b[0m\u001b[0m\n\u001b[1;32m    186\u001b[0m       \u001b[0mloader_impl\u001b[0m\u001b[0;34m.\u001b[0m\u001b[0mparse_saved_model\u001b[0m\u001b[0;34m(\u001b[0m\u001b[0mfilepath\u001b[0m\u001b[0;34m)\u001b[0m\u001b[0;34m\u001b[0m\u001b[0;34m\u001b[0m\u001b[0m\n\u001b[0;32m--> 187\u001b[0;31m       \u001b[0;32mreturn\u001b[0m \u001b[0msaved_model_load\u001b[0m\u001b[0;34m.\u001b[0m\u001b[0mload\u001b[0m\u001b[0;34m(\u001b[0m\u001b[0mfilepath\u001b[0m\u001b[0;34m,\u001b[0m \u001b[0mcompile\u001b[0m\u001b[0;34m,\u001b[0m \u001b[0moptions\u001b[0m\u001b[0;34m)\u001b[0m\u001b[0;34m\u001b[0m\u001b[0;34m\u001b[0m\u001b[0m\n\u001b[0m\u001b[1;32m    188\u001b[0m \u001b[0;34m\u001b[0m\u001b[0m\n\u001b[1;32m    189\u001b[0m   raise IOError(\n",
      "\u001b[0;32m/opt/conda/lib/python3.7/site-packages/tensorflow/python/keras/saving/saved_model/load.py\u001b[0m in \u001b[0;36mload\u001b[0;34m(path, compile, options)\u001b[0m\n\u001b[1;32m    119\u001b[0m \u001b[0;34m\u001b[0m\u001b[0m\n\u001b[1;32m    120\u001b[0m   model = tf_load.load_internal(\n\u001b[0;32m--> 121\u001b[0;31m       path, options=options, loader_cls=KerasObjectLoader)\n\u001b[0m\u001b[1;32m    122\u001b[0m \u001b[0;34m\u001b[0m\u001b[0m\n\u001b[1;32m    123\u001b[0m   \u001b[0;31m# pylint: disable=protected-access\u001b[0m\u001b[0;34m\u001b[0m\u001b[0;34m\u001b[0m\u001b[0;34m\u001b[0m\u001b[0m\n",
      "\u001b[0;32m/opt/conda/lib/python3.7/site-packages/tensorflow/python/saved_model/load.py\u001b[0m in \u001b[0;36mload_internal\u001b[0;34m(export_dir, tags, options, loader_cls)\u001b[0m\n\u001b[1;32m    631\u001b[0m       \u001b[0;32mtry\u001b[0m\u001b[0;34m:\u001b[0m\u001b[0;34m\u001b[0m\u001b[0;34m\u001b[0m\u001b[0m\n\u001b[1;32m    632\u001b[0m         loader = loader_cls(object_graph_proto, saved_model_proto, export_dir,\n\u001b[0;32m--> 633\u001b[0;31m                             ckpt_options)\n\u001b[0m\u001b[1;32m    634\u001b[0m       \u001b[0;32mexcept\u001b[0m \u001b[0merrors\u001b[0m\u001b[0;34m.\u001b[0m\u001b[0mNotFoundError\u001b[0m \u001b[0;32mas\u001b[0m \u001b[0merr\u001b[0m\u001b[0;34m:\u001b[0m\u001b[0;34m\u001b[0m\u001b[0;34m\u001b[0m\u001b[0m\n\u001b[1;32m    635\u001b[0m         raise FileNotFoundError(\n",
      "\u001b[0;32m/opt/conda/lib/python3.7/site-packages/tensorflow/python/keras/saving/saved_model/load.py\u001b[0m in \u001b[0;36m__init__\u001b[0;34m(self, *args, **kwargs)\u001b[0m\n\u001b[1;32m    192\u001b[0m     \u001b[0mself\u001b[0m\u001b[0;34m.\u001b[0m\u001b[0m_models_to_reconstruct\u001b[0m \u001b[0;34m=\u001b[0m \u001b[0;34m[\u001b[0m\u001b[0;34m]\u001b[0m\u001b[0;34m\u001b[0m\u001b[0;34m\u001b[0m\u001b[0m\n\u001b[1;32m    193\u001b[0m \u001b[0;34m\u001b[0m\u001b[0m\n\u001b[0;32m--> 194\u001b[0;31m     \u001b[0msuper\u001b[0m\u001b[0;34m(\u001b[0m\u001b[0mKerasObjectLoader\u001b[0m\u001b[0;34m,\u001b[0m \u001b[0mself\u001b[0m\u001b[0;34m)\u001b[0m\u001b[0;34m.\u001b[0m\u001b[0m__init__\u001b[0m\u001b[0;34m(\u001b[0m\u001b[0;34m*\u001b[0m\u001b[0margs\u001b[0m\u001b[0;34m,\u001b[0m \u001b[0;34m**\u001b[0m\u001b[0mkwargs\u001b[0m\u001b[0;34m)\u001b[0m\u001b[0;34m\u001b[0m\u001b[0;34m\u001b[0m\u001b[0m\n\u001b[0m\u001b[1;32m    195\u001b[0m \u001b[0;34m\u001b[0m\u001b[0m\n\u001b[1;32m    196\u001b[0m     \u001b[0;31m# Now that the node object has been fully loaded, and the checkpoint has\u001b[0m\u001b[0;34m\u001b[0m\u001b[0;34m\u001b[0m\u001b[0;34m\u001b[0m\u001b[0m\n",
      "\u001b[0;32m/opt/conda/lib/python3.7/site-packages/tensorflow/python/saved_model/load.py\u001b[0m in \u001b[0;36m__init__\u001b[0;34m(self, object_graph_proto, saved_model_proto, export_dir, ckpt_options)\u001b[0m\n\u001b[1;32m    128\u001b[0m       \u001b[0mself\u001b[0m\u001b[0;34m.\u001b[0m\u001b[0m_concrete_functions\u001b[0m\u001b[0;34m[\u001b[0m\u001b[0mname\u001b[0m\u001b[0;34m]\u001b[0m \u001b[0;34m=\u001b[0m \u001b[0m_WrapperFunction\u001b[0m\u001b[0;34m(\u001b[0m\u001b[0mconcrete_function\u001b[0m\u001b[0;34m)\u001b[0m\u001b[0;34m\u001b[0m\u001b[0;34m\u001b[0m\u001b[0m\n\u001b[1;32m    129\u001b[0m \u001b[0;34m\u001b[0m\u001b[0m\n\u001b[0;32m--> 130\u001b[0;31m     \u001b[0mself\u001b[0m\u001b[0;34m.\u001b[0m\u001b[0m_load_all\u001b[0m\u001b[0;34m(\u001b[0m\u001b[0;34m)\u001b[0m\u001b[0;34m\u001b[0m\u001b[0;34m\u001b[0m\u001b[0m\n\u001b[0m\u001b[1;32m    131\u001b[0m     \u001b[0mself\u001b[0m\u001b[0;34m.\u001b[0m\u001b[0m_restore_checkpoint\u001b[0m\u001b[0;34m(\u001b[0m\u001b[0;34m)\u001b[0m\u001b[0;34m\u001b[0m\u001b[0;34m\u001b[0m\u001b[0m\n\u001b[1;32m    132\u001b[0m \u001b[0;34m\u001b[0m\u001b[0m\n",
      "\u001b[0;32m/opt/conda/lib/python3.7/site-packages/tensorflow/python/keras/saving/saved_model/load.py\u001b[0m in \u001b[0;36m_load_all\u001b[0;34m(self)\u001b[0m\n\u001b[1;32m    213\u001b[0m     \u001b[0;31m# loaded from config may create variables / other objects during\u001b[0m\u001b[0;34m\u001b[0m\u001b[0;34m\u001b[0m\u001b[0;34m\u001b[0m\u001b[0m\n\u001b[1;32m    214\u001b[0m     \u001b[0;31m# initialization. These are recorded in `_nodes_recreated_from_config`.\u001b[0m\u001b[0;34m\u001b[0m\u001b[0;34m\u001b[0m\u001b[0;34m\u001b[0m\u001b[0m\n\u001b[0;32m--> 215\u001b[0;31m     \u001b[0mself\u001b[0m\u001b[0;34m.\u001b[0m\u001b[0m_layer_nodes\u001b[0m \u001b[0;34m=\u001b[0m \u001b[0mself\u001b[0m\u001b[0;34m.\u001b[0m\u001b[0m_load_layers\u001b[0m\u001b[0;34m(\u001b[0m\u001b[0;34m)\u001b[0m\u001b[0;34m\u001b[0m\u001b[0;34m\u001b[0m\u001b[0m\n\u001b[0m\u001b[1;32m    216\u001b[0m \u001b[0;34m\u001b[0m\u001b[0m\n\u001b[1;32m    217\u001b[0m     \u001b[0;31m# Load all other nodes and functions.\u001b[0m\u001b[0;34m\u001b[0m\u001b[0;34m\u001b[0m\u001b[0;34m\u001b[0m\u001b[0m\n",
      "\u001b[0;32m/opt/conda/lib/python3.7/site-packages/tensorflow/python/keras/saving/saved_model/load.py\u001b[0m in \u001b[0;36m_load_layers\u001b[0;34m(self)\u001b[0m\n\u001b[1;32m    313\u001b[0m         \u001b[0;32mcontinue\u001b[0m\u001b[0;34m\u001b[0m\u001b[0;34m\u001b[0m\u001b[0m\n\u001b[1;32m    314\u001b[0m \u001b[0;34m\u001b[0m\u001b[0m\n\u001b[0;32m--> 315\u001b[0;31m       \u001b[0mlayers\u001b[0m\u001b[0;34m[\u001b[0m\u001b[0mnode_id\u001b[0m\u001b[0;34m]\u001b[0m \u001b[0;34m=\u001b[0m \u001b[0mself\u001b[0m\u001b[0;34m.\u001b[0m\u001b[0m_load_layer\u001b[0m\u001b[0;34m(\u001b[0m\u001b[0mproto\u001b[0m\u001b[0;34m.\u001b[0m\u001b[0muser_object\u001b[0m\u001b[0;34m,\u001b[0m \u001b[0mnode_id\u001b[0m\u001b[0;34m)\u001b[0m\u001b[0;34m\u001b[0m\u001b[0;34m\u001b[0m\u001b[0m\n\u001b[0m\u001b[1;32m    316\u001b[0m \u001b[0;34m\u001b[0m\u001b[0m\n\u001b[1;32m    317\u001b[0m     \u001b[0;32mfor\u001b[0m \u001b[0mnode_id\u001b[0m\u001b[0;34m,\u001b[0m \u001b[0mproto\u001b[0m \u001b[0;32min\u001b[0m \u001b[0mmetric_list\u001b[0m\u001b[0;34m:\u001b[0m\u001b[0;34m\u001b[0m\u001b[0;34m\u001b[0m\u001b[0m\n",
      "\u001b[0;32m/opt/conda/lib/python3.7/site-packages/tensorflow/python/keras/saving/saved_model/load.py\u001b[0m in \u001b[0;36m_load_layer\u001b[0;34m(self, proto, node_id)\u001b[0m\n\u001b[1;32m    339\u001b[0m     \u001b[0;31m# Detect whether this object can be revived from the config. If not, then\u001b[0m\u001b[0;34m\u001b[0m\u001b[0;34m\u001b[0m\u001b[0;34m\u001b[0m\u001b[0m\n\u001b[1;32m    340\u001b[0m     \u001b[0;31m# revive from the SavedModel instead.\u001b[0m\u001b[0;34m\u001b[0m\u001b[0;34m\u001b[0m\u001b[0;34m\u001b[0m\u001b[0m\n\u001b[0;32m--> 341\u001b[0;31m     \u001b[0mobj\u001b[0m\u001b[0;34m,\u001b[0m \u001b[0msetter\u001b[0m \u001b[0;34m=\u001b[0m \u001b[0mself\u001b[0m\u001b[0;34m.\u001b[0m\u001b[0m_revive_from_config\u001b[0m\u001b[0;34m(\u001b[0m\u001b[0mproto\u001b[0m\u001b[0;34m.\u001b[0m\u001b[0midentifier\u001b[0m\u001b[0;34m,\u001b[0m \u001b[0mmetadata\u001b[0m\u001b[0;34m,\u001b[0m \u001b[0mnode_id\u001b[0m\u001b[0;34m)\u001b[0m\u001b[0;34m\u001b[0m\u001b[0;34m\u001b[0m\u001b[0m\n\u001b[0m\u001b[1;32m    342\u001b[0m     \u001b[0;32mif\u001b[0m \u001b[0mobj\u001b[0m \u001b[0;32mis\u001b[0m \u001b[0;32mNone\u001b[0m\u001b[0;34m:\u001b[0m\u001b[0;34m\u001b[0m\u001b[0;34m\u001b[0m\u001b[0m\n\u001b[1;32m    343\u001b[0m       \u001b[0mobj\u001b[0m\u001b[0;34m,\u001b[0m \u001b[0msetter\u001b[0m \u001b[0;34m=\u001b[0m \u001b[0mrevive_custom_object\u001b[0m\u001b[0;34m(\u001b[0m\u001b[0mproto\u001b[0m\u001b[0;34m.\u001b[0m\u001b[0midentifier\u001b[0m\u001b[0;34m,\u001b[0m \u001b[0mmetadata\u001b[0m\u001b[0;34m)\u001b[0m\u001b[0;34m\u001b[0m\u001b[0;34m\u001b[0m\u001b[0m\n",
      "\u001b[0;32m/opt/conda/lib/python3.7/site-packages/tensorflow/python/keras/saving/saved_model/load.py\u001b[0m in \u001b[0;36m_revive_from_config\u001b[0;34m(self, identifier, metadata, node_id)\u001b[0m\n\u001b[1;32m    357\u001b[0m       obj = (\n\u001b[1;32m    358\u001b[0m           \u001b[0mself\u001b[0m\u001b[0;34m.\u001b[0m\u001b[0m_revive_graph_network\u001b[0m\u001b[0;34m(\u001b[0m\u001b[0mmetadata\u001b[0m\u001b[0;34m,\u001b[0m \u001b[0mnode_id\u001b[0m\u001b[0;34m)\u001b[0m \u001b[0;32mor\u001b[0m\u001b[0;34m\u001b[0m\u001b[0;34m\u001b[0m\u001b[0m\n\u001b[0;32m--> 359\u001b[0;31m           self._revive_layer_from_config(metadata, node_id))\n\u001b[0m\u001b[1;32m    360\u001b[0m \u001b[0;34m\u001b[0m\u001b[0m\n\u001b[1;32m    361\u001b[0m     \u001b[0;32mif\u001b[0m \u001b[0mobj\u001b[0m \u001b[0;32mis\u001b[0m \u001b[0;32mNone\u001b[0m\u001b[0;34m:\u001b[0m\u001b[0;34m\u001b[0m\u001b[0;34m\u001b[0m\u001b[0m\n",
      "\u001b[0;32m/opt/conda/lib/python3.7/site-packages/tensorflow/python/keras/saving/saved_model/load.py\u001b[0m in \u001b[0;36m_revive_layer_from_config\u001b[0;34m(self, metadata, node_id)\u001b[0m\n\u001b[1;32m    443\u001b[0m \u001b[0;34m\u001b[0m\u001b[0m\n\u001b[1;32m    444\u001b[0m     \u001b[0mbuild_input_shape\u001b[0m \u001b[0;34m=\u001b[0m \u001b[0mmetadata\u001b[0m\u001b[0;34m.\u001b[0m\u001b[0mget\u001b[0m\u001b[0;34m(\u001b[0m\u001b[0;34m'build_input_shape'\u001b[0m\u001b[0;34m)\u001b[0m\u001b[0;34m\u001b[0m\u001b[0;34m\u001b[0m\u001b[0m\n\u001b[0;32m--> 445\u001b[0;31m     \u001b[0mbuilt\u001b[0m \u001b[0;34m=\u001b[0m \u001b[0mself\u001b[0m\u001b[0;34m.\u001b[0m\u001b[0m_try_build_layer\u001b[0m\u001b[0;34m(\u001b[0m\u001b[0mobj\u001b[0m\u001b[0;34m,\u001b[0m \u001b[0mnode_id\u001b[0m\u001b[0;34m,\u001b[0m \u001b[0mbuild_input_shape\u001b[0m\u001b[0;34m)\u001b[0m\u001b[0;34m\u001b[0m\u001b[0;34m\u001b[0m\u001b[0m\n\u001b[0m\u001b[1;32m    446\u001b[0m \u001b[0;34m\u001b[0m\u001b[0m\n\u001b[1;32m    447\u001b[0m     \u001b[0;32mif\u001b[0m \u001b[0;32mnot\u001b[0m \u001b[0mbuilt\u001b[0m\u001b[0;34m:\u001b[0m\u001b[0;34m\u001b[0m\u001b[0;34m\u001b[0m\u001b[0m\n",
      "\u001b[0;32m/opt/conda/lib/python3.7/site-packages/tensorflow/python/keras/saving/saved_model/load.py\u001b[0m in \u001b[0;36m_try_build_layer\u001b[0;34m(self, obj, node_id, build_input_shape)\u001b[0m\n\u001b[1;32m    480\u001b[0m \u001b[0;34m\u001b[0m\u001b[0m\n\u001b[1;32m    481\u001b[0m     \u001b[0;32mif\u001b[0m \u001b[0mbuild_input_shape\u001b[0m \u001b[0;32mis\u001b[0m \u001b[0;32mnot\u001b[0m \u001b[0;32mNone\u001b[0m\u001b[0;34m:\u001b[0m\u001b[0;34m\u001b[0m\u001b[0;34m\u001b[0m\u001b[0m\n\u001b[0;32m--> 482\u001b[0;31m       \u001b[0mobj\u001b[0m\u001b[0;34m.\u001b[0m\u001b[0mbuild\u001b[0m\u001b[0;34m(\u001b[0m\u001b[0mbuild_input_shape\u001b[0m\u001b[0;34m)\u001b[0m\u001b[0;34m\u001b[0m\u001b[0;34m\u001b[0m\u001b[0m\n\u001b[0m\u001b[1;32m    483\u001b[0m       \u001b[0mbase_layer\u001b[0m\u001b[0;34m.\u001b[0m\u001b[0mLayer\u001b[0m\u001b[0;34m.\u001b[0m\u001b[0mbuild\u001b[0m\u001b[0;34m(\u001b[0m\u001b[0mobj\u001b[0m\u001b[0;34m,\u001b[0m \u001b[0mbuild_input_shape\u001b[0m\u001b[0;34m)\u001b[0m\u001b[0;34m\u001b[0m\u001b[0;34m\u001b[0m\u001b[0m\n\u001b[1;32m    484\u001b[0m       \u001b[0;32mreturn\u001b[0m \u001b[0;32mTrue\u001b[0m\u001b[0;34m\u001b[0m\u001b[0;34m\u001b[0m\u001b[0m\n",
      "\u001b[0;32m/opt/conda/lib/python3.7/site-packages/tensorflow/python/keras/layers/convolutional.py\u001b[0m in \u001b[0;36mbuild\u001b[0;34m(self, input_shape)\u001b[0m\n\u001b[1;32m    202\u001b[0m         \u001b[0mconstraint\u001b[0m\u001b[0;34m=\u001b[0m\u001b[0mself\u001b[0m\u001b[0;34m.\u001b[0m\u001b[0mkernel_constraint\u001b[0m\u001b[0;34m,\u001b[0m\u001b[0;34m\u001b[0m\u001b[0;34m\u001b[0m\u001b[0m\n\u001b[1;32m    203\u001b[0m         \u001b[0mtrainable\u001b[0m\u001b[0;34m=\u001b[0m\u001b[0;32mTrue\u001b[0m\u001b[0;34m,\u001b[0m\u001b[0;34m\u001b[0m\u001b[0;34m\u001b[0m\u001b[0m\n\u001b[0;32m--> 204\u001b[0;31m         dtype=self.dtype)\n\u001b[0m\u001b[1;32m    205\u001b[0m     \u001b[0;32mif\u001b[0m \u001b[0mself\u001b[0m\u001b[0;34m.\u001b[0m\u001b[0muse_bias\u001b[0m\u001b[0;34m:\u001b[0m\u001b[0;34m\u001b[0m\u001b[0;34m\u001b[0m\u001b[0m\n\u001b[1;32m    206\u001b[0m       self.bias = self.add_weight(\n",
      "\u001b[0;32m/opt/conda/lib/python3.7/site-packages/tensorflow/python/keras/engine/base_layer.py\u001b[0m in \u001b[0;36madd_weight\u001b[0;34m(self, name, shape, dtype, initializer, regularizer, trainable, constraint, partitioner, use_resource, synchronization, aggregation, **kwargs)\u001b[0m\n\u001b[1;32m    612\u001b[0m         \u001b[0msynchronization\u001b[0m\u001b[0;34m=\u001b[0m\u001b[0msynchronization\u001b[0m\u001b[0;34m,\u001b[0m\u001b[0;34m\u001b[0m\u001b[0;34m\u001b[0m\u001b[0m\n\u001b[1;32m    613\u001b[0m         \u001b[0maggregation\u001b[0m\u001b[0;34m=\u001b[0m\u001b[0maggregation\u001b[0m\u001b[0;34m,\u001b[0m\u001b[0;34m\u001b[0m\u001b[0;34m\u001b[0m\u001b[0m\n\u001b[0;32m--> 614\u001b[0;31m         caching_device=caching_device)\n\u001b[0m\u001b[1;32m    615\u001b[0m     \u001b[0;32mif\u001b[0m \u001b[0mregularizer\u001b[0m \u001b[0;32mis\u001b[0m \u001b[0;32mnot\u001b[0m \u001b[0;32mNone\u001b[0m\u001b[0;34m:\u001b[0m\u001b[0;34m\u001b[0m\u001b[0;34m\u001b[0m\u001b[0m\n\u001b[1;32m    616\u001b[0m       \u001b[0;31m# TODO(fchollet): in the future, this should be handled at the\u001b[0m\u001b[0;34m\u001b[0m\u001b[0;34m\u001b[0m\u001b[0;34m\u001b[0m\u001b[0m\n",
      "\u001b[0;32m/opt/conda/lib/python3.7/site-packages/tensorflow/python/training/tracking/base.py\u001b[0m in \u001b[0;36m_add_variable_with_custom_getter\u001b[0;34m(self, name, shape, dtype, initializer, getter, overwrite, **kwargs_for_getter)\u001b[0m\n\u001b[1;32m    748\u001b[0m         \u001b[0mdtype\u001b[0m\u001b[0;34m=\u001b[0m\u001b[0mdtype\u001b[0m\u001b[0;34m,\u001b[0m\u001b[0;34m\u001b[0m\u001b[0;34m\u001b[0m\u001b[0m\n\u001b[1;32m    749\u001b[0m         \u001b[0minitializer\u001b[0m\u001b[0;34m=\u001b[0m\u001b[0minitializer\u001b[0m\u001b[0;34m,\u001b[0m\u001b[0;34m\u001b[0m\u001b[0;34m\u001b[0m\u001b[0m\n\u001b[0;32m--> 750\u001b[0;31m         **kwargs_for_getter)\n\u001b[0m\u001b[1;32m    751\u001b[0m \u001b[0;34m\u001b[0m\u001b[0m\n\u001b[1;32m    752\u001b[0m     \u001b[0;31m# If we set an initializer and the variable processed it, tracking will not\u001b[0m\u001b[0;34m\u001b[0m\u001b[0;34m\u001b[0m\u001b[0;34m\u001b[0m\u001b[0m\n",
      "\u001b[0;32m/opt/conda/lib/python3.7/site-packages/tensorflow/python/keras/engine/base_layer_utils.py\u001b[0m in \u001b[0;36mmake_variable\u001b[0;34m(name, shape, dtype, initializer, trainable, caching_device, validate_shape, constraint, use_resource, collections, synchronization, aggregation, partitioner)\u001b[0m\n\u001b[1;32m    143\u001b[0m       \u001b[0msynchronization\u001b[0m\u001b[0;34m=\u001b[0m\u001b[0msynchronization\u001b[0m\u001b[0;34m,\u001b[0m\u001b[0;34m\u001b[0m\u001b[0;34m\u001b[0m\u001b[0m\n\u001b[1;32m    144\u001b[0m       \u001b[0maggregation\u001b[0m\u001b[0;34m=\u001b[0m\u001b[0maggregation\u001b[0m\u001b[0;34m,\u001b[0m\u001b[0;34m\u001b[0m\u001b[0;34m\u001b[0m\u001b[0m\n\u001b[0;32m--> 145\u001b[0;31m       shape=variable_shape if variable_shape else None)\n\u001b[0m\u001b[1;32m    146\u001b[0m \u001b[0;34m\u001b[0m\u001b[0m\n\u001b[1;32m    147\u001b[0m \u001b[0;34m\u001b[0m\u001b[0m\n",
      "\u001b[0;32m/opt/conda/lib/python3.7/site-packages/tensorflow/python/ops/variables.py\u001b[0m in \u001b[0;36m__call__\u001b[0;34m(cls, *args, **kwargs)\u001b[0m\n\u001b[1;32m    258\u001b[0m   \u001b[0;32mdef\u001b[0m \u001b[0m__call__\u001b[0m\u001b[0;34m(\u001b[0m\u001b[0mcls\u001b[0m\u001b[0;34m,\u001b[0m \u001b[0;34m*\u001b[0m\u001b[0margs\u001b[0m\u001b[0;34m,\u001b[0m \u001b[0;34m**\u001b[0m\u001b[0mkwargs\u001b[0m\u001b[0;34m)\u001b[0m\u001b[0;34m:\u001b[0m\u001b[0;34m\u001b[0m\u001b[0;34m\u001b[0m\u001b[0m\n\u001b[1;32m    259\u001b[0m     \u001b[0;32mif\u001b[0m \u001b[0mcls\u001b[0m \u001b[0;32mis\u001b[0m \u001b[0mVariableV1\u001b[0m\u001b[0;34m:\u001b[0m\u001b[0;34m\u001b[0m\u001b[0;34m\u001b[0m\u001b[0m\n\u001b[0;32m--> 260\u001b[0;31m       \u001b[0;32mreturn\u001b[0m \u001b[0mcls\u001b[0m\u001b[0;34m.\u001b[0m\u001b[0m_variable_v1_call\u001b[0m\u001b[0;34m(\u001b[0m\u001b[0;34m*\u001b[0m\u001b[0margs\u001b[0m\u001b[0;34m,\u001b[0m \u001b[0;34m**\u001b[0m\u001b[0mkwargs\u001b[0m\u001b[0;34m)\u001b[0m\u001b[0;34m\u001b[0m\u001b[0;34m\u001b[0m\u001b[0m\n\u001b[0m\u001b[1;32m    261\u001b[0m     \u001b[0;32melif\u001b[0m \u001b[0mcls\u001b[0m \u001b[0;32mis\u001b[0m \u001b[0mVariable\u001b[0m\u001b[0;34m:\u001b[0m\u001b[0;34m\u001b[0m\u001b[0;34m\u001b[0m\u001b[0m\n\u001b[1;32m    262\u001b[0m       \u001b[0;32mreturn\u001b[0m \u001b[0mcls\u001b[0m\u001b[0;34m.\u001b[0m\u001b[0m_variable_v2_call\u001b[0m\u001b[0;34m(\u001b[0m\u001b[0;34m*\u001b[0m\u001b[0margs\u001b[0m\u001b[0;34m,\u001b[0m \u001b[0;34m**\u001b[0m\u001b[0mkwargs\u001b[0m\u001b[0;34m)\u001b[0m\u001b[0;34m\u001b[0m\u001b[0;34m\u001b[0m\u001b[0m\n",
      "\u001b[0;32m/opt/conda/lib/python3.7/site-packages/tensorflow/python/ops/variables.py\u001b[0m in \u001b[0;36m_variable_v1_call\u001b[0;34m(cls, initial_value, trainable, collections, validate_shape, caching_device, name, variable_def, dtype, expected_shape, import_scope, constraint, use_resource, synchronization, aggregation, shape)\u001b[0m\n\u001b[1;32m    219\u001b[0m         \u001b[0msynchronization\u001b[0m\u001b[0;34m=\u001b[0m\u001b[0msynchronization\u001b[0m\u001b[0;34m,\u001b[0m\u001b[0;34m\u001b[0m\u001b[0;34m\u001b[0m\u001b[0m\n\u001b[1;32m    220\u001b[0m         \u001b[0maggregation\u001b[0m\u001b[0;34m=\u001b[0m\u001b[0maggregation\u001b[0m\u001b[0;34m,\u001b[0m\u001b[0;34m\u001b[0m\u001b[0;34m\u001b[0m\u001b[0m\n\u001b[0;32m--> 221\u001b[0;31m         shape=shape)\n\u001b[0m\u001b[1;32m    222\u001b[0m \u001b[0;34m\u001b[0m\u001b[0m\n\u001b[1;32m    223\u001b[0m   def _variable_v2_call(cls,\n",
      "\u001b[0;32m/opt/conda/lib/python3.7/site-packages/tensorflow/python/ops/variables.py\u001b[0m in \u001b[0;36m<lambda>\u001b[0;34m(**kwargs)\u001b[0m\n\u001b[1;32m    197\u001b[0m                         shape=None):\n\u001b[1;32m    198\u001b[0m     \u001b[0;34m\"\"\"Call on Variable class. Useful to force the signature.\"\"\"\u001b[0m\u001b[0;34m\u001b[0m\u001b[0;34m\u001b[0m\u001b[0m\n\u001b[0;32m--> 199\u001b[0;31m     \u001b[0mprevious_getter\u001b[0m \u001b[0;34m=\u001b[0m \u001b[0;32mlambda\u001b[0m \u001b[0;34m**\u001b[0m\u001b[0mkwargs\u001b[0m\u001b[0;34m:\u001b[0m \u001b[0mdefault_variable_creator\u001b[0m\u001b[0;34m(\u001b[0m\u001b[0;32mNone\u001b[0m\u001b[0;34m,\u001b[0m \u001b[0;34m**\u001b[0m\u001b[0mkwargs\u001b[0m\u001b[0;34m)\u001b[0m\u001b[0;34m\u001b[0m\u001b[0;34m\u001b[0m\u001b[0m\n\u001b[0m\u001b[1;32m    200\u001b[0m     \u001b[0;32mfor\u001b[0m \u001b[0m_\u001b[0m\u001b[0;34m,\u001b[0m \u001b[0mgetter\u001b[0m \u001b[0;32min\u001b[0m \u001b[0mops\u001b[0m\u001b[0;34m.\u001b[0m\u001b[0mget_default_graph\u001b[0m\u001b[0;34m(\u001b[0m\u001b[0;34m)\u001b[0m\u001b[0;34m.\u001b[0m\u001b[0m_variable_creator_stack\u001b[0m\u001b[0;34m:\u001b[0m  \u001b[0;31m# pylint: disable=protected-access\u001b[0m\u001b[0;34m\u001b[0m\u001b[0;34m\u001b[0m\u001b[0m\n\u001b[1;32m    201\u001b[0m       \u001b[0mprevious_getter\u001b[0m \u001b[0;34m=\u001b[0m \u001b[0m_make_getter\u001b[0m\u001b[0;34m(\u001b[0m\u001b[0mgetter\u001b[0m\u001b[0;34m,\u001b[0m \u001b[0mprevious_getter\u001b[0m\u001b[0;34m)\u001b[0m\u001b[0;34m\u001b[0m\u001b[0;34m\u001b[0m\u001b[0m\n",
      "\u001b[0;32m/opt/conda/lib/python3.7/site-packages/tensorflow/python/ops/variable_scope.py\u001b[0m in \u001b[0;36mdefault_variable_creator\u001b[0;34m(next_creator, **kwargs)\u001b[0m\n\u001b[1;32m   2595\u001b[0m         \u001b[0msynchronization\u001b[0m\u001b[0;34m=\u001b[0m\u001b[0msynchronization\u001b[0m\u001b[0;34m,\u001b[0m\u001b[0;34m\u001b[0m\u001b[0;34m\u001b[0m\u001b[0m\n\u001b[1;32m   2596\u001b[0m         \u001b[0maggregation\u001b[0m\u001b[0;34m=\u001b[0m\u001b[0maggregation\u001b[0m\u001b[0;34m,\u001b[0m\u001b[0;34m\u001b[0m\u001b[0;34m\u001b[0m\u001b[0m\n\u001b[0;32m-> 2597\u001b[0;31m         shape=shape)\n\u001b[0m\u001b[1;32m   2598\u001b[0m   \u001b[0;32melse\u001b[0m\u001b[0;34m:\u001b[0m\u001b[0;34m\u001b[0m\u001b[0;34m\u001b[0m\u001b[0m\n\u001b[1;32m   2599\u001b[0m     return variables.RefVariable(\n",
      "\u001b[0;32m/opt/conda/lib/python3.7/site-packages/tensorflow/python/ops/variables.py\u001b[0m in \u001b[0;36m__call__\u001b[0;34m(cls, *args, **kwargs)\u001b[0m\n\u001b[1;32m    262\u001b[0m       \u001b[0;32mreturn\u001b[0m \u001b[0mcls\u001b[0m\u001b[0;34m.\u001b[0m\u001b[0m_variable_v2_call\u001b[0m\u001b[0;34m(\u001b[0m\u001b[0;34m*\u001b[0m\u001b[0margs\u001b[0m\u001b[0;34m,\u001b[0m \u001b[0;34m**\u001b[0m\u001b[0mkwargs\u001b[0m\u001b[0;34m)\u001b[0m\u001b[0;34m\u001b[0m\u001b[0;34m\u001b[0m\u001b[0m\n\u001b[1;32m    263\u001b[0m     \u001b[0;32melse\u001b[0m\u001b[0;34m:\u001b[0m\u001b[0;34m\u001b[0m\u001b[0;34m\u001b[0m\u001b[0m\n\u001b[0;32m--> 264\u001b[0;31m       \u001b[0;32mreturn\u001b[0m \u001b[0msuper\u001b[0m\u001b[0;34m(\u001b[0m\u001b[0mVariableMetaclass\u001b[0m\u001b[0;34m,\u001b[0m \u001b[0mcls\u001b[0m\u001b[0;34m)\u001b[0m\u001b[0;34m.\u001b[0m\u001b[0m__call__\u001b[0m\u001b[0;34m(\u001b[0m\u001b[0;34m*\u001b[0m\u001b[0margs\u001b[0m\u001b[0;34m,\u001b[0m \u001b[0;34m**\u001b[0m\u001b[0mkwargs\u001b[0m\u001b[0;34m)\u001b[0m\u001b[0;34m\u001b[0m\u001b[0;34m\u001b[0m\u001b[0m\n\u001b[0m\u001b[1;32m    265\u001b[0m \u001b[0;34m\u001b[0m\u001b[0m\n\u001b[1;32m    266\u001b[0m \u001b[0;34m\u001b[0m\u001b[0m\n",
      "\u001b[0;32m/opt/conda/lib/python3.7/site-packages/tensorflow/python/ops/resource_variable_ops.py\u001b[0m in \u001b[0;36m__init__\u001b[0;34m(self, initial_value, trainable, collections, validate_shape, caching_device, name, dtype, variable_def, import_scope, constraint, distribute_strategy, synchronization, aggregation, shape)\u001b[0m\n\u001b[1;32m   1516\u001b[0m           \u001b[0maggregation\u001b[0m\u001b[0;34m=\u001b[0m\u001b[0maggregation\u001b[0m\u001b[0;34m,\u001b[0m\u001b[0;34m\u001b[0m\u001b[0;34m\u001b[0m\u001b[0m\n\u001b[1;32m   1517\u001b[0m           \u001b[0mshape\u001b[0m\u001b[0;34m=\u001b[0m\u001b[0mshape\u001b[0m\u001b[0;34m,\u001b[0m\u001b[0;34m\u001b[0m\u001b[0;34m\u001b[0m\u001b[0m\n\u001b[0;32m-> 1518\u001b[0;31m           distribute_strategy=distribute_strategy)\n\u001b[0m\u001b[1;32m   1519\u001b[0m \u001b[0;34m\u001b[0m\u001b[0m\n\u001b[1;32m   1520\u001b[0m   def _init_from_args(self,\n",
      "\u001b[0;32m/opt/conda/lib/python3.7/site-packages/tensorflow/python/ops/resource_variable_ops.py\u001b[0m in \u001b[0;36m_init_from_args\u001b[0;34m(self, initial_value, trainable, collections, caching_device, name, dtype, constraint, synchronization, aggregation, distribute_strategy, shape)\u001b[0m\n\u001b[1;32m   1649\u001b[0m           \u001b[0;32mwith\u001b[0m \u001b[0mops\u001b[0m\u001b[0;34m.\u001b[0m\u001b[0mname_scope\u001b[0m\u001b[0;34m(\u001b[0m\u001b[0;34m\"Initializer\"\u001b[0m\u001b[0;34m)\u001b[0m\u001b[0;34m,\u001b[0m \u001b[0mdevice_context_manager\u001b[0m\u001b[0;34m(\u001b[0m\u001b[0;32mNone\u001b[0m\u001b[0;34m)\u001b[0m\u001b[0;34m:\u001b[0m\u001b[0;34m\u001b[0m\u001b[0;34m\u001b[0m\u001b[0m\n\u001b[1;32m   1650\u001b[0m             initial_value = ops.convert_to_tensor(\n\u001b[0;32m-> 1651\u001b[0;31m                 \u001b[0minitial_value\u001b[0m\u001b[0;34m(\u001b[0m\u001b[0;34m)\u001b[0m \u001b[0;32mif\u001b[0m \u001b[0minit_from_fn\u001b[0m \u001b[0;32melse\u001b[0m \u001b[0minitial_value\u001b[0m\u001b[0;34m,\u001b[0m\u001b[0;34m\u001b[0m\u001b[0;34m\u001b[0m\u001b[0m\n\u001b[0m\u001b[1;32m   1652\u001b[0m                 name=\"initial_value\", dtype=dtype)\n\u001b[1;32m   1653\u001b[0m           \u001b[0;32mif\u001b[0m \u001b[0mshape\u001b[0m \u001b[0;32mis\u001b[0m \u001b[0;32mnot\u001b[0m \u001b[0;32mNone\u001b[0m\u001b[0;34m:\u001b[0m\u001b[0;34m\u001b[0m\u001b[0;34m\u001b[0m\u001b[0m\n",
      "\u001b[0;32m/opt/conda/lib/python3.7/site-packages/tensorflow/python/keras/initializers/initializers_v2.py\u001b[0m in \u001b[0;36m__call__\u001b[0;34m(self, shape, dtype)\u001b[0m\n\u001b[1;32m    395\u001b[0m        \u001b[0;34m(\u001b[0m\u001b[0mvia\u001b[0m\u001b[0;31m \u001b[0m\u001b[0;31m`\u001b[0m\u001b[0mtf\u001b[0m\u001b[0;34m.\u001b[0m\u001b[0mkeras\u001b[0m\u001b[0;34m.\u001b[0m\u001b[0mbackend\u001b[0m\u001b[0;34m.\u001b[0m\u001b[0mset_floatx\u001b[0m\u001b[0;34m(\u001b[0m\u001b[0mfloat_dtype\u001b[0m\u001b[0;34m)\u001b[0m\u001b[0;31m`\u001b[0m\u001b[0;34m)\u001b[0m\u001b[0;34m\u001b[0m\u001b[0;34m\u001b[0m\u001b[0m\n\u001b[1;32m    396\u001b[0m     \"\"\"\n\u001b[0;32m--> 397\u001b[0;31m     \u001b[0;32mreturn\u001b[0m \u001b[0msuper\u001b[0m\u001b[0;34m(\u001b[0m\u001b[0mVarianceScaling\u001b[0m\u001b[0;34m,\u001b[0m \u001b[0mself\u001b[0m\u001b[0;34m)\u001b[0m\u001b[0;34m.\u001b[0m\u001b[0m__call__\u001b[0m\u001b[0;34m(\u001b[0m\u001b[0mshape\u001b[0m\u001b[0;34m,\u001b[0m \u001b[0mdtype\u001b[0m\u001b[0;34m=\u001b[0m\u001b[0m_get_dtype\u001b[0m\u001b[0;34m(\u001b[0m\u001b[0mdtype\u001b[0m\u001b[0;34m)\u001b[0m\u001b[0;34m)\u001b[0m\u001b[0;34m\u001b[0m\u001b[0;34m\u001b[0m\u001b[0m\n\u001b[0m\u001b[1;32m    398\u001b[0m \u001b[0;34m\u001b[0m\u001b[0m\n\u001b[1;32m    399\u001b[0m \u001b[0;34m\u001b[0m\u001b[0m\n",
      "\u001b[0;32m/opt/conda/lib/python3.7/site-packages/tensorflow/python/ops/init_ops_v2.py\u001b[0m in \u001b[0;36m__call__\u001b[0;34m(self, shape, dtype)\u001b[0m\n\u001b[1;32m    559\u001b[0m     \u001b[0;32melse\u001b[0m\u001b[0;34m:\u001b[0m\u001b[0;34m\u001b[0m\u001b[0;34m\u001b[0m\u001b[0m\n\u001b[1;32m    560\u001b[0m       \u001b[0mlimit\u001b[0m \u001b[0;34m=\u001b[0m \u001b[0mmath\u001b[0m\u001b[0;34m.\u001b[0m\u001b[0msqrt\u001b[0m\u001b[0;34m(\u001b[0m\u001b[0;36m3.0\u001b[0m \u001b[0;34m*\u001b[0m \u001b[0mscale\u001b[0m\u001b[0;34m)\u001b[0m\u001b[0;34m\u001b[0m\u001b[0;34m\u001b[0m\u001b[0m\n\u001b[0;32m--> 561\u001b[0;31m       \u001b[0;32mreturn\u001b[0m \u001b[0mself\u001b[0m\u001b[0;34m.\u001b[0m\u001b[0m_random_generator\u001b[0m\u001b[0;34m.\u001b[0m\u001b[0mrandom_uniform\u001b[0m\u001b[0;34m(\u001b[0m\u001b[0mshape\u001b[0m\u001b[0;34m,\u001b[0m \u001b[0;34m-\u001b[0m\u001b[0mlimit\u001b[0m\u001b[0;34m,\u001b[0m \u001b[0mlimit\u001b[0m\u001b[0;34m,\u001b[0m \u001b[0mdtype\u001b[0m\u001b[0;34m)\u001b[0m\u001b[0;34m\u001b[0m\u001b[0;34m\u001b[0m\u001b[0m\n\u001b[0m\u001b[1;32m    562\u001b[0m \u001b[0;34m\u001b[0m\u001b[0m\n\u001b[1;32m    563\u001b[0m   \u001b[0;32mdef\u001b[0m \u001b[0mget_config\u001b[0m\u001b[0;34m(\u001b[0m\u001b[0mself\u001b[0m\u001b[0;34m)\u001b[0m\u001b[0;34m:\u001b[0m\u001b[0;34m\u001b[0m\u001b[0;34m\u001b[0m\u001b[0m\n",
      "\u001b[0;32m/opt/conda/lib/python3.7/site-packages/tensorflow/python/ops/init_ops_v2.py\u001b[0m in \u001b[0;36mrandom_uniform\u001b[0;34m(self, shape, minval, maxval, dtype)\u001b[0m\n\u001b[1;32m   1042\u001b[0m       \u001b[0mop\u001b[0m \u001b[0;34m=\u001b[0m \u001b[0mrandom_ops\u001b[0m\u001b[0;34m.\u001b[0m\u001b[0mrandom_uniform\u001b[0m\u001b[0;34m\u001b[0m\u001b[0;34m\u001b[0m\u001b[0m\n\u001b[1;32m   1043\u001b[0m     return op(\n\u001b[0;32m-> 1044\u001b[0;31m         shape=shape, minval=minval, maxval=maxval, dtype=dtype, seed=self.seed)\n\u001b[0m\u001b[1;32m   1045\u001b[0m \u001b[0;34m\u001b[0m\u001b[0m\n\u001b[1;32m   1046\u001b[0m   \u001b[0;32mdef\u001b[0m \u001b[0mtruncated_normal\u001b[0m\u001b[0;34m(\u001b[0m\u001b[0mself\u001b[0m\u001b[0;34m,\u001b[0m \u001b[0mshape\u001b[0m\u001b[0;34m,\u001b[0m \u001b[0mmean\u001b[0m\u001b[0;34m,\u001b[0m \u001b[0mstddev\u001b[0m\u001b[0;34m,\u001b[0m \u001b[0mdtype\u001b[0m\u001b[0;34m)\u001b[0m\u001b[0;34m:\u001b[0m\u001b[0;34m\u001b[0m\u001b[0;34m\u001b[0m\u001b[0m\n",
      "\u001b[0;32m/opt/conda/lib/python3.7/site-packages/tensorflow/python/util/dispatch.py\u001b[0m in \u001b[0;36mwrapper\u001b[0;34m(*args, **kwargs)\u001b[0m\n\u001b[1;32m    199\u001b[0m     \u001b[0;34m\"\"\"Call target, and fall back on dispatchers if there is a TypeError.\"\"\"\u001b[0m\u001b[0;34m\u001b[0m\u001b[0;34m\u001b[0m\u001b[0m\n\u001b[1;32m    200\u001b[0m     \u001b[0;32mtry\u001b[0m\u001b[0;34m:\u001b[0m\u001b[0;34m\u001b[0m\u001b[0;34m\u001b[0m\u001b[0m\n\u001b[0;32m--> 201\u001b[0;31m       \u001b[0;32mreturn\u001b[0m \u001b[0mtarget\u001b[0m\u001b[0;34m(\u001b[0m\u001b[0;34m*\u001b[0m\u001b[0margs\u001b[0m\u001b[0;34m,\u001b[0m \u001b[0;34m**\u001b[0m\u001b[0mkwargs\u001b[0m\u001b[0;34m)\u001b[0m\u001b[0;34m\u001b[0m\u001b[0;34m\u001b[0m\u001b[0m\n\u001b[0m\u001b[1;32m    202\u001b[0m     \u001b[0;32mexcept\u001b[0m \u001b[0;34m(\u001b[0m\u001b[0mTypeError\u001b[0m\u001b[0;34m,\u001b[0m \u001b[0mValueError\u001b[0m\u001b[0;34m)\u001b[0m\u001b[0;34m:\u001b[0m\u001b[0;34m\u001b[0m\u001b[0;34m\u001b[0m\u001b[0m\n\u001b[1;32m    203\u001b[0m       \u001b[0;31m# Note: convert_to_eager_tensor currently raises a ValueError, not a\u001b[0m\u001b[0;34m\u001b[0m\u001b[0;34m\u001b[0m\u001b[0;34m\u001b[0m\u001b[0m\n",
      "\u001b[0;32m/opt/conda/lib/python3.7/site-packages/tensorflow/python/ops/random_ops.py\u001b[0m in \u001b[0;36mrandom_uniform\u001b[0;34m(shape, minval, maxval, dtype, seed, name)\u001b[0m\n\u001b[1;32m    300\u001b[0m     \u001b[0;32melse\u001b[0m\u001b[0;34m:\u001b[0m\u001b[0;34m\u001b[0m\u001b[0;34m\u001b[0m\u001b[0m\n\u001b[1;32m    301\u001b[0m       result = gen_random_ops.random_uniform(\n\u001b[0;32m--> 302\u001b[0;31m           shape, dtype, seed=seed1, seed2=seed2)\n\u001b[0m\u001b[1;32m    303\u001b[0m       \u001b[0;32mif\u001b[0m \u001b[0mminval_is_zero\u001b[0m\u001b[0;34m:\u001b[0m\u001b[0;34m\u001b[0m\u001b[0;34m\u001b[0m\u001b[0m\n\u001b[1;32m    304\u001b[0m         \u001b[0;32mif\u001b[0m \u001b[0;32mnot\u001b[0m \u001b[0mmaxval_is_one\u001b[0m\u001b[0;34m:\u001b[0m\u001b[0;34m\u001b[0m\u001b[0;34m\u001b[0m\u001b[0m\n",
      "\u001b[0;32m/opt/conda/lib/python3.7/site-packages/tensorflow/python/ops/gen_random_ops.py\u001b[0m in \u001b[0;36mrandom_uniform\u001b[0;34m(shape, dtype, seed, seed2, name)\u001b[0m\n\u001b[1;32m    724\u001b[0m       \u001b[0;32mreturn\u001b[0m \u001b[0m_result\u001b[0m\u001b[0;34m\u001b[0m\u001b[0;34m\u001b[0m\u001b[0m\n\u001b[1;32m    725\u001b[0m     \u001b[0;32mexcept\u001b[0m \u001b[0m_core\u001b[0m\u001b[0;34m.\u001b[0m\u001b[0m_NotOkStatusException\u001b[0m \u001b[0;32mas\u001b[0m \u001b[0me\u001b[0m\u001b[0;34m:\u001b[0m\u001b[0;34m\u001b[0m\u001b[0;34m\u001b[0m\u001b[0m\n\u001b[0;32m--> 726\u001b[0;31m       \u001b[0m_ops\u001b[0m\u001b[0;34m.\u001b[0m\u001b[0mraise_from_not_ok_status\u001b[0m\u001b[0;34m(\u001b[0m\u001b[0me\u001b[0m\u001b[0;34m,\u001b[0m \u001b[0mname\u001b[0m\u001b[0;34m)\u001b[0m\u001b[0;34m\u001b[0m\u001b[0;34m\u001b[0m\u001b[0m\n\u001b[0m\u001b[1;32m    727\u001b[0m     \u001b[0;32mexcept\u001b[0m \u001b[0m_core\u001b[0m\u001b[0;34m.\u001b[0m\u001b[0m_FallbackException\u001b[0m\u001b[0;34m:\u001b[0m\u001b[0;34m\u001b[0m\u001b[0;34m\u001b[0m\u001b[0m\n\u001b[1;32m    728\u001b[0m       \u001b[0;32mpass\u001b[0m\u001b[0;34m\u001b[0m\u001b[0;34m\u001b[0m\u001b[0m\n",
      "\u001b[0;32m/opt/conda/lib/python3.7/site-packages/tensorflow/python/framework/ops.py\u001b[0m in \u001b[0;36mraise_from_not_ok_status\u001b[0;34m(e, name)\u001b[0m\n\u001b[1;32m   6841\u001b[0m   \u001b[0mmessage\u001b[0m \u001b[0;34m=\u001b[0m \u001b[0me\u001b[0m\u001b[0;34m.\u001b[0m\u001b[0mmessage\u001b[0m \u001b[0;34m+\u001b[0m \u001b[0;34m(\u001b[0m\u001b[0;34m\" name: \"\u001b[0m \u001b[0;34m+\u001b[0m \u001b[0mname\u001b[0m \u001b[0;32mif\u001b[0m \u001b[0mname\u001b[0m \u001b[0;32mis\u001b[0m \u001b[0;32mnot\u001b[0m \u001b[0;32mNone\u001b[0m \u001b[0;32melse\u001b[0m \u001b[0;34m\"\"\u001b[0m\u001b[0;34m)\u001b[0m\u001b[0;34m\u001b[0m\u001b[0;34m\u001b[0m\u001b[0m\n\u001b[1;32m   6842\u001b[0m   \u001b[0;31m# pylint: disable=protected-access\u001b[0m\u001b[0;34m\u001b[0m\u001b[0;34m\u001b[0m\u001b[0;34m\u001b[0m\u001b[0m\n\u001b[0;32m-> 6843\u001b[0;31m   \u001b[0msix\u001b[0m\u001b[0;34m.\u001b[0m\u001b[0mraise_from\u001b[0m\u001b[0;34m(\u001b[0m\u001b[0mcore\u001b[0m\u001b[0;34m.\u001b[0m\u001b[0m_status_to_exception\u001b[0m\u001b[0;34m(\u001b[0m\u001b[0me\u001b[0m\u001b[0;34m.\u001b[0m\u001b[0mcode\u001b[0m\u001b[0;34m,\u001b[0m \u001b[0mmessage\u001b[0m\u001b[0;34m)\u001b[0m\u001b[0;34m,\u001b[0m \u001b[0;32mNone\u001b[0m\u001b[0;34m)\u001b[0m\u001b[0;34m\u001b[0m\u001b[0;34m\u001b[0m\u001b[0m\n\u001b[0m\u001b[1;32m   6844\u001b[0m   \u001b[0;31m# pylint: enable=protected-access\u001b[0m\u001b[0;34m\u001b[0m\u001b[0;34m\u001b[0m\u001b[0;34m\u001b[0m\u001b[0m\n\u001b[1;32m   6845\u001b[0m \u001b[0;34m\u001b[0m\u001b[0m\n",
      "\u001b[0;32m/opt/conda/lib/python3.7/site-packages/six.py\u001b[0m in \u001b[0;36mraise_from\u001b[0;34m(value, from_value)\u001b[0m\n",
      "\u001b[0;31mResourceExhaustedError\u001b[0m: OOM when allocating tensor with shape[3,3,288,384] and type float on /job:localhost/replica:0/task:0/device:GPU:0 by allocator GPU_0_bfc [Op:RandomUniform]"
     ]
    }
   ],
   "source": [
    "# make sure to load the correct model in case you reset the kernel\n",
    "new_model = tf.keras.models.load_model(path_pred)"
   ]
  },
  {
   "cell_type": "code",
   "execution_count": null,
   "metadata": {
    "id": "DCOlCKzKa3LG"
   },
   "outputs": [],
   "source": [
    "IMG_SIZE = 224\n",
    "folder_path = cwd + \"/test/\"\n",
    "\n",
    "predictions = {}\n",
    "\n",
    "for filename in os.listdir(folder_path):\n",
    "    if filename.endswith(\".jpg\") or filename.endswith(\".JPG\"):\n",
    "        img = keras.preprocessing.image.load_img(folder_path+filename,\n",
    "                                               target_size=(IMG_SIZE, IMG_SIZE))\n",
    "        img_array = keras.preprocessing.image.img_to_array(img)/255\n",
    "        img_array = tf.expand_dims(img_array, 0)\n",
    "        pred = new_model.predict(img_array)\n",
    "        predictions[filename] = (classes[np.argmax(pred)],\n",
    "                               (\"confidance of {:.2f}%\".format(100 * np.max(pred))))\n",
    "        continue\n",
    "    else:\n",
    "        continue\n",
    "\n",
    "predictions"
   ]
  },
  {
   "cell_type": "markdown",
   "metadata": {},
   "source": [
    "# Delete training and test folder which were copied to the VM"
   ]
  },
  {
   "cell_type": "code",
   "execution_count": null,
   "metadata": {},
   "outputs": [],
   "source": [
    "# specify the directories to delete within the location\n",
    "folder_to_del = cwd + \"/training_data/\"\n",
    "\n",
    "# removing directory \n",
    "shutil.rmtree(folder_to_del, ignore_errors = False)"
   ]
  },
  {
   "cell_type": "code",
   "execution_count": 26,
   "metadata": {},
   "outputs": [],
   "source": [
    "# specify the directories to delete within the location\n",
    "folder_to_del = cwd + \"/test\"\n",
    "\n",
    "# removing directory \n",
    "shutil.rmtree(folder_to_del, ignore_errors = False)"
   ]
  }
 ],
 "metadata": {
  "accelerator": "GPU",
  "colab": {
   "collapsed_sections": [],
   "name": "InceptionV3_Training.ipynb",
   "provenance": []
  },
  "environment": {
   "name": "tf2-2-3-gpu.2-3.m59",
   "type": "gcloud",
   "uri": "gcr.io/deeplearning-platform-release/tf2-2-3-gpu.2-3:m59"
  },
  "kernelspec": {
   "display_name": "Python 3",
   "language": "python",
   "name": "python3"
  },
  "language_info": {
   "codemirror_mode": {
    "name": "ipython",
    "version": 3
   },
   "file_extension": ".py",
   "mimetype": "text/x-python",
   "name": "python",
   "nbconvert_exporter": "python",
   "pygments_lexer": "ipython3",
   "version": "3.7.8"
  }
 },
 "nbformat": 4,
 "nbformat_minor": 4
}
