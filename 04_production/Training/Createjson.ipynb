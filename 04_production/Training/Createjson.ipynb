{
 "cells": [
  {
   "cell_type": "code",
   "execution_count": 2,
   "metadata": {
    "id": "_RrqRP4GW4Vd"
   },
   "outputs": [],
   "source": [
    "from pathlib import Path\n",
    "import os\n",
    "import json\n",
    "import pandas as pd\n",
    "import numpy as np\n",
    "from google.cloud import storage"
   ]
  },
  {
   "cell_type": "markdown",
   "metadata": {
    "id": "UNxpnq0_JeFR"
   },
   "source": [
    "## Get classes from folder names"
   ]
  },
  {
   "cell_type": "code",
   "execution_count": 3,
   "metadata": {},
   "outputs": [],
   "source": [
    "client = storage.Client()\n",
    "bucket = client.get_bucket('storage_4')\n",
    "blob = bucket.blob('training_data')\n",
    "blobs = bucket.list_blobs(prefix=\"training_data\")\n",
    "\n",
    "json_dict = {}\n",
    "for blob in blobs:\n",
    "    file_path = blob.name\n",
    "    file_name = file_path.split(\"/\")[-1]\n",
    "    if (file_name.endswith(\".jpg\") or file_name.endswith(\".JPG\")):\n",
    "        p = file_path.split('/')\n",
    "        json_dict[p[-1]]=p[-2]"
   ]
  },
  {
   "cell_type": "code",
   "execution_count": 4,
   "metadata": {
    "colab": {
     "base_uri": "https://localhost:8080/"
    },
    "id": "K6X1PamJynC5",
    "outputId": "978d92dd-437f-4a71-f5da-1863ecdadaed"
   },
   "outputs": [
    {
     "name": "stdout",
     "output_type": "stream",
     "text": [
      "There are 969 images in the json.\n"
     ]
    }
   ],
   "source": [
    "print('There are {} images in the json.'.format(len(json_dict)))"
   ]
  },
  {
   "cell_type": "markdown",
   "metadata": {
    "id": "yAq41MWWU016"
   },
   "source": [
    "## Create Data Frame"
   ]
  },
  {
   "cell_type": "code",
   "execution_count": 5,
   "metadata": {
    "id": "V5MsCrwqeeIm"
   },
   "outputs": [],
   "source": [
    "json_df = pd.DataFrame.from_dict(json_dict, orient='index').reset_index()\n",
    "json_df.columns = [\"image\", \"y_true\"]\n",
    "json_df = json_df.set_index(\"image\")\n",
    "\n",
    "# json_df.columns = [\"image\", \"multi_class_label\"]\n",
    "# json_df[\"binary_label\"] = np.where(json_df['multi_class_label'] == 'crystal', \n",
    "#                                    'crystal', \n",
    "#                                    'no_crystal')"
   ]
  },
  {
   "cell_type": "code",
   "execution_count": 6,
   "metadata": {
    "colab": {
     "base_uri": "https://localhost:8080/",
     "height": 446
    },
    "id": "cX8FZ6Pwd0xb",
    "outputId": "36c0995b-8b42-4f76-c84e-ef228cb2fc53"
   },
   "outputs": [
    {
     "data": {
      "text/html": [
       "<div>\n",
       "<style scoped>\n",
       "    .dataframe tbody tr th:only-of-type {\n",
       "        vertical-align: middle;\n",
       "    }\n",
       "\n",
       "    .dataframe tbody tr th {\n",
       "        vertical-align: top;\n",
       "    }\n",
       "\n",
       "    .dataframe thead th {\n",
       "        text-align: right;\n",
       "    }\n",
       "</style>\n",
       "<table border=\"1\" class=\"dataframe\">\n",
       "  <thead>\n",
       "    <tr style=\"text-align: right;\">\n",
       "      <th></th>\n",
       "      <th>y_true</th>\n",
       "    </tr>\n",
       "    <tr>\n",
       "      <th>image</th>\n",
       "      <th></th>\n",
       "    </tr>\n",
       "  </thead>\n",
       "  <tbody>\n",
       "    <tr>\n",
       "      <th>c_image (14).jpg</th>\n",
       "      <td>crystal</td>\n",
       "    </tr>\n",
       "    <tr>\n",
       "      <th>c_image (284).jpg</th>\n",
       "      <td>crystal</td>\n",
       "    </tr>\n",
       "    <tr>\n",
       "      <th>c_image (286).jpg</th>\n",
       "      <td>crystal</td>\n",
       "    </tr>\n",
       "    <tr>\n",
       "      <th>c_image (289).jpg</th>\n",
       "      <td>crystal</td>\n",
       "    </tr>\n",
       "    <tr>\n",
       "      <th>c_image (290).jpg</th>\n",
       "      <td>crystal</td>\n",
       "    </tr>\n",
       "    <tr>\n",
       "      <th>...</th>\n",
       "      <td>...</td>\n",
       "    </tr>\n",
       "    <tr>\n",
       "      <th>no_c_ps (5).jpg</th>\n",
       "      <td>no_crystal</td>\n",
       "    </tr>\n",
       "    <tr>\n",
       "      <th>no_c_ps (6).jpg</th>\n",
       "      <td>no_crystal</td>\n",
       "    </tr>\n",
       "    <tr>\n",
       "      <th>no_c_ps (7).jpg</th>\n",
       "      <td>no_crystal</td>\n",
       "    </tr>\n",
       "    <tr>\n",
       "      <th>no_c_ps (8).jpg</th>\n",
       "      <td>no_crystal</td>\n",
       "    </tr>\n",
       "    <tr>\n",
       "      <th>no_c_ps (9).jpg</th>\n",
       "      <td>no_crystal</td>\n",
       "    </tr>\n",
       "  </tbody>\n",
       "</table>\n",
       "<p>969 rows × 1 columns</p>\n",
       "</div>"
      ],
      "text/plain": [
       "                       y_true\n",
       "image                        \n",
       "c_image (14).jpg      crystal\n",
       "c_image (284).jpg     crystal\n",
       "c_image (286).jpg     crystal\n",
       "c_image (289).jpg     crystal\n",
       "c_image (290).jpg     crystal\n",
       "...                       ...\n",
       "no_c_ps (5).jpg    no_crystal\n",
       "no_c_ps (6).jpg    no_crystal\n",
       "no_c_ps (7).jpg    no_crystal\n",
       "no_c_ps (8).jpg    no_crystal\n",
       "no_c_ps (9).jpg    no_crystal\n",
       "\n",
       "[969 rows x 1 columns]"
      ]
     },
     "execution_count": 6,
     "metadata": {},
     "output_type": "execute_result"
    }
   ],
   "source": [
    "json_df"
   ]
  },
  {
   "cell_type": "markdown",
   "metadata": {
    "id": "5LsF9qyboO4x"
   },
   "source": [
    "# Save JSON"
   ]
  },
  {
   "cell_type": "code",
   "execution_count": 7,
   "metadata": {
    "id": "WqPHb3bzzAw9"
   },
   "outputs": [],
   "source": [
    "target = \"/home/jupyter/Training/image_labels.json\"\n",
    "json_df.to_json(path_or_buf=target)"
   ]
  },
  {
   "cell_type": "markdown",
   "metadata": {
    "id": "Q8W0oOG_oTgY"
   },
   "source": [
    "# Load JSON"
   ]
  },
  {
   "cell_type": "code",
   "execution_count": 8,
   "metadata": {
    "id": "KtvG5KAGgMWE"
   },
   "outputs": [],
   "source": [
    "df_json = pd.read_json(target)"
   ]
  },
  {
   "cell_type": "code",
   "execution_count": 9,
   "metadata": {
    "colab": {
     "base_uri": "https://localhost:8080/"
    },
    "id": "kcFgQW5HhHkV",
    "outputId": "27fd6ae6-5290-4f96-e2c9-1b41dca6ab69"
   },
   "outputs": [
    {
     "data": {
      "text/html": [
       "<div>\n",
       "<style scoped>\n",
       "    .dataframe tbody tr th:only-of-type {\n",
       "        vertical-align: middle;\n",
       "    }\n",
       "\n",
       "    .dataframe tbody tr th {\n",
       "        vertical-align: top;\n",
       "    }\n",
       "\n",
       "    .dataframe thead th {\n",
       "        text-align: right;\n",
       "    }\n",
       "</style>\n",
       "<table border=\"1\" class=\"dataframe\">\n",
       "  <thead>\n",
       "    <tr style=\"text-align: right;\">\n",
       "      <th></th>\n",
       "      <th>y_true</th>\n",
       "    </tr>\n",
       "  </thead>\n",
       "  <tbody>\n",
       "    <tr>\n",
       "      <th>c_image (14).jpg</th>\n",
       "      <td>crystal</td>\n",
       "    </tr>\n",
       "    <tr>\n",
       "      <th>c_image (284).jpg</th>\n",
       "      <td>crystal</td>\n",
       "    </tr>\n",
       "    <tr>\n",
       "      <th>c_image (286).jpg</th>\n",
       "      <td>crystal</td>\n",
       "    </tr>\n",
       "    <tr>\n",
       "      <th>c_image (289).jpg</th>\n",
       "      <td>crystal</td>\n",
       "    </tr>\n",
       "    <tr>\n",
       "      <th>c_image (290).jpg</th>\n",
       "      <td>crystal</td>\n",
       "    </tr>\n",
       "  </tbody>\n",
       "</table>\n",
       "</div>"
      ],
      "text/plain": [
       "                    y_true\n",
       "c_image (14).jpg   crystal\n",
       "c_image (284).jpg  crystal\n",
       "c_image (286).jpg  crystal\n",
       "c_image (289).jpg  crystal\n",
       "c_image (290).jpg  crystal"
      ]
     },
     "execution_count": 9,
     "metadata": {},
     "output_type": "execute_result"
    }
   ],
   "source": [
    "df_json.head()"
   ]
  }
 ],
 "metadata": {
  "colab": {
   "collapsed_sections": [],
   "name": "Createjson.ipynb",
   "provenance": []
  },
  "environment": {
   "name": "tf2-2-3-gpu.2-3.m59",
   "type": "gcloud",
   "uri": "gcr.io/deeplearning-platform-release/tf2-2-3-gpu.2-3:m59"
  },
  "kernelspec": {
   "display_name": "Python 3",
   "language": "python",
   "name": "python3"
  },
  "language_info": {
   "codemirror_mode": {
    "name": "ipython",
    "version": 3
   },
   "file_extension": ".py",
   "mimetype": "text/x-python",
   "name": "python",
   "nbconvert_exporter": "python",
   "pygments_lexer": "ipython3",
   "version": "3.7.8"
  }
 },
 "nbformat": 4,
 "nbformat_minor": 4
}
